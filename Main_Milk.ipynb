{
  "nbformat": 4,
  "nbformat_minor": 0,
  "metadata": {
    "colab": {
      "name": "Main_Milk.ipynb",
      "provenance": [],
      "authorship_tag": "ABX9TyOEUcyLjyR1SV4yrF02uHle",
      "include_colab_link": true
    },
    "kernelspec": {
      "name": "python3",
      "display_name": "Python 3"
    }
  },
  "cells": [
    {
      "cell_type": "markdown",
      "metadata": {
        "id": "view-in-github",
        "colab_type": "text"
      },
      "source": [
        "<a href=\"https://colab.research.google.com/github/obeabi/DeepLearning/blob/master/Main_Milk.ipynb\" target=\"_parent\"><img src=\"https://colab.research.google.com/assets/colab-badge.svg\" alt=\"Open In Colab\"/></a>"
      ]
    },
    {
      "cell_type": "markdown",
      "metadata": {
        "id": "vnysncb5SkwO"
      },
      "source": [
        "# Forecasting monthly milk production Using RNN/LSTM\n",
        "## Written by Abiola Obembe\n",
        "## Date : 2020-10-23"
      ]
    },
    {
      "cell_type": "code",
      "metadata": {
        "id": "6fSSceUIMZH0",
        "outputId": "231e25f1-4316-428b-dd6f-a232474bd63c",
        "colab": {
          "base_uri": "https://localhost:8080/",
          "height": 706
        }
      },
      "source": [
        "# Import libarries\n",
        "! pip install dtale\n",
        "import pandas as pd\n",
        "import numpy as np\n",
        "import dtale\n",
        "import matplotlib.pyplot as plt\n",
        "%matplotlib inline"
      ],
      "execution_count": 51,
      "outputs": [
        {
          "output_type": "stream",
          "text": [
            "Requirement already satisfied: dtale in /usr/local/lib/python3.6/dist-packages (1.18.2)\n",
            "Requirement already satisfied: Flask-Compress in /usr/local/lib/python3.6/dist-packages (from dtale) (1.7.0)\n",
            "Requirement already satisfied: strsimpy in /usr/local/lib/python3.6/dist-packages (from dtale) (0.1.9)\n",
            "Requirement already satisfied: dash-daq in /usr/local/lib/python3.6/dist-packages (from dtale) (0.5.0)\n",
            "Requirement already satisfied: requests in /usr/local/lib/python3.6/dist-packages (from dtale) (2.23.0)\n",
            "Requirement already satisfied: Flask>=1.0 in /usr/local/lib/python3.6/dist-packages (from dtale) (1.1.2)\n",
            "Requirement already satisfied: lz4; python_version > \"3.0\" in /usr/local/lib/python3.6/dist-packages (from dtale) (3.1.0)\n",
            "Requirement already satisfied: flask-ngrok; python_version > \"3.0\" in /usr/local/lib/python3.6/dist-packages (from dtale) (0.0.25)\n",
            "Requirement already satisfied: six in /usr/local/lib/python3.6/dist-packages (from dtale) (1.15.0)\n",
            "Requirement already satisfied: dash>=1.5.0 in /usr/local/lib/python3.6/dist-packages (from dtale) (1.16.3)\n",
            "Requirement already satisfied: scipy in /usr/local/lib/python3.6/dist-packages (from dtale) (1.4.1)\n",
            "Requirement already satisfied: dash-colorscales in /usr/local/lib/python3.6/dist-packages (from dtale) (0.0.4)\n",
            "Requirement already satisfied: future>=0.14.0 in /usr/local/lib/python3.6/dist-packages (from dtale) (0.16.0)\n",
            "Requirement already satisfied: dash-bootstrap-components; python_version > \"3.0\" in /usr/local/lib/python3.6/dist-packages (from dtale) (0.10.7)\n",
            "Requirement already satisfied: itsdangerous in /usr/local/lib/python3.6/dist-packages (from dtale) (1.1.0)\n",
            "Requirement already satisfied: scikit-learn>='0.21.0 in /usr/local/lib/python3.6/dist-packages (from dtale) (0.22.2.post1)\n",
            "Requirement already satisfied: statsmodels in /usr/local/lib/python3.6/dist-packages (from dtale) (0.10.2)\n",
            "Requirement already satisfied: xarray in /usr/local/lib/python3.6/dist-packages (from dtale) (0.15.1)\n",
            "Requirement already satisfied: squarify in /usr/local/lib/python3.6/dist-packages (from dtale) (0.4.3)\n",
            "Requirement already satisfied: pandas in /usr/local/lib/python3.6/dist-packages (from dtale) (1.1.2)\n",
            "Requirement already satisfied: brotli in /usr/local/lib/python3.6/dist-packages (from Flask-Compress->dtale) (1.0.9)\n",
            "Requirement already satisfied: urllib3!=1.25.0,!=1.25.1,<1.26,>=1.21.1 in /usr/local/lib/python3.6/dist-packages (from requests->dtale) (1.24.3)\n",
            "Requirement already satisfied: chardet<4,>=3.0.2 in /usr/local/lib/python3.6/dist-packages (from requests->dtale) (3.0.4)\n",
            "Requirement already satisfied: certifi>=2017.4.17 in /usr/local/lib/python3.6/dist-packages (from requests->dtale) (2020.6.20)\n",
            "Requirement already satisfied: idna<3,>=2.5 in /usr/local/lib/python3.6/dist-packages (from requests->dtale) (2.10)\n",
            "Requirement already satisfied: Jinja2>=2.10.1 in /usr/local/lib/python3.6/dist-packages (from Flask>=1.0->dtale) (2.11.2)\n",
            "Requirement already satisfied: Werkzeug>=0.15 in /usr/local/lib/python3.6/dist-packages (from Flask>=1.0->dtale) (1.0.1)\n",
            "Requirement already satisfied: click>=5.1 in /usr/local/lib/python3.6/dist-packages (from Flask>=1.0->dtale) (7.1.2)\n",
            "Requirement already satisfied: dash-renderer==1.8.2 in /usr/local/lib/python3.6/dist-packages (from dash>=1.5.0->dtale) (1.8.2)\n",
            "Requirement already satisfied: dash-html-components==1.1.1 in /usr/local/lib/python3.6/dist-packages (from dash>=1.5.0->dtale) (1.1.1)\n",
            "Requirement already satisfied: dash-core-components==1.12.1 in /usr/local/lib/python3.6/dist-packages (from dash>=1.5.0->dtale) (1.12.1)\n",
            "Requirement already satisfied: dash-table==4.10.1 in /usr/local/lib/python3.6/dist-packages (from dash>=1.5.0->dtale) (4.10.1)\n",
            "Requirement already satisfied: plotly in /usr/local/lib/python3.6/dist-packages (from dash>=1.5.0->dtale) (4.4.1)\n",
            "Requirement already satisfied: numpy>=1.13.3 in /usr/local/lib/python3.6/dist-packages (from scipy->dtale) (1.18.5)\n",
            "Requirement already satisfied: joblib>=0.11 in /usr/local/lib/python3.6/dist-packages (from scikit-learn>='0.21.0->dtale) (0.16.0)\n",
            "Requirement already satisfied: patsy>=0.4.0 in /usr/local/lib/python3.6/dist-packages (from statsmodels->dtale) (0.5.1)\n",
            "Requirement already satisfied: setuptools>=41.2 in /usr/local/lib/python3.6/dist-packages (from xarray->dtale) (50.3.0)\n",
            "Requirement already satisfied: pytz>=2017.2 in /usr/local/lib/python3.6/dist-packages (from pandas->dtale) (2018.9)\n",
            "Requirement already satisfied: python-dateutil>=2.7.3 in /usr/local/lib/python3.6/dist-packages (from pandas->dtale) (2.8.1)\n",
            "Requirement already satisfied: MarkupSafe>=0.23 in /usr/local/lib/python3.6/dist-packages (from Jinja2>=2.10.1->Flask>=1.0->dtale) (1.1.1)\n",
            "Requirement already satisfied: retrying>=1.3.3 in /usr/local/lib/python3.6/dist-packages (from plotly->dash>=1.5.0->dtale) (1.3.3)\n"
          ],
          "name": "stdout"
        }
      ]
    },
    {
      "cell_type": "markdown",
      "metadata": {
        "id": "h8SfbccYQczS"
      },
      "source": [
        "## Step 1 : Data Preprocessing"
      ]
    },
    {
      "cell_type": "code",
      "metadata": {
        "id": "-Vf5g91VNFVS",
        "outputId": "e8bf2405-8cab-4059-e832-6b9b5caa48b6",
        "colab": {
          "base_uri": "https://localhost:8080/",
          "height": 639
        }
      },
      "source": [
        "# Import training set \n",
        "dataset_train = pd.read_csv('monthly-milk-production-pounds.csv')\n",
        "dataset_train.head(20)\n",
        "\n",
        "\n"
      ],
      "execution_count": 52,
      "outputs": [
        {
          "output_type": "execute_result",
          "data": {
            "text/html": [
              "<div>\n",
              "<style scoped>\n",
              "    .dataframe tbody tr th:only-of-type {\n",
              "        vertical-align: middle;\n",
              "    }\n",
              "\n",
              "    .dataframe tbody tr th {\n",
              "        vertical-align: top;\n",
              "    }\n",
              "\n",
              "    .dataframe thead th {\n",
              "        text-align: right;\n",
              "    }\n",
              "</style>\n",
              "<table border=\"1\" class=\"dataframe\">\n",
              "  <thead>\n",
              "    <tr style=\"text-align: right;\">\n",
              "      <th></th>\n",
              "      <th>Month</th>\n",
              "      <th>Monthly milk production: pounds per cow. Jan 62 ? Dec 75</th>\n",
              "    </tr>\n",
              "  </thead>\n",
              "  <tbody>\n",
              "    <tr>\n",
              "      <th>0</th>\n",
              "      <td>1962-01</td>\n",
              "      <td>589.0</td>\n",
              "    </tr>\n",
              "    <tr>\n",
              "      <th>1</th>\n",
              "      <td>1962-02</td>\n",
              "      <td>561.0</td>\n",
              "    </tr>\n",
              "    <tr>\n",
              "      <th>2</th>\n",
              "      <td>1962-03</td>\n",
              "      <td>640.0</td>\n",
              "    </tr>\n",
              "    <tr>\n",
              "      <th>3</th>\n",
              "      <td>1962-04</td>\n",
              "      <td>656.0</td>\n",
              "    </tr>\n",
              "    <tr>\n",
              "      <th>4</th>\n",
              "      <td>1962-05</td>\n",
              "      <td>727.0</td>\n",
              "    </tr>\n",
              "    <tr>\n",
              "      <th>5</th>\n",
              "      <td>1962-06</td>\n",
              "      <td>697.0</td>\n",
              "    </tr>\n",
              "    <tr>\n",
              "      <th>6</th>\n",
              "      <td>1962-07</td>\n",
              "      <td>640.0</td>\n",
              "    </tr>\n",
              "    <tr>\n",
              "      <th>7</th>\n",
              "      <td>1962-08</td>\n",
              "      <td>599.0</td>\n",
              "    </tr>\n",
              "    <tr>\n",
              "      <th>8</th>\n",
              "      <td>1962-09</td>\n",
              "      <td>568.0</td>\n",
              "    </tr>\n",
              "    <tr>\n",
              "      <th>9</th>\n",
              "      <td>1962-10</td>\n",
              "      <td>577.0</td>\n",
              "    </tr>\n",
              "    <tr>\n",
              "      <th>10</th>\n",
              "      <td>1962-11</td>\n",
              "      <td>553.0</td>\n",
              "    </tr>\n",
              "    <tr>\n",
              "      <th>11</th>\n",
              "      <td>1962-12</td>\n",
              "      <td>582.0</td>\n",
              "    </tr>\n",
              "    <tr>\n",
              "      <th>12</th>\n",
              "      <td>1963-01</td>\n",
              "      <td>600.0</td>\n",
              "    </tr>\n",
              "    <tr>\n",
              "      <th>13</th>\n",
              "      <td>1963-02</td>\n",
              "      <td>566.0</td>\n",
              "    </tr>\n",
              "    <tr>\n",
              "      <th>14</th>\n",
              "      <td>1963-03</td>\n",
              "      <td>653.0</td>\n",
              "    </tr>\n",
              "    <tr>\n",
              "      <th>15</th>\n",
              "      <td>1963-04</td>\n",
              "      <td>673.0</td>\n",
              "    </tr>\n",
              "    <tr>\n",
              "      <th>16</th>\n",
              "      <td>1963-05</td>\n",
              "      <td>742.0</td>\n",
              "    </tr>\n",
              "    <tr>\n",
              "      <th>17</th>\n",
              "      <td>1963-06</td>\n",
              "      <td>716.0</td>\n",
              "    </tr>\n",
              "    <tr>\n",
              "      <th>18</th>\n",
              "      <td>1963-07</td>\n",
              "      <td>660.0</td>\n",
              "    </tr>\n",
              "    <tr>\n",
              "      <th>19</th>\n",
              "      <td>1963-08</td>\n",
              "      <td>617.0</td>\n",
              "    </tr>\n",
              "  </tbody>\n",
              "</table>\n",
              "</div>"
            ],
            "text/plain": [
              "      Month  Monthly milk production: pounds per cow. Jan 62 ? Dec 75\n",
              "0   1962-01                                              589.0       \n",
              "1   1962-02                                              561.0       \n",
              "2   1962-03                                              640.0       \n",
              "3   1962-04                                              656.0       \n",
              "4   1962-05                                              727.0       \n",
              "5   1962-06                                              697.0       \n",
              "6   1962-07                                              640.0       \n",
              "7   1962-08                                              599.0       \n",
              "8   1962-09                                              568.0       \n",
              "9   1962-10                                              577.0       \n",
              "10  1962-11                                              553.0       \n",
              "11  1962-12                                              582.0       \n",
              "12  1963-01                                              600.0       \n",
              "13  1963-02                                              566.0       \n",
              "14  1963-03                                              653.0       \n",
              "15  1963-04                                              673.0       \n",
              "16  1963-05                                              742.0       \n",
              "17  1963-06                                              716.0       \n",
              "18  1963-07                                              660.0       \n",
              "19  1963-08                                              617.0       "
            ]
          },
          "metadata": {
            "tags": []
          },
          "execution_count": 52
        }
      ]
    },
    {
      "cell_type": "code",
      "metadata": {
        "id": "7Q681leqOmV2",
        "outputId": "e695571c-b4de-4312-ff5f-3b9a01c3c3cb",
        "colab": {
          "base_uri": "https://localhost:8080/",
          "height": 34
        }
      },
      "source": [
        "# Check dataframe shape\n",
        "dataset_train.shape"
      ],
      "execution_count": 53,
      "outputs": [
        {
          "output_type": "execute_result",
          "data": {
            "text/plain": [
              "(169, 2)"
            ]
          },
          "metadata": {
            "tags": []
          },
          "execution_count": 53
        }
      ]
    },
    {
      "cell_type": "code",
      "metadata": {
        "id": "gwvjbmIYOvvJ",
        "outputId": "96133504-25c2-4c4f-bab2-882b5660b92a",
        "colab": {
          "base_uri": "https://localhost:8080/",
          "height": 67
        }
      },
      "source": [
        "# Check data structures\n",
        "dataset_train.dtypes"
      ],
      "execution_count": 54,
      "outputs": [
        {
          "output_type": "execute_result",
          "data": {
            "text/plain": [
              "Month                                                        object\n",
              "Monthly milk production: pounds per cow. Jan 62 ? Dec 75    float64\n",
              "dtype: object"
            ]
          },
          "metadata": {
            "tags": []
          },
          "execution_count": 54
        }
      ]
    },
    {
      "cell_type": "code",
      "metadata": {
        "id": "p4t9msqQOXnt",
        "outputId": "2417923b-0d68-4dc1-f648-7116c41d0312",
        "colab": {
          "base_uri": "https://localhost:8080/",
          "height": 34
        }
      },
      "source": [
        "# check for missing values\n",
        "missing_values = dataset_train.isnull().sum().sum()\n",
        "print(\"The number of missing values in the dataframe is\", missing_values)"
      ],
      "execution_count": 55,
      "outputs": [
        {
          "output_type": "stream",
          "text": [
            "The number of missing values in the dataframe is 1\n"
          ],
          "name": "stdout"
        }
      ]
    },
    {
      "cell_type": "code",
      "metadata": {
        "id": "x5-8KLBiPEQU",
        "outputId": "7fe35b4f-fde8-40d9-b56e-fb397a5b4cb8",
        "colab": {
          "base_uri": "https://localhost:8080/",
          "height": 34
        }
      },
      "source": [
        "# Drop missing values\n",
        "dataset_train = dataset_train.dropna(axis = 0)\n",
        "\n",
        "# check for missing values in new dataframe\n",
        "missing_values = dataset_train.isnull().sum().sum()\n",
        "print(\"The number of missing values in the new dataframe is\", missing_values)\n"
      ],
      "execution_count": 56,
      "outputs": [
        {
          "output_type": "stream",
          "text": [
            "The number of missing values in the new dataframe is 0\n"
          ],
          "name": "stdout"
        }
      ]
    },
    {
      "cell_type": "code",
      "metadata": {
        "id": "YyuW2WNePqa0",
        "outputId": "865ec91b-6f5c-4a09-b80e-9e52b519d09c",
        "colab": {
          "base_uri": "https://localhost:8080/",
          "height": 34
        }
      },
      "source": [
        "# Print column headers\n",
        "dataset_train.columns"
      ],
      "execution_count": 57,
      "outputs": [
        {
          "output_type": "execute_result",
          "data": {
            "text/plain": [
              "Index(['Month', 'Monthly milk production: pounds per cow. Jan 62 ? Dec 75'], dtype='object')"
            ]
          },
          "metadata": {
            "tags": []
          },
          "execution_count": 57
        }
      ]
    },
    {
      "cell_type": "code",
      "metadata": {
        "id": "WyKI8B73P4WF",
        "outputId": "3fe2a008-34c4-43a0-d4f2-f586e87b05bb",
        "colab": {
          "base_uri": "https://localhost:8080/",
          "height": 195
        }
      },
      "source": [
        "# Change column headers to something more meaningful\n",
        "dataset_train.columns = ['Time', 'Production']\n",
        "dataset_train.head()"
      ],
      "execution_count": 58,
      "outputs": [
        {
          "output_type": "execute_result",
          "data": {
            "text/html": [
              "<div>\n",
              "<style scoped>\n",
              "    .dataframe tbody tr th:only-of-type {\n",
              "        vertical-align: middle;\n",
              "    }\n",
              "\n",
              "    .dataframe tbody tr th {\n",
              "        vertical-align: top;\n",
              "    }\n",
              "\n",
              "    .dataframe thead th {\n",
              "        text-align: right;\n",
              "    }\n",
              "</style>\n",
              "<table border=\"1\" class=\"dataframe\">\n",
              "  <thead>\n",
              "    <tr style=\"text-align: right;\">\n",
              "      <th></th>\n",
              "      <th>Time</th>\n",
              "      <th>Production</th>\n",
              "    </tr>\n",
              "  </thead>\n",
              "  <tbody>\n",
              "    <tr>\n",
              "      <th>0</th>\n",
              "      <td>1962-01</td>\n",
              "      <td>589.0</td>\n",
              "    </tr>\n",
              "    <tr>\n",
              "      <th>1</th>\n",
              "      <td>1962-02</td>\n",
              "      <td>561.0</td>\n",
              "    </tr>\n",
              "    <tr>\n",
              "      <th>2</th>\n",
              "      <td>1962-03</td>\n",
              "      <td>640.0</td>\n",
              "    </tr>\n",
              "    <tr>\n",
              "      <th>3</th>\n",
              "      <td>1962-04</td>\n",
              "      <td>656.0</td>\n",
              "    </tr>\n",
              "    <tr>\n",
              "      <th>4</th>\n",
              "      <td>1962-05</td>\n",
              "      <td>727.0</td>\n",
              "    </tr>\n",
              "  </tbody>\n",
              "</table>\n",
              "</div>"
            ],
            "text/plain": [
              "      Time  Production\n",
              "0  1962-01       589.0\n",
              "1  1962-02       561.0\n",
              "2  1962-03       640.0\n",
              "3  1962-04       656.0\n",
              "4  1962-05       727.0"
            ]
          },
          "metadata": {
            "tags": []
          },
          "execution_count": 58
        }
      ]
    },
    {
      "cell_type": "code",
      "metadata": {
        "id": "_dk95faYPi12",
        "outputId": "be293086-af98-4d86-9163-7f59316af401",
        "colab": {
          "base_uri": "https://localhost:8080/",
          "height": 265
        }
      },
      "source": [
        "# Plot dataset\n",
        "\n",
        "dataset_train.plot()\n",
        "plt.show()"
      ],
      "execution_count": 59,
      "outputs": [
        {
          "output_type": "display_data",
          "data": {
            "image/png": "[encoded data removed]",
            "text/plain": [
              "<Figure size 432x288 with 1 Axes>"
            ]
          },
          "metadata": {
            "tags": [],
            "needs_background": "light"
          }
        }
      ]
    },
    {
      "cell_type": "code",
      "metadata": {
        "id": "aTRuqm6-Qzp5",
        "outputId": "ec77e2df-31d6-43d9-925d-8fd470c16345",
        "colab": {
          "base_uri": "https://localhost:8080/",
          "height": 195
        }
      },
      "source": [
        "# Convert time column values to date time format\n",
        "dataset_train['Time'] = pd.to_datetime(dataset_train['Time'])\n",
        "dataset_train.head()"
      ],
      "execution_count": 60,
      "outputs": [
        {
          "output_type": "execute_result",
          "data": {
            "text/html": [
              "<div>\n",
              "<style scoped>\n",
              "    .dataframe tbody tr th:only-of-type {\n",
              "        vertical-align: middle;\n",
              "    }\n",
              "\n",
              "    .dataframe tbody tr th {\n",
              "        vertical-align: top;\n",
              "    }\n",
              "\n",
              "    .dataframe thead th {\n",
              "        text-align: right;\n",
              "    }\n",
              "</style>\n",
              "<table border=\"1\" class=\"dataframe\">\n",
              "  <thead>\n",
              "    <tr style=\"text-align: right;\">\n",
              "      <th></th>\n",
              "      <th>Time</th>\n",
              "      <th>Production</th>\n",
              "    </tr>\n",
              "  </thead>\n",
              "  <tbody>\n",
              "    <tr>\n",
              "      <th>0</th>\n",
              "      <td>1962-01-01</td>\n",
              "      <td>589.0</td>\n",
              "    </tr>\n",
              "    <tr>\n",
              "      <th>1</th>\n",
              "      <td>1962-02-01</td>\n",
              "      <td>561.0</td>\n",
              "    </tr>\n",
              "    <tr>\n",
              "      <th>2</th>\n",
              "      <td>1962-03-01</td>\n",
              "      <td>640.0</td>\n",
              "    </tr>\n",
              "    <tr>\n",
              "      <th>3</th>\n",
              "      <td>1962-04-01</td>\n",
              "      <td>656.0</td>\n",
              "    </tr>\n",
              "    <tr>\n",
              "      <th>4</th>\n",
              "      <td>1962-05-01</td>\n",
              "      <td>727.0</td>\n",
              "    </tr>\n",
              "  </tbody>\n",
              "</table>\n",
              "</div>"
            ],
            "text/plain": [
              "        Time  Production\n",
              "0 1962-01-01       589.0\n",
              "1 1962-02-01       561.0\n",
              "2 1962-03-01       640.0\n",
              "3 1962-04-01       656.0\n",
              "4 1962-05-01       727.0"
            ]
          },
          "metadata": {
            "tags": []
          },
          "execution_count": 60
        }
      ]
    },
    {
      "cell_type": "code",
      "metadata": {
        "id": "-_xR3yzLN9jU",
        "outputId": "badbe075-816b-4f57-d16f-f06fc812d785",
        "colab": {
          "base_uri": "https://localhost:8080/",
          "height": 101
        }
      },
      "source": [
        "# Obtain training set for analysis\n",
        "X_new = dataset_train.iloc[:,1:2].values\n",
        "X_new[0:5]"
      ],
      "execution_count": 61,
      "outputs": [
        {
          "output_type": "execute_result",
          "data": {
            "text/plain": [
              "array([[589.],\n",
              "       [561.],\n",
              "       [640.],\n",
              "       [656.],\n",
              "       [727.]])"
            ]
          },
          "metadata": {
            "tags": []
          },
          "execution_count": 61
        }
      ]
    },
    {
      "cell_type": "code",
      "metadata": {
        "id": "VVOiY4HbXONY"
      },
      "source": [
        "# Splitting the dataset into the Training set and Test set\n",
        "from sklearn.model_selection import train_test_split\n",
        "train_set, test_set, _, _ = train_test_split(X_new, X_new, test_size = 0.08, random_state = 0)"
      ],
      "execution_count": 62,
      "outputs": []
    },
    {
      "cell_type": "code",
      "metadata": {
        "id": "wbeKaSDHRQfj"
      },
      "source": [
        "# Feature scaling by normalization\n",
        "from sklearn.preprocessing import MinMaxScaler\n",
        "sc = MinMaxScaler(feature_range=(0,1))\n",
        "train_set_sc = sc.fit_transform(train_set)\n",
        "test_set_sc = sc.transform(test_set)"
      ],
      "execution_count": 63,
      "outputs": []
    },
    {
      "cell_type": "code",
      "metadata": {
        "id": "OXkdO0jDXppA",
        "outputId": "1cebbf55-503e-43c6-e240-0758e9707060",
        "colab": {
          "base_uri": "https://localhost:8080/",
          "height": 101
        }
      },
      "source": [
        "# print train set\n",
        "train_set_sc[0:5]"
      ],
      "execution_count": 64,
      "outputs": [
        {
          "output_type": "execute_result",
          "data": {
            "text/plain": [
              "array([[0.34375   ],\n",
              "       [0.16346154],\n",
              "       [0.53365385],\n",
              "       [0.37019231],\n",
              "       [0.68269231]])"
            ]
          },
          "metadata": {
            "tags": []
          },
          "execution_count": 64
        }
      ]
    },
    {
      "cell_type": "code",
      "metadata": {
        "id": "Wvi7gq8RXs71",
        "outputId": "10375846-006c-459a-d557-2478b969944f",
        "colab": {
          "base_uri": "https://localhost:8080/",
          "height": 101
        }
      },
      "source": [
        "# print test set\n",
        "train_set_sc[0:5]"
      ],
      "execution_count": 65,
      "outputs": [
        {
          "output_type": "execute_result",
          "data": {
            "text/plain": [
              "array([[0.34375   ],\n",
              "       [0.16346154],\n",
              "       [0.53365385],\n",
              "       [0.37019231],\n",
              "       [0.68269231]])"
            ]
          },
          "metadata": {
            "tags": []
          },
          "execution_count": 65
        }
      ]
    },
    {
      "cell_type": "code",
      "metadata": {
        "id": "8iZRMwdVTSkz"
      },
      "source": [
        "# Create data structure using history (Tx) and 1 output for training set\n",
        "Tx = 10\n",
        "X_train = []\n",
        "y_train = []\n",
        "m = len(train_set_sc)\n",
        "\n",
        "for i in range(Tx, m):\n",
        "    X_train.append(train_set_sc[i-Tx : i, 0])\n",
        "    y_train.append(train_set_sc[i,0])\n",
        "    \n",
        "X_train, y_train = np.array(X_train) , np.array(y_train)"
      ],
      "execution_count": 66,
      "outputs": []
    },
    {
      "cell_type": "code",
      "metadata": {
        "id": "gHcVZCpxUAHi",
        "outputId": "55337098-761f-4180-d4cf-be6b10fda619",
        "colab": {
          "base_uri": "https://localhost:8080/",
          "height": 269
        }
      },
      "source": [
        "# Examine data structure for training set\n",
        "print(X_train.shape)\n",
        "print(y_train.shape)\n",
        "X_train"
      ],
      "execution_count": 67,
      "outputs": [
        {
          "output_type": "stream",
          "text": [
            "(144, 10)\n",
            "(144,)\n"
          ],
          "name": "stdout"
        },
        {
          "output_type": "execute_result",
          "data": {
            "text/plain": [
              "array([[0.34375   , 0.16346154, 0.53365385, ..., 0.37980769, 0.85336538,\n",
              "        0.58653846],\n",
              "       [0.16346154, 0.53365385, 0.37019231, ..., 0.85336538, 0.58653846,\n",
              "        0.34615385],\n",
              "       [0.53365385, 0.37019231, 0.68269231, ..., 0.58653846, 0.34615385,\n",
              "        0.62980769],\n",
              "       ...,\n",
              "       [0.40625   , 0.22115385, 0.55528846, ..., 0.08173077, 0.05769231,\n",
              "        0.55288462],\n",
              "       [0.22115385, 0.55528846, 0.76442308, ..., 0.05769231, 0.55288462,\n",
              "        0.40625   ],\n",
              "       [0.55528846, 0.76442308, 0.25721154, ..., 0.55288462, 0.40625   ,\n",
              "        0.59375   ]])"
            ]
          },
          "metadata": {
            "tags": []
          },
          "execution_count": 67
        }
      ]
    },
    {
      "cell_type": "code",
      "metadata": {
        "id": "DuhEeio3X89Y"
      },
      "source": [
        "# Create data structure using history (Tx) and 1 output for test set\n",
        "X_test = []\n",
        "y_test = []\n",
        "m_test = len(test_set_sc)\n",
        "\n",
        "for i in range(Tx, m_test):\n",
        "    X_test.append(train_set_sc[i-Tx : i, 0])\n",
        "    y_test.append(train_set_sc[i,0])\n",
        "    \n",
        "X_test, y_test = np.array(X_test) , np.array(y_test)"
      ],
      "execution_count": 68,
      "outputs": []
    },
    {
      "cell_type": "code",
      "metadata": {
        "id": "CblevrG7YAAS",
        "outputId": "9990420e-9375-48b8-c6d1-5efa39f0cfe1",
        "colab": {
          "base_uri": "https://localhost:8080/",
          "height": 185
        }
      },
      "source": [
        "# Examine data structure for test set\n",
        "print(X_test.shape)\n",
        "print(y_test.shape)\n",
        "X_test"
      ],
      "execution_count": 69,
      "outputs": [
        {
          "output_type": "stream",
          "text": [
            "(4, 10)\n",
            "(4,)\n"
          ],
          "name": "stdout"
        },
        {
          "output_type": "execute_result",
          "data": {
            "text/plain": [
              "array([[0.34375   , 0.16346154, 0.53365385, 0.37019231, 0.68269231,\n",
              "        0.47355769, 0.47596154, 0.37980769, 0.85336538, 0.58653846],\n",
              "       [0.16346154, 0.53365385, 0.37019231, 0.68269231, 0.47355769,\n",
              "        0.47596154, 0.37980769, 0.85336538, 0.58653846, 0.34615385],\n",
              "       [0.53365385, 0.37019231, 0.68269231, 0.47355769, 0.47596154,\n",
              "        0.37980769, 0.85336538, 0.58653846, 0.34615385, 0.62980769],\n",
              "       [0.37019231, 0.68269231, 0.47355769, 0.47596154, 0.37980769,\n",
              "        0.85336538, 0.58653846, 0.34615385, 0.62980769, 0.32451923]])"
            ]
          },
          "metadata": {
            "tags": []
          },
          "execution_count": 69
        }
      ]
    },
    {
      "cell_type": "code",
      "metadata": {
        "id": "ECa0eXJjVxhW"
      },
      "source": [
        "# Reshape to RNN Input shape including adding new indicators\n",
        "\n",
        "X_train = np.reshape(X_train, newshape= (X_train.shape[0], X_train.shape[1], 1))\n",
        "X_test = np.reshape(X_test, newshape= (X_test.shape[0], X_test.shape[1], 1))"
      ],
      "execution_count": 70,
      "outputs": []
    },
    {
      "cell_type": "markdown",
      "metadata": {
        "id": "LroD-f13UYIQ"
      },
      "source": [
        "## Part 2 - Building the RNN / LSTM / GRU"
      ]
    },
    {
      "cell_type": "code",
      "metadata": {
        "id": "A06y18WtWsz9"
      },
      "source": [
        "# Import the libraries from keras\n",
        "from keras.models import Sequential\n",
        "from keras.layers import Dense\n",
        "from keras.layers import Dropout\n",
        "from keras.layers import LSTM, GRU\n",
        "from keras.layers import BatchNormalization"
      ],
      "execution_count": 71,
      "outputs": []
    },
    {
      "cell_type": "code",
      "metadata": {
        "id": "lyLGepoXam2-"
      },
      "source": [
        "# Initalize the GRU\n",
        "\n",
        "gru = Sequential()"
      ],
      "execution_count": 72,
      "outputs": []
    },
    {
      "cell_type": "code",
      "metadata": {
        "id": "rmwV5_PLa3nL"
      },
      "source": [
        "# Add the first layer and dropout regularization\n",
        "gru.add(GRU(units = 50, return_sequences= True, input_shape= (X_train.shape[1],1))) # the 1 in input-shape corresponds to no of indicators\n",
        "gru.add(BatchNormalization())\n",
        "gru.add(Dropout((0.2)))"
      ],
      "execution_count": 73,
      "outputs": []
    },
    {
      "cell_type": "code",
      "metadata": {
        "id": "malHarKCcrH6"
      },
      "source": [
        "# Add the Second layer and dropout regularization\n",
        "gru.add(GRU(units = 50, return_sequences=True))\n",
        "gru.add(BatchNormalization())\n",
        "gru.add(Dropout((0.2)))"
      ],
      "execution_count": 74,
      "outputs": []
    },
    {
      "cell_type": "code",
      "metadata": {
        "id": "rvboYPXicxzL"
      },
      "source": [
        "# Add the Third layer and dropout regularization\n",
        "gru.add(GRU(units = 50, return_sequences=True))\n",
        "gru.add(BatchNormalization())\n",
        "gru.add(Dropout((0.2)))"
      ],
      "execution_count": 75,
      "outputs": []
    },
    {
      "cell_type": "code",
      "metadata": {
        "id": "FD4WbGM-c36P"
      },
      "source": [
        "# Add the Fourth layer and dropout regularization\n",
        "gru.add(GRU(units = 50, return_sequences=False))\n",
        "gru.add(BatchNormalization())\n",
        "gru.add(Dropout((0.2)))"
      ],
      "execution_count": 76,
      "outputs": []
    },
    {
      "cell_type": "code",
      "metadata": {
        "id": "NrSg80gdc9rO"
      },
      "source": [
        "# Add the output layer\n",
        "gru.add(Dense(units = 1))"
      ],
      "execution_count": 77,
      "outputs": []
    },
    {
      "cell_type": "code",
      "metadata": {
        "id": "LZE5LWTzdNk1",
        "outputId": "ce60816d-6e7a-42bf-fa4c-05561635bb98",
        "colab": {
          "base_uri": "https://localhost:8080/",
          "height": 588
        }
      },
      "source": [
        "# Compile the GRU\n",
        "gru.compile(optimizer = 'rmsprop', loss = 'mean_squared_error')\n",
        "gru.summary()"
      ],
      "execution_count": 78,
      "outputs": [
        {
          "output_type": "stream",
          "text": [
            "Model: \"sequential_3\"\n",
            "_________________________________________________________________\n",
            "Layer (type)                 Output Shape              Param #   \n",
            "=================================================================\n",
            "gru (GRU)                    (None, 10, 50)            7950      \n",
            "_________________________________________________________________\n",
            "batch_normalization (BatchNo (None, 10, 50)            200       \n",
            "_________________________________________________________________\n",
            "dropout (Dropout)            (None, 10, 50)            0         \n",
            "_________________________________________________________________\n",
            "gru_1 (GRU)                  (None, 10, 50)            15300     \n",
            "_________________________________________________________________\n",
            "batch_normalization_1 (Batch (None, 10, 50)            200       \n",
            "_________________________________________________________________\n",
            "dropout_1 (Dropout)          (None, 10, 50)            0         \n",
            "_________________________________________________________________\n",
            "gru_2 (GRU)                  (None, 10, 50)            15300     \n",
            "_________________________________________________________________\n",
            "batch_normalization_2 (Batch (None, 10, 50)            200       \n",
            "_________________________________________________________________\n",
            "dropout_2 (Dropout)          (None, 10, 50)            0         \n",
            "_________________________________________________________________\n",
            "gru_3 (GRU)                  (None, 50)                15300     \n",
            "_________________________________________________________________\n",
            "batch_normalization_3 (Batch (None, 50)                200       \n",
            "_________________________________________________________________\n",
            "dropout_3 (Dropout)          (None, 50)                0         \n",
            "_________________________________________________________________\n",
            "dense (Dense)                (None, 1)                 51        \n",
            "=================================================================\n",
            "Total params: 54,701\n",
            "Trainable params: 54,301\n",
            "Non-trainable params: 400\n",
            "_________________________________________________________________\n"
          ],
          "name": "stdout"
        }
      ]
    },
    {
      "cell_type": "code",
      "metadata": {
        "id": "eKEwT0vKdQWF",
        "outputId": "5f75939e-f0f6-4910-b83e-48105b27018a",
        "colab": {
          "base_uri": "https://localhost:8080/",
          "height": 1000
        }
      },
      "source": [
        "# Fitting the gru to the training set\n",
        "gru.fit(X_train, y_train, epochs = 100, batch_size=16)"
      ],
      "execution_count": 80,
      "outputs": [
        {
          "output_type": "stream",
          "text": [
            "Epoch 1/100\n",
            "9/9 [==============================] - 0s 11ms/step - loss: 0.4166\n",
            "Epoch 2/100\n",
            "9/9 [==============================] - 0s 12ms/step - loss: 0.5454\n",
            "Epoch 3/100\n",
            "9/9 [==============================] - 0s 11ms/step - loss: 0.3996\n",
            "Epoch 4/100\n",
            "9/9 [==============================] - 0s 13ms/step - loss: 0.5040\n",
            "Epoch 5/100\n",
            "9/9 [==============================] - 0s 12ms/step - loss: 0.4604\n",
            "Epoch 6/100\n",
            "9/9 [==============================] - 0s 13ms/step - loss: 0.3276\n",
            "Epoch 7/100\n",
            "9/9 [==============================] - 0s 13ms/step - loss: 0.3022\n",
            "Epoch 8/100\n",
            "9/9 [==============================] - 0s 11ms/step - loss: 0.4505\n",
            "Epoch 9/100\n",
            "9/9 [==============================] - 0s 11ms/step - loss: 0.3291\n",
            "Epoch 10/100\n",
            "9/9 [==============================] - 0s 12ms/step - loss: 0.3463\n",
            "Epoch 11/100\n",
            "9/9 [==============================] - 0s 13ms/step - loss: 0.3137\n",
            "Epoch 12/100\n",
            "9/9 [==============================] - 0s 12ms/step - loss: 0.3174\n",
            "Epoch 13/100\n",
            "9/9 [==============================] - 0s 13ms/step - loss: 0.2788\n",
            "Epoch 14/100\n",
            "9/9 [==============================] - 0s 12ms/step - loss: 0.3695\n",
            "Epoch 15/100\n",
            "9/9 [==============================] - 0s 13ms/step - loss: 0.2531\n",
            "Epoch 16/100\n",
            "9/9 [==============================] - 0s 12ms/step - loss: 0.3241\n",
            "Epoch 17/100\n",
            "9/9 [==============================] - 0s 13ms/step - loss: 0.2863\n",
            "Epoch 18/100\n",
            "9/9 [==============================] - 0s 13ms/step - loss: 0.2421\n",
            "Epoch 19/100\n",
            "9/9 [==============================] - 0s 12ms/step - loss: 0.2969\n",
            "Epoch 20/100\n",
            "9/9 [==============================] - 0s 12ms/step - loss: 0.2590\n",
            "Epoch 21/100\n",
            "9/9 [==============================] - 0s 12ms/step - loss: 0.2453\n",
            "Epoch 22/100\n",
            "9/9 [==============================] - 0s 12ms/step - loss: 0.2105\n",
            "Epoch 23/100\n",
            "9/9 [==============================] - 0s 12ms/step - loss: 0.2562\n",
            "Epoch 24/100\n",
            "9/9 [==============================] - 0s 12ms/step - loss: 0.2412\n",
            "Epoch 25/100\n",
            "9/9 [==============================] - 0s 12ms/step - loss: 0.2127\n",
            "Epoch 26/100\n",
            "9/9 [==============================] - 0s 14ms/step - loss: 0.1658\n",
            "Epoch 27/100\n",
            "9/9 [==============================] - 0s 12ms/step - loss: 0.1908\n",
            "Epoch 28/100\n",
            "9/9 [==============================] - 0s 12ms/step - loss: 0.2709\n",
            "Epoch 29/100\n",
            "9/9 [==============================] - 0s 13ms/step - loss: 0.1667\n",
            "Epoch 30/100\n",
            "9/9 [==============================] - 0s 16ms/step - loss: 0.1896\n",
            "Epoch 31/100\n",
            "9/9 [==============================] - 0s 15ms/step - loss: 0.2444\n",
            "Epoch 32/100\n",
            "9/9 [==============================] - 0s 16ms/step - loss: 0.2172\n",
            "Epoch 33/100\n",
            "9/9 [==============================] - 0s 13ms/step - loss: 0.1809\n",
            "Epoch 34/100\n",
            "9/9 [==============================] - 0s 12ms/step - loss: 0.1908\n",
            "Epoch 35/100\n",
            "9/9 [==============================] - 0s 12ms/step - loss: 0.1400\n",
            "Epoch 36/100\n",
            "9/9 [==============================] - 0s 13ms/step - loss: 0.1762\n",
            "Epoch 37/100\n",
            "9/9 [==============================] - 0s 12ms/step - loss: 0.1759\n",
            "Epoch 38/100\n",
            "9/9 [==============================] - 0s 12ms/step - loss: 0.2042\n",
            "Epoch 39/100\n",
            "9/9 [==============================] - 0s 12ms/step - loss: 0.1634\n",
            "Epoch 40/100\n",
            "9/9 [==============================] - 0s 12ms/step - loss: 0.1579\n",
            "Epoch 41/100\n",
            "9/9 [==============================] - 0s 12ms/step - loss: 0.1644\n",
            "Epoch 42/100\n",
            "9/9 [==============================] - 0s 12ms/step - loss: 0.1368\n",
            "Epoch 43/100\n",
            "9/9 [==============================] - 0s 12ms/step - loss: 0.1377\n",
            "Epoch 44/100\n",
            "9/9 [==============================] - 0s 13ms/step - loss: 0.1622\n",
            "Epoch 45/100\n",
            "9/9 [==============================] - 0s 13ms/step - loss: 0.1622\n",
            "Epoch 46/100\n",
            "9/9 [==============================] - 0s 12ms/step - loss: 0.1543\n",
            "Epoch 47/100\n",
            "9/9 [==============================] - 0s 12ms/step - loss: 0.1428\n",
            "Epoch 48/100\n",
            "9/9 [==============================] - 0s 12ms/step - loss: 0.1682\n",
            "Epoch 49/100\n",
            "9/9 [==============================] - 0s 12ms/step - loss: 0.1484\n",
            "Epoch 50/100\n",
            "9/9 [==============================] - 0s 12ms/step - loss: 0.1310\n",
            "Epoch 51/100\n",
            "9/9 [==============================] - 0s 12ms/step - loss: 0.1218\n",
            "Epoch 52/100\n",
            "9/9 [==============================] - 0s 13ms/step - loss: 0.1536\n",
            "Epoch 53/100\n",
            "9/9 [==============================] - 0s 13ms/step - loss: 0.1380\n",
            "Epoch 54/100\n",
            "9/9 [==============================] - 0s 12ms/step - loss: 0.1196\n",
            "Epoch 55/100\n",
            "9/9 [==============================] - 0s 13ms/step - loss: 0.1300\n",
            "Epoch 56/100\n",
            "9/9 [==============================] - 0s 12ms/step - loss: 0.0955\n",
            "Epoch 57/100\n",
            "9/9 [==============================] - 0s 12ms/step - loss: 0.1330\n",
            "Epoch 58/100\n",
            "9/9 [==============================] - 0s 12ms/step - loss: 0.1377\n",
            "Epoch 59/100\n",
            "9/9 [==============================] - 0s 12ms/step - loss: 0.1344\n",
            "Epoch 60/100\n",
            "9/9 [==============================] - 0s 14ms/step - loss: 0.1161\n",
            "Epoch 61/100\n",
            "9/9 [==============================] - 0s 12ms/step - loss: 0.0987\n",
            "Epoch 62/100\n",
            "9/9 [==============================] - 0s 12ms/step - loss: 0.1127\n",
            "Epoch 63/100\n",
            "9/9 [==============================] - 0s 12ms/step - loss: 0.1016\n",
            "Epoch 64/100\n",
            "9/9 [==============================] - 0s 13ms/step - loss: 0.1133\n",
            "Epoch 65/100\n",
            "9/9 [==============================] - 0s 14ms/step - loss: 0.1104\n",
            "Epoch 66/100\n",
            "9/9 [==============================] - 0s 13ms/step - loss: 0.1076\n",
            "Epoch 67/100\n",
            "9/9 [==============================] - 0s 13ms/step - loss: 0.1151\n",
            "Epoch 68/100\n",
            "9/9 [==============================] - 0s 12ms/step - loss: 0.1091\n",
            "Epoch 69/100\n",
            "9/9 [==============================] - 0s 12ms/step - loss: 0.0957\n",
            "Epoch 70/100\n",
            "9/9 [==============================] - 0s 13ms/step - loss: 0.1072\n",
            "Epoch 71/100\n",
            "9/9 [==============================] - 0s 13ms/step - loss: 0.1256\n",
            "Epoch 72/100\n",
            "9/9 [==============================] - 0s 12ms/step - loss: 0.1021\n",
            "Epoch 73/100\n",
            "9/9 [==============================] - 0s 12ms/step - loss: 0.0842\n",
            "Epoch 74/100\n",
            "9/9 [==============================] - 0s 12ms/step - loss: 0.1308\n",
            "Epoch 75/100\n",
            "9/9 [==============================] - 0s 15ms/step - loss: 0.0868\n",
            "Epoch 76/100\n",
            "9/9 [==============================] - 0s 17ms/step - loss: 0.1016\n",
            "Epoch 77/100\n",
            "9/9 [==============================] - 0s 17ms/step - loss: 0.0803\n",
            "Epoch 78/100\n",
            "9/9 [==============================] - 0s 15ms/step - loss: 0.0902\n",
            "Epoch 79/100\n",
            "9/9 [==============================] - 0s 14ms/step - loss: 0.0816\n",
            "Epoch 80/100\n",
            "9/9 [==============================] - 0s 12ms/step - loss: 0.0718\n",
            "Epoch 81/100\n",
            "9/9 [==============================] - 0s 12ms/step - loss: 0.0787\n",
            "Epoch 82/100\n",
            "9/9 [==============================] - 0s 14ms/step - loss: 0.0667\n",
            "Epoch 83/100\n",
            "9/9 [==============================] - 0s 13ms/step - loss: 0.0688\n",
            "Epoch 84/100\n",
            "9/9 [==============================] - 0s 13ms/step - loss: 0.0908\n",
            "Epoch 85/100\n",
            "9/9 [==============================] - 0s 12ms/step - loss: 0.0634\n",
            "Epoch 86/100\n",
            "9/9 [==============================] - 0s 12ms/step - loss: 0.0756\n",
            "Epoch 87/100\n",
            "9/9 [==============================] - 0s 12ms/step - loss: 0.0621\n",
            "Epoch 88/100\n",
            "9/9 [==============================] - 0s 14ms/step - loss: 0.0905\n",
            "Epoch 89/100\n",
            "9/9 [==============================] - 0s 14ms/step - loss: 0.0613\n",
            "Epoch 90/100\n",
            "9/9 [==============================] - 0s 12ms/step - loss: 0.0778\n",
            "Epoch 91/100\n",
            "9/9 [==============================] - 0s 12ms/step - loss: 0.0791\n",
            "Epoch 92/100\n",
            "9/9 [==============================] - 0s 12ms/step - loss: 0.0596\n",
            "Epoch 93/100\n",
            "9/9 [==============================] - 0s 12ms/step - loss: 0.0794\n",
            "Epoch 94/100\n",
            "9/9 [==============================] - 0s 12ms/step - loss: 0.0696\n",
            "Epoch 95/100\n",
            "9/9 [==============================] - 0s 13ms/step - loss: 0.0640\n",
            "Epoch 96/100\n",
            "9/9 [==============================] - 0s 13ms/step - loss: 0.0611\n",
            "Epoch 97/100\n",
            "9/9 [==============================] - 0s 14ms/step - loss: 0.0642\n",
            "Epoch 98/100\n",
            "9/9 [==============================] - 0s 12ms/step - loss: 0.0629\n",
            "Epoch 99/100\n",
            "9/9 [==============================] - 0s 12ms/step - loss: 0.0608\n",
            "Epoch 100/100\n",
            "9/9 [==============================] - 0s 13ms/step - loss: 0.0546\n"
          ],
          "name": "stdout"
        },
        {
          "output_type": "execute_result",
          "data": {
            "text/plain": [
              "<tensorflow.python.keras.callbacks.History at 0x7ff08dd5aeb8>"
            ]
          },
          "metadata": {
            "tags": []
          },
          "execution_count": 80
        }
      ]
    },
    {
      "cell_type": "markdown",
      "metadata": {
        "id": "Uy3jPUNzd47p"
      },
      "source": [
        "## Step 3: Making Predictions and visualizing the results"
      ]
    }
  ]
}