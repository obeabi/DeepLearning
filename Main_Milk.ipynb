{
  "nbformat": 4,
  "nbformat_minor": 0,
  "metadata": {
    "colab": {
      "name": "Main_Milk.ipynb",
      "provenance": [],
      "authorship_tag": "ABX9TyM2LHIsHsQxVYLfsFBS4PRM",
      "include_colab_link": true
    },
    "kernelspec": {
      "name": "python3",
      "display_name": "Python 3"
    }
  },
  "cells": [
    {
      "cell_type": "markdown",
      "metadata": {
        "id": "view-in-github",
        "colab_type": "text"
      },
      "source": [
        "<a href=\"https://colab.research.google.com/github/obeabi/DeepLearning/blob/master/Main_Milk.ipynb\" target=\"_parent\"><img src=\"https://colab.research.google.com/assets/colab-badge.svg\" alt=\"Open In Colab\"/></a>"
      ]
    },
    {
      "cell_type": "markdown",
      "metadata": {
        "id": "vnysncb5SkwO"
      },
      "source": [
        "# Forecasting monthly milk production Using Gated Recurrent Network Model\n",
        "## Written by Abiola Obembe\n",
        "## Date : 2020-10-23"
      ]
    },
    {
      "cell_type": "code",
      "metadata": {
        "id": "6fSSceUIMZH0"
      },
      "source": [
        "# Import libarries\n",
        "import pandas as pd\n",
        "import numpy as np\n",
        "import matplotlib.pyplot as plt\n",
        "%matplotlib inline"
      ],
      "execution_count": 3,
      "outputs": []
    },
    {
      "cell_type": "markdown",
      "metadata": {
        "id": "h8SfbccYQczS"
      },
      "source": [
        "## Step 1 : Data Preprocessing"
      ]
    },
    {
      "cell_type": "code",
      "metadata": {
        "id": "-Vf5g91VNFVS",
        "outputId": "293d090d-2ecc-4a8e-ce12-0c395016ce15",
        "colab": {
          "base_uri": "https://localhost:8080/",
          "height": 639
        }
      },
      "source": [
        "# Import training set \n",
        "dataset_train = pd.read_csv('monthly-milk-production-pounds.csv')\n",
        "dataset_train.head(20)\n",
        "\n",
        "\n"
      ],
      "execution_count": 4,
      "outputs": [
        {
          "output_type": "execute_result",
          "data": {
            "text/html": [
              "<div>\n",
              "<style scoped>\n",
              "    .dataframe tbody tr th:only-of-type {\n",
              "        vertical-align: middle;\n",
              "    }\n",
              "\n",
              "    .dataframe tbody tr th {\n",
              "        vertical-align: top;\n",
              "    }\n",
              "\n",
              "    .dataframe thead th {\n",
              "        text-align: right;\n",
              "    }\n",
              "</style>\n",
              "<table border=\"1\" class=\"dataframe\">\n",
              "  <thead>\n",
              "    <tr style=\"text-align: right;\">\n",
              "      <th></th>\n",
              "      <th>Month</th>\n",
              "      <th>Monthly milk production: pounds per cow. Jan 62 ? Dec 75</th>\n",
              "    </tr>\n",
              "  </thead>\n",
              "  <tbody>\n",
              "    <tr>\n",
              "      <th>0</th>\n",
              "      <td>1962-01</td>\n",
              "      <td>589.0</td>\n",
              "    </tr>\n",
              "    <tr>\n",
              "      <th>1</th>\n",
              "      <td>1962-02</td>\n",
              "      <td>561.0</td>\n",
              "    </tr>\n",
              "    <tr>\n",
              "      <th>2</th>\n",
              "      <td>1962-03</td>\n",
              "      <td>640.0</td>\n",
              "    </tr>\n",
              "    <tr>\n",
              "      <th>3</th>\n",
              "      <td>1962-04</td>\n",
              "      <td>656.0</td>\n",
              "    </tr>\n",
              "    <tr>\n",
              "      <th>4</th>\n",
              "      <td>1962-05</td>\n",
              "      <td>727.0</td>\n",
              "    </tr>\n",
              "    <tr>\n",
              "      <th>5</th>\n",
              "      <td>1962-06</td>\n",
              "      <td>697.0</td>\n",
              "    </tr>\n",
              "    <tr>\n",
              "      <th>6</th>\n",
              "      <td>1962-07</td>\n",
              "      <td>640.0</td>\n",
              "    </tr>\n",
              "    <tr>\n",
              "      <th>7</th>\n",
              "      <td>1962-08</td>\n",
              "      <td>599.0</td>\n",
              "    </tr>\n",
              "    <tr>\n",
              "      <th>8</th>\n",
              "      <td>1962-09</td>\n",
              "      <td>568.0</td>\n",
              "    </tr>\n",
              "    <tr>\n",
              "      <th>9</th>\n",
              "      <td>1962-10</td>\n",
              "      <td>577.0</td>\n",
              "    </tr>\n",
              "    <tr>\n",
              "      <th>10</th>\n",
              "      <td>1962-11</td>\n",
              "      <td>553.0</td>\n",
              "    </tr>\n",
              "    <tr>\n",
              "      <th>11</th>\n",
              "      <td>1962-12</td>\n",
              "      <td>582.0</td>\n",
              "    </tr>\n",
              "    <tr>\n",
              "      <th>12</th>\n",
              "      <td>1963-01</td>\n",
              "      <td>600.0</td>\n",
              "    </tr>\n",
              "    <tr>\n",
              "      <th>13</th>\n",
              "      <td>1963-02</td>\n",
              "      <td>566.0</td>\n",
              "    </tr>\n",
              "    <tr>\n",
              "      <th>14</th>\n",
              "      <td>1963-03</td>\n",
              "      <td>653.0</td>\n",
              "    </tr>\n",
              "    <tr>\n",
              "      <th>15</th>\n",
              "      <td>1963-04</td>\n",
              "      <td>673.0</td>\n",
              "    </tr>\n",
              "    <tr>\n",
              "      <th>16</th>\n",
              "      <td>1963-05</td>\n",
              "      <td>742.0</td>\n",
              "    </tr>\n",
              "    <tr>\n",
              "      <th>17</th>\n",
              "      <td>1963-06</td>\n",
              "      <td>716.0</td>\n",
              "    </tr>\n",
              "    <tr>\n",
              "      <th>18</th>\n",
              "      <td>1963-07</td>\n",
              "      <td>660.0</td>\n",
              "    </tr>\n",
              "    <tr>\n",
              "      <th>19</th>\n",
              "      <td>1963-08</td>\n",
              "      <td>617.0</td>\n",
              "    </tr>\n",
              "  </tbody>\n",
              "</table>\n",
              "</div>"
            ],
            "text/plain": [
              "      Month  Monthly milk production: pounds per cow. Jan 62 ? Dec 75\n",
              "0   1962-01                                              589.0       \n",
              "1   1962-02                                              561.0       \n",
              "2   1962-03                                              640.0       \n",
              "3   1962-04                                              656.0       \n",
              "4   1962-05                                              727.0       \n",
              "5   1962-06                                              697.0       \n",
              "6   1962-07                                              640.0       \n",
              "7   1962-08                                              599.0       \n",
              "8   1962-09                                              568.0       \n",
              "9   1962-10                                              577.0       \n",
              "10  1962-11                                              553.0       \n",
              "11  1962-12                                              582.0       \n",
              "12  1963-01                                              600.0       \n",
              "13  1963-02                                              566.0       \n",
              "14  1963-03                                              653.0       \n",
              "15  1963-04                                              673.0       \n",
              "16  1963-05                                              742.0       \n",
              "17  1963-06                                              716.0       \n",
              "18  1963-07                                              660.0       \n",
              "19  1963-08                                              617.0       "
            ]
          },
          "metadata": {
            "tags": []
          },
          "execution_count": 4
        }
      ]
    },
    {
      "cell_type": "code",
      "metadata": {
        "id": "7Q681leqOmV2",
        "outputId": "0cdf9191-b21c-4775-acb8-1435ac203865",
        "colab": {
          "base_uri": "https://localhost:8080/",
          "height": 34
        }
      },
      "source": [
        "# Check dataframe shape\n",
        "dataset_train.shape"
      ],
      "execution_count": 5,
      "outputs": [
        {
          "output_type": "execute_result",
          "data": {
            "text/plain": [
              "(169, 2)"
            ]
          },
          "metadata": {
            "tags": []
          },
          "execution_count": 5
        }
      ]
    },
    {
      "cell_type": "code",
      "metadata": {
        "id": "gwvjbmIYOvvJ",
        "outputId": "4de5779d-b0a7-4776-b397-aa12f6bd578a",
        "colab": {
          "base_uri": "https://localhost:8080/",
          "height": 67
        }
      },
      "source": [
        "# Check data structures\n",
        "dataset_train.dtypes"
      ],
      "execution_count": 6,
      "outputs": [
        {
          "output_type": "execute_result",
          "data": {
            "text/plain": [
              "Month                                                        object\n",
              "Monthly milk production: pounds per cow. Jan 62 ? Dec 75    float64\n",
              "dtype: object"
            ]
          },
          "metadata": {
            "tags": []
          },
          "execution_count": 6
        }
      ]
    },
    {
      "cell_type": "code",
      "metadata": {
        "id": "p4t9msqQOXnt",
        "outputId": "6a61f5cc-cedc-490a-8a43-333475af690a",
        "colab": {
          "base_uri": "https://localhost:8080/",
          "height": 34
        }
      },
      "source": [
        "# check for missing values\n",
        "missing_values = dataset_train.isnull().sum().sum()\n",
        "print(\"The number of missing values in the dataframe is\", missing_values)"
      ],
      "execution_count": 7,
      "outputs": [
        {
          "output_type": "stream",
          "text": [
            "The number of missing values in the dataframe is 1\n"
          ],
          "name": "stdout"
        }
      ]
    },
    {
      "cell_type": "code",
      "metadata": {
        "id": "x5-8KLBiPEQU",
        "outputId": "d776ea7d-541e-4ae7-bc5a-f77666bf3822",
        "colab": {
          "base_uri": "https://localhost:8080/",
          "height": 34
        }
      },
      "source": [
        "# Drop missing values\n",
        "dataset_train = dataset_train.dropna(axis = 0)\n",
        "\n",
        "# check for missing values in new dataframe\n",
        "missing_values = dataset_train.isnull().sum().sum()\n",
        "print(\"The number of missing values in the new dataframe is\", missing_values)\n"
      ],
      "execution_count": 8,
      "outputs": [
        {
          "output_type": "stream",
          "text": [
            "The number of missing values in the new dataframe is 0\n"
          ],
          "name": "stdout"
        }
      ]
    },
    {
      "cell_type": "code",
      "metadata": {
        "id": "YyuW2WNePqa0",
        "outputId": "10a9f07d-b20d-412b-fdd7-77f35c8e2b0b",
        "colab": {
          "base_uri": "https://localhost:8080/",
          "height": 34
        }
      },
      "source": [
        "# Print column headers\n",
        "dataset_train.columns"
      ],
      "execution_count": 9,
      "outputs": [
        {
          "output_type": "execute_result",
          "data": {
            "text/plain": [
              "Index(['Month', 'Monthly milk production: pounds per cow. Jan 62 ? Dec 75'], dtype='object')"
            ]
          },
          "metadata": {
            "tags": []
          },
          "execution_count": 9
        }
      ]
    },
    {
      "cell_type": "code",
      "metadata": {
        "id": "WyKI8B73P4WF",
        "outputId": "5a5fe8ee-55c3-4d44-b14d-876afb03b6fb",
        "colab": {
          "base_uri": "https://localhost:8080/",
          "height": 195
        }
      },
      "source": [
        "# Change column headers to something more meaningful\n",
        "dataset_train.columns = ['Time', 'Production']\n",
        "dataset_train.head()"
      ],
      "execution_count": 10,
      "outputs": [
        {
          "output_type": "execute_result",
          "data": {
            "text/html": [
              "<div>\n",
              "<style scoped>\n",
              "    .dataframe tbody tr th:only-of-type {\n",
              "        vertical-align: middle;\n",
              "    }\n",
              "\n",
              "    .dataframe tbody tr th {\n",
              "        vertical-align: top;\n",
              "    }\n",
              "\n",
              "    .dataframe thead th {\n",
              "        text-align: right;\n",
              "    }\n",
              "</style>\n",
              "<table border=\"1\" class=\"dataframe\">\n",
              "  <thead>\n",
              "    <tr style=\"text-align: right;\">\n",
              "      <th></th>\n",
              "      <th>Time</th>\n",
              "      <th>Production</th>\n",
              "    </tr>\n",
              "  </thead>\n",
              "  <tbody>\n",
              "    <tr>\n",
              "      <th>0</th>\n",
              "      <td>1962-01</td>\n",
              "      <td>589.0</td>\n",
              "    </tr>\n",
              "    <tr>\n",
              "      <th>1</th>\n",
              "      <td>1962-02</td>\n",
              "      <td>561.0</td>\n",
              "    </tr>\n",
              "    <tr>\n",
              "      <th>2</th>\n",
              "      <td>1962-03</td>\n",
              "      <td>640.0</td>\n",
              "    </tr>\n",
              "    <tr>\n",
              "      <th>3</th>\n",
              "      <td>1962-04</td>\n",
              "      <td>656.0</td>\n",
              "    </tr>\n",
              "    <tr>\n",
              "      <th>4</th>\n",
              "      <td>1962-05</td>\n",
              "      <td>727.0</td>\n",
              "    </tr>\n",
              "  </tbody>\n",
              "</table>\n",
              "</div>"
            ],
            "text/plain": [
              "      Time  Production\n",
              "0  1962-01       589.0\n",
              "1  1962-02       561.0\n",
              "2  1962-03       640.0\n",
              "3  1962-04       656.0\n",
              "4  1962-05       727.0"
            ]
          },
          "metadata": {
            "tags": []
          },
          "execution_count": 10
        }
      ]
    },
    {
      "cell_type": "code",
      "metadata": {
        "id": "_dk95faYPi12",
        "outputId": "80bcd08a-df35-455b-864b-f4f9192aa138",
        "colab": {
          "base_uri": "https://localhost:8080/",
          "height": 265
        }
      },
      "source": [
        "# Plot dataset\n",
        "\n",
        "dataset_train.plot()\n",
        "plt.show()"
      ],
      "execution_count": 11,
      "outputs": [
        {
          "output_type": "display_data",
          "data": {
            "image/png": "[encoded data removed]",
            "text/plain": [
              "<Figure size 432x288 with 1 Axes>"
            ]
          },
          "metadata": {
            "tags": [],
            "needs_background": "light"
          }
        }
      ]
    },
    {
      "cell_type": "code",
      "metadata": {
        "id": "aTRuqm6-Qzp5",
        "outputId": "58315dd0-1f0c-407c-c695-73f25e785453",
        "colab": {
          "base_uri": "https://localhost:8080/",
          "height": 195
        }
      },
      "source": [
        "# Convert time column values to date time format\n",
        "dataset_train['Time'] = pd.to_datetime(dataset_train['Time'])\n",
        "dataset_train.head()"
      ],
      "execution_count": 12,
      "outputs": [
        {
          "output_type": "execute_result",
          "data": {
            "text/html": [
              "<div>\n",
              "<style scoped>\n",
              "    .dataframe tbody tr th:only-of-type {\n",
              "        vertical-align: middle;\n",
              "    }\n",
              "\n",
              "    .dataframe tbody tr th {\n",
              "        vertical-align: top;\n",
              "    }\n",
              "\n",
              "    .dataframe thead th {\n",
              "        text-align: right;\n",
              "    }\n",
              "</style>\n",
              "<table border=\"1\" class=\"dataframe\">\n",
              "  <thead>\n",
              "    <tr style=\"text-align: right;\">\n",
              "      <th></th>\n",
              "      <th>Time</th>\n",
              "      <th>Production</th>\n",
              "    </tr>\n",
              "  </thead>\n",
              "  <tbody>\n",
              "    <tr>\n",
              "      <th>0</th>\n",
              "      <td>1962-01-01</td>\n",
              "      <td>589.0</td>\n",
              "    </tr>\n",
              "    <tr>\n",
              "      <th>1</th>\n",
              "      <td>1962-02-01</td>\n",
              "      <td>561.0</td>\n",
              "    </tr>\n",
              "    <tr>\n",
              "      <th>2</th>\n",
              "      <td>1962-03-01</td>\n",
              "      <td>640.0</td>\n",
              "    </tr>\n",
              "    <tr>\n",
              "      <th>3</th>\n",
              "      <td>1962-04-01</td>\n",
              "      <td>656.0</td>\n",
              "    </tr>\n",
              "    <tr>\n",
              "      <th>4</th>\n",
              "      <td>1962-05-01</td>\n",
              "      <td>727.0</td>\n",
              "    </tr>\n",
              "  </tbody>\n",
              "</table>\n",
              "</div>"
            ],
            "text/plain": [
              "        Time  Production\n",
              "0 1962-01-01       589.0\n",
              "1 1962-02-01       561.0\n",
              "2 1962-03-01       640.0\n",
              "3 1962-04-01       656.0\n",
              "4 1962-05-01       727.0"
            ]
          },
          "metadata": {
            "tags": []
          },
          "execution_count": 12
        }
      ]
    },
    {
      "cell_type": "code",
      "metadata": {
        "id": "-_xR3yzLN9jU",
        "outputId": "d9be2564-ef56-4f1c-c4a3-17dd81352a12",
        "colab": {
          "base_uri": "https://localhost:8080/",
          "height": 101
        }
      },
      "source": [
        "# Obtain training set for analysis\n",
        "train_set = dataset_train.iloc[:,1:2].values\n",
        "train_set[0:5]"
      ],
      "execution_count": 13,
      "outputs": [
        {
          "output_type": "execute_result",
          "data": {
            "text/plain": [
              "array([[589.],\n",
              "       [561.],\n",
              "       [640.],\n",
              "       [656.],\n",
              "       [727.]])"
            ]
          },
          "metadata": {
            "tags": []
          },
          "execution_count": 13
        }
      ]
    },
    {
      "cell_type": "code",
      "metadata": {
        "id": "wbeKaSDHRQfj"
      },
      "source": [
        "# Feature scaling by normalization\n",
        "from sklearn.preprocessing import MinMaxScaler\n",
        "sc = MinMaxScaler(feature_range=(0,1))\n",
        "train_set_sc = sc.fit_transform(train_set)"
      ],
      "execution_count": 14,
      "outputs": []
    },
    {
      "cell_type": "code",
      "metadata": {
        "id": "OXkdO0jDXppA",
        "outputId": "246d8e3d-5878-40ad-9a23-50a6f43cb168",
        "colab": {
          "base_uri": "https://localhost:8080/",
          "height": 101
        }
      },
      "source": [
        "# print train set\n",
        "train_set_sc[0:5]"
      ],
      "execution_count": 15,
      "outputs": [
        {
          "output_type": "execute_result",
          "data": {
            "text/plain": [
              "array([[0.08653846],\n",
              "       [0.01923077],\n",
              "       [0.20913462],\n",
              "       [0.24759615],\n",
              "       [0.41826923]])"
            ]
          },
          "metadata": {
            "tags": []
          },
          "execution_count": 15
        }
      ]
    },
    {
      "cell_type": "code",
      "metadata": {
        "id": "8iZRMwdVTSkz"
      },
      "source": [
        "# Create data structure using history (Tx) and 1 output for training set\n",
        "Tx = 10\n",
        "X_train = []\n",
        "y_train = []\n",
        "m = len(train_set_sc)\n",
        "\n",
        "for i in range(Tx, m):\n",
        "    X_train.append(train_set_sc[i-Tx : i, 0])\n",
        "    y_train.append(train_set_sc[i,0])\n",
        "    \n",
        "X_train, y_train = np.array(X_train) , np.array(y_train)"
      ],
      "execution_count": 16,
      "outputs": []
    },
    {
      "cell_type": "code",
      "metadata": {
        "id": "gHcVZCpxUAHi",
        "outputId": "bdd899f0-546c-4d0a-c99b-b977f1d4e11e",
        "colab": {
          "base_uri": "https://localhost:8080/",
          "height": 269
        }
      },
      "source": [
        "# Examine data structure for training set\n",
        "print(X_train.shape)\n",
        "print(y_train.shape)\n",
        "X_train"
      ],
      "execution_count": 17,
      "outputs": [
        {
          "output_type": "stream",
          "text": [
            "(158, 10)\n",
            "(158,)\n"
          ],
          "name": "stdout"
        },
        {
          "output_type": "execute_result",
          "data": {
            "text/plain": [
              "array([[0.08653846, 0.01923077, 0.20913462, ..., 0.11057692, 0.03605769,\n",
              "        0.05769231],\n",
              "       [0.01923077, 0.20913462, 0.24759615, ..., 0.03605769, 0.05769231,\n",
              "        0.        ],\n",
              "       [0.20913462, 0.24759615, 0.41826923, ..., 0.05769231, 0.        ,\n",
              "        0.06971154],\n",
              "       ...,\n",
              "       [0.625     , 0.67548077, 0.55048077, ..., 0.82451923, 0.73317308,\n",
              "        0.63461538],\n",
              "       [0.67548077, 0.55048077, 0.81490385, ..., 0.73317308, 0.63461538,\n",
              "        0.65865385],\n",
              "       [0.55048077, 0.81490385, 0.84134615, ..., 0.63461538, 0.65865385,\n",
              "        0.58653846]])"
            ]
          },
          "metadata": {
            "tags": []
          },
          "execution_count": 17
        }
      ]
    },
    {
      "cell_type": "code",
      "metadata": {
        "id": "ECa0eXJjVxhW"
      },
      "source": [
        "# Reshape to RNN Input shape including adding new indicators\n",
        "\n",
        "X_train = np.reshape(X_train, newshape= (X_train.shape[0], X_train.shape[1], 1))\n"
      ],
      "execution_count": 18,
      "outputs": []
    },
    {
      "cell_type": "markdown",
      "metadata": {
        "id": "LroD-f13UYIQ"
      },
      "source": [
        "## Part 2 - Building the RNN / LSTM / GRU"
      ]
    },
    {
      "cell_type": "code",
      "metadata": {
        "id": "A06y18WtWsz9"
      },
      "source": [
        "# Import the libraries from keras\n",
        "from keras.models import Sequential\n",
        "from keras.layers import Dense\n",
        "from keras.layers import Dropout\n",
        "from keras.layers import LSTM, GRU\n",
        "from keras.layers import BatchNormalization"
      ],
      "execution_count": 19,
      "outputs": []
    },
    {
      "cell_type": "code",
      "metadata": {
        "id": "lyLGepoXam2-"
      },
      "source": [
        "# Initalize the GRU\n",
        "\n",
        "gru = Sequential()"
      ],
      "execution_count": 20,
      "outputs": []
    },
    {
      "cell_type": "code",
      "metadata": {
        "id": "rmwV5_PLa3nL"
      },
      "source": [
        "# Add the first layer and dropout regularization\n",
        "gru.add(GRU(units = 50, return_sequences= True, input_shape= (X_train.shape[1],1))) # the 1 in input-shape corresponds to no of indicators\n",
        "gru.add(BatchNormalization())\n",
        "gru.add(Dropout((0.2)))"
      ],
      "execution_count": 21,
      "outputs": []
    },
    {
      "cell_type": "code",
      "metadata": {
        "id": "malHarKCcrH6"
      },
      "source": [
        "# Add the Second layer and dropout regularization\n",
        "gru.add(GRU(units = 50, return_sequences=True))\n",
        "gru.add(BatchNormalization())\n",
        "gru.add(Dropout((0.2)))"
      ],
      "execution_count": 22,
      "outputs": []
    },
    {
      "cell_type": "code",
      "metadata": {
        "id": "rvboYPXicxzL"
      },
      "source": [
        "# Add the Third layer and dropout regularization\n",
        "gru.add(GRU(units = 50, return_sequences=True))\n",
        "gru.add(BatchNormalization())\n",
        "gru.add(Dropout((0.2)))"
      ],
      "execution_count": 23,
      "outputs": []
    },
    {
      "cell_type": "code",
      "metadata": {
        "id": "FD4WbGM-c36P"
      },
      "source": [
        "# Add the Fourth layer and dropout regularization\n",
        "gru.add(GRU(units = 50, return_sequences=False))\n",
        "gru.add(BatchNormalization())\n",
        "gru.add(Dropout((0.2)))"
      ],
      "execution_count": 24,
      "outputs": []
    },
    {
      "cell_type": "code",
      "metadata": {
        "id": "NrSg80gdc9rO"
      },
      "source": [
        "# Add the output layer\n",
        "gru.add(Dense(units = 1))"
      ],
      "execution_count": 25,
      "outputs": []
    },
    {
      "cell_type": "code",
      "metadata": {
        "id": "LZE5LWTzdNk1",
        "outputId": "a00d4677-6d11-4669-e130-7dc177dd00f4",
        "colab": {
          "base_uri": "https://localhost:8080/",
          "height": 588
        }
      },
      "source": [
        "# Compile the GRU\n",
        "gru.compile(optimizer = 'adam', loss = 'mean_squared_error')\n",
        "gru.summary()"
      ],
      "execution_count": 26,
      "outputs": [
        {
          "output_type": "stream",
          "text": [
            "Model: \"sequential\"\n",
            "_________________________________________________________________\n",
            "Layer (type)                 Output Shape              Param #   \n",
            "=================================================================\n",
            "gru (GRU)                    (None, 10, 50)            7950      \n",
            "_________________________________________________________________\n",
            "batch_normalization (BatchNo (None, 10, 50)            200       \n",
            "_________________________________________________________________\n",
            "dropout (Dropout)            (None, 10, 50)            0         \n",
            "_________________________________________________________________\n",
            "gru_1 (GRU)                  (None, 10, 50)            15300     \n",
            "_________________________________________________________________\n",
            "batch_normalization_1 (Batch (None, 10, 50)            200       \n",
            "_________________________________________________________________\n",
            "dropout_1 (Dropout)          (None, 10, 50)            0         \n",
            "_________________________________________________________________\n",
            "gru_2 (GRU)                  (None, 10, 50)            15300     \n",
            "_________________________________________________________________\n",
            "batch_normalization_2 (Batch (None, 10, 50)            200       \n",
            "_________________________________________________________________\n",
            "dropout_2 (Dropout)          (None, 10, 50)            0         \n",
            "_________________________________________________________________\n",
            "gru_3 (GRU)                  (None, 50)                15300     \n",
            "_________________________________________________________________\n",
            "batch_normalization_3 (Batch (None, 50)                200       \n",
            "_________________________________________________________________\n",
            "dropout_3 (Dropout)          (None, 50)                0         \n",
            "_________________________________________________________________\n",
            "dense (Dense)                (None, 1)                 51        \n",
            "=================================================================\n",
            "Total params: 54,701\n",
            "Trainable params: 54,301\n",
            "Non-trainable params: 400\n",
            "_________________________________________________________________\n"
          ],
          "name": "stdout"
        }
      ]
    },
    {
      "cell_type": "code",
      "metadata": {
        "id": "eKEwT0vKdQWF",
        "outputId": "17101cbc-2f5c-4574-9852-b6f55acc9c22",
        "colab": {
          "base_uri": "https://localhost:8080/",
          "height": 1000
        }
      },
      "source": [
        "# Fitting the gru to the training set\n",
        "gru.fit(X_train, y_train, epochs = 200, batch_size=16)"
      ],
      "execution_count": 27,
      "outputs": [
        {
          "output_type": "stream",
          "text": [
            "Epoch 1/200\n",
            "10/10 [==============================] - 0s 20ms/step - loss: 1.2469\n",
            "Epoch 2/200\n",
            "10/10 [==============================] - 0s 19ms/step - loss: 1.1636\n",
            "Epoch 3/200\n",
            "10/10 [==============================] - 0s 20ms/step - loss: 0.7330\n",
            "Epoch 4/200\n",
            "10/10 [==============================] - 0s 19ms/step - loss: 0.5230\n",
            "Epoch 5/200\n",
            "10/10 [==============================] - 0s 18ms/step - loss: 0.5980\n",
            "Epoch 6/200\n",
            "10/10 [==============================] - 0s 18ms/step - loss: 0.5070\n",
            "Epoch 7/200\n",
            "10/10 [==============================] - 0s 20ms/step - loss: 0.5843\n",
            "Epoch 8/200\n",
            "10/10 [==============================] - 0s 20ms/step - loss: 0.4737\n",
            "Epoch 9/200\n",
            "10/10 [==============================] - 0s 21ms/step - loss: 0.5537\n",
            "Epoch 10/200\n",
            "10/10 [==============================] - 0s 19ms/step - loss: 0.4046\n",
            "Epoch 11/200\n",
            "10/10 [==============================] - 0s 19ms/step - loss: 0.4443\n",
            "Epoch 12/200\n",
            "10/10 [==============================] - 0s 18ms/step - loss: 0.3938\n",
            "Epoch 13/200\n",
            "10/10 [==============================] - 0s 20ms/step - loss: 0.3043\n",
            "Epoch 14/200\n",
            "10/10 [==============================] - 0s 24ms/step - loss: 0.3571\n",
            "Epoch 15/200\n",
            "10/10 [==============================] - 0s 20ms/step - loss: 0.3774\n",
            "Epoch 16/200\n",
            "10/10 [==============================] - 0s 20ms/step - loss: 0.2933\n",
            "Epoch 17/200\n",
            "10/10 [==============================] - 0s 21ms/step - loss: 0.3360\n",
            "Epoch 18/200\n",
            "10/10 [==============================] - 0s 19ms/step - loss: 0.3226\n",
            "Epoch 19/200\n",
            "10/10 [==============================] - 0s 19ms/step - loss: 0.2953\n",
            "Epoch 20/200\n",
            "10/10 [==============================] - 0s 20ms/step - loss: 0.3168\n",
            "Epoch 21/200\n",
            "10/10 [==============================] - 0s 23ms/step - loss: 0.2552\n",
            "Epoch 22/200\n",
            "10/10 [==============================] - 0s 19ms/step - loss: 0.3022\n",
            "Epoch 23/200\n",
            "10/10 [==============================] - 0s 20ms/step - loss: 0.3045\n",
            "Epoch 24/200\n",
            "10/10 [==============================] - 0s 18ms/step - loss: 0.3075\n",
            "Epoch 25/200\n",
            "10/10 [==============================] - 0s 19ms/step - loss: 0.2336\n",
            "Epoch 26/200\n",
            "10/10 [==============================] - 0s 19ms/step - loss: 0.2565\n",
            "Epoch 27/200\n",
            "10/10 [==============================] - 0s 19ms/step - loss: 0.3045\n",
            "Epoch 28/200\n",
            "10/10 [==============================] - 0s 18ms/step - loss: 0.2131\n",
            "Epoch 29/200\n",
            "10/10 [==============================] - 0s 19ms/step - loss: 0.2436\n",
            "Epoch 30/200\n",
            "10/10 [==============================] - 0s 20ms/step - loss: 0.2808\n",
            "Epoch 31/200\n",
            "10/10 [==============================] - 0s 19ms/step - loss: 0.2440\n",
            "Epoch 32/200\n",
            "10/10 [==============================] - 0s 18ms/step - loss: 0.2376\n",
            "Epoch 33/200\n",
            "10/10 [==============================] - 0s 18ms/step - loss: 0.2220\n",
            "Epoch 34/200\n",
            "10/10 [==============================] - 0s 18ms/step - loss: 0.2174\n",
            "Epoch 35/200\n",
            "10/10 [==============================] - 0s 20ms/step - loss: 0.2505\n",
            "Epoch 36/200\n",
            "10/10 [==============================] - 0s 19ms/step - loss: 0.1649\n",
            "Epoch 37/200\n",
            "10/10 [==============================] - 0s 19ms/step - loss: 0.1740\n",
            "Epoch 38/200\n",
            "10/10 [==============================] - 0s 19ms/step - loss: 0.1993\n",
            "Epoch 39/200\n",
            "10/10 [==============================] - 0s 19ms/step - loss: 0.1776\n",
            "Epoch 40/200\n",
            "10/10 [==============================] - 0s 20ms/step - loss: 0.2013\n",
            "Epoch 41/200\n",
            "10/10 [==============================] - 0s 19ms/step - loss: 0.1520\n",
            "Epoch 42/200\n",
            "10/10 [==============================] - 0s 18ms/step - loss: 0.1989\n",
            "Epoch 43/200\n",
            "10/10 [==============================] - 0s 19ms/step - loss: 0.1311\n",
            "Epoch 44/200\n",
            "10/10 [==============================] - 0s 19ms/step - loss: 0.1895\n",
            "Epoch 45/200\n",
            "10/10 [==============================] - 0s 20ms/step - loss: 0.1696\n",
            "Epoch 46/200\n",
            "10/10 [==============================] - 0s 19ms/step - loss: 0.1550\n",
            "Epoch 47/200\n",
            "10/10 [==============================] - 0s 19ms/step - loss: 0.1367\n",
            "Epoch 48/200\n",
            "10/10 [==============================] - 0s 19ms/step - loss: 0.1221\n",
            "Epoch 49/200\n",
            "10/10 [==============================] - 0s 18ms/step - loss: 0.1688\n",
            "Epoch 50/200\n",
            "10/10 [==============================] - 0s 20ms/step - loss: 0.1512\n",
            "Epoch 51/200\n",
            "10/10 [==============================] - 0s 20ms/step - loss: 0.1415\n",
            "Epoch 52/200\n",
            "10/10 [==============================] - 0s 19ms/step - loss: 0.1196\n",
            "Epoch 53/200\n",
            "10/10 [==============================] - 0s 19ms/step - loss: 0.1392\n",
            "Epoch 54/200\n",
            "10/10 [==============================] - 0s 21ms/step - loss: 0.1153\n",
            "Epoch 55/200\n",
            "10/10 [==============================] - 0s 19ms/step - loss: 0.1119\n",
            "Epoch 56/200\n",
            "10/10 [==============================] - 0s 19ms/step - loss: 0.1425\n",
            "Epoch 57/200\n",
            "10/10 [==============================] - 0s 19ms/step - loss: 0.1233\n",
            "Epoch 58/200\n",
            "10/10 [==============================] - 0s 21ms/step - loss: 0.1287\n",
            "Epoch 59/200\n",
            "10/10 [==============================] - 0s 19ms/step - loss: 0.1142\n",
            "Epoch 60/200\n",
            "10/10 [==============================] - 0s 19ms/step - loss: 0.1355\n",
            "Epoch 61/200\n",
            "10/10 [==============================] - 0s 19ms/step - loss: 0.1133\n",
            "Epoch 62/200\n",
            "10/10 [==============================] - 0s 20ms/step - loss: 0.1053\n",
            "Epoch 63/200\n",
            "10/10 [==============================] - 0s 21ms/step - loss: 0.0875\n",
            "Epoch 64/200\n",
            "10/10 [==============================] - 0s 24ms/step - loss: 0.1115\n",
            "Epoch 65/200\n",
            "10/10 [==============================] - 0s 20ms/step - loss: 0.0992\n",
            "Epoch 66/200\n",
            "10/10 [==============================] - 0s 19ms/step - loss: 0.1023\n",
            "Epoch 67/200\n",
            "10/10 [==============================] - 0s 21ms/step - loss: 0.1044\n",
            "Epoch 68/200\n",
            "10/10 [==============================] - 0s 19ms/step - loss: 0.1160\n",
            "Epoch 69/200\n",
            "10/10 [==============================] - 0s 19ms/step - loss: 0.0899\n",
            "Epoch 70/200\n",
            "10/10 [==============================] - 0s 19ms/step - loss: 0.0968\n",
            "Epoch 71/200\n",
            "10/10 [==============================] - 0s 18ms/step - loss: 0.0954\n",
            "Epoch 72/200\n",
            "10/10 [==============================] - 0s 19ms/step - loss: 0.0939\n",
            "Epoch 73/200\n",
            "10/10 [==============================] - 0s 19ms/step - loss: 0.1037\n",
            "Epoch 74/200\n",
            "10/10 [==============================] - 0s 20ms/step - loss: 0.0926\n",
            "Epoch 75/200\n",
            "10/10 [==============================] - 0s 20ms/step - loss: 0.1065\n",
            "Epoch 76/200\n",
            "10/10 [==============================] - 0s 19ms/step - loss: 0.0807\n",
            "Epoch 77/200\n",
            "10/10 [==============================] - 0s 18ms/step - loss: 0.0730\n",
            "Epoch 78/200\n",
            "10/10 [==============================] - 0s 18ms/step - loss: 0.0896\n",
            "Epoch 79/200\n",
            "10/10 [==============================] - 0s 20ms/step - loss: 0.0741\n",
            "Epoch 80/200\n",
            "10/10 [==============================] - 0s 19ms/step - loss: 0.0884\n",
            "Epoch 81/200\n",
            "10/10 [==============================] - 0s 20ms/step - loss: 0.0671\n",
            "Epoch 82/200\n",
            "10/10 [==============================] - 0s 19ms/step - loss: 0.0678\n",
            "Epoch 83/200\n",
            "10/10 [==============================] - 0s 19ms/step - loss: 0.0907\n",
            "Epoch 84/200\n",
            "10/10 [==============================] - 0s 19ms/step - loss: 0.0668\n",
            "Epoch 85/200\n",
            "10/10 [==============================] - 0s 19ms/step - loss: 0.0710\n",
            "Epoch 86/200\n",
            "10/10 [==============================] - 0s 20ms/step - loss: 0.0543\n",
            "Epoch 87/200\n",
            "10/10 [==============================] - 0s 19ms/step - loss: 0.0596\n",
            "Epoch 88/200\n",
            "10/10 [==============================] - 0s 19ms/step - loss: 0.0512\n",
            "Epoch 89/200\n",
            "10/10 [==============================] - 0s 20ms/step - loss: 0.0630\n",
            "Epoch 90/200\n",
            "10/10 [==============================] - 0s 19ms/step - loss: 0.0703\n",
            "Epoch 91/200\n",
            "10/10 [==============================] - 0s 19ms/step - loss: 0.0667\n",
            "Epoch 92/200\n",
            "10/10 [==============================] - 0s 25ms/step - loss: 0.0645\n",
            "Epoch 93/200\n",
            "10/10 [==============================] - 0s 19ms/step - loss: 0.0434\n",
            "Epoch 94/200\n",
            "10/10 [==============================] - 0s 19ms/step - loss: 0.0534\n",
            "Epoch 95/200\n",
            "10/10 [==============================] - 0s 19ms/step - loss: 0.0559\n",
            "Epoch 96/200\n",
            "10/10 [==============================] - 0s 18ms/step - loss: 0.0534\n",
            "Epoch 97/200\n",
            "10/10 [==============================] - 0s 19ms/step - loss: 0.0514\n",
            "Epoch 98/200\n",
            "10/10 [==============================] - 0s 19ms/step - loss: 0.0393\n",
            "Epoch 99/200\n",
            "10/10 [==============================] - 0s 19ms/step - loss: 0.0584\n",
            "Epoch 100/200\n",
            "10/10 [==============================] - 0s 19ms/step - loss: 0.0452\n",
            "Epoch 101/200\n",
            "10/10 [==============================] - 0s 19ms/step - loss: 0.0447\n",
            "Epoch 102/200\n",
            "10/10 [==============================] - 0s 20ms/step - loss: 0.0356\n",
            "Epoch 103/200\n",
            "10/10 [==============================] - 0s 19ms/step - loss: 0.0472\n",
            "Epoch 104/200\n",
            "10/10 [==============================] - 0s 21ms/step - loss: 0.0503\n",
            "Epoch 105/200\n",
            "10/10 [==============================] - 0s 19ms/step - loss: 0.0382\n",
            "Epoch 106/200\n",
            "10/10 [==============================] - 0s 19ms/step - loss: 0.0405\n",
            "Epoch 107/200\n",
            "10/10 [==============================] - 0s 20ms/step - loss: 0.0373\n",
            "Epoch 108/200\n",
            "10/10 [==============================] - 0s 19ms/step - loss: 0.0423\n",
            "Epoch 109/200\n",
            "10/10 [==============================] - 0s 19ms/step - loss: 0.0490\n",
            "Epoch 110/200\n",
            "10/10 [==============================] - 0s 19ms/step - loss: 0.0380\n",
            "Epoch 111/200\n",
            "10/10 [==============================] - 0s 20ms/step - loss: 0.0369\n",
            "Epoch 112/200\n",
            "10/10 [==============================] - 0s 18ms/step - loss: 0.0363\n",
            "Epoch 113/200\n",
            "10/10 [==============================] - 0s 19ms/step - loss: 0.0457\n",
            "Epoch 114/200\n",
            "10/10 [==============================] - 0s 19ms/step - loss: 0.0384\n",
            "Epoch 115/200\n",
            "10/10 [==============================] - 0s 19ms/step - loss: 0.0378\n",
            "Epoch 116/200\n",
            "10/10 [==============================] - 0s 19ms/step - loss: 0.0388\n",
            "Epoch 117/200\n",
            "10/10 [==============================] - 0s 23ms/step - loss: 0.0475\n",
            "Epoch 118/200\n",
            "10/10 [==============================] - 0s 19ms/step - loss: 0.0341\n",
            "Epoch 119/200\n",
            "10/10 [==============================] - 0s 19ms/step - loss: 0.0350\n",
            "Epoch 120/200\n",
            "10/10 [==============================] - 0s 18ms/step - loss: 0.0331\n",
            "Epoch 121/200\n",
            "10/10 [==============================] - 0s 18ms/step - loss: 0.0351\n",
            "Epoch 122/200\n",
            "10/10 [==============================] - 0s 21ms/step - loss: 0.0290\n",
            "Epoch 123/200\n",
            "10/10 [==============================] - 0s 19ms/step - loss: 0.0326\n",
            "Epoch 124/200\n",
            "10/10 [==============================] - 0s 19ms/step - loss: 0.0298\n",
            "Epoch 125/200\n",
            "10/10 [==============================] - 0s 20ms/step - loss: 0.0329\n",
            "Epoch 126/200\n",
            "10/10 [==============================] - 0s 19ms/step - loss: 0.0309\n",
            "Epoch 127/200\n",
            "10/10 [==============================] - 0s 19ms/step - loss: 0.0326\n",
            "Epoch 128/200\n",
            "10/10 [==============================] - 0s 19ms/step - loss: 0.0331\n",
            "Epoch 129/200\n",
            "10/10 [==============================] - 0s 20ms/step - loss: 0.0250\n",
            "Epoch 130/200\n",
            "10/10 [==============================] - 0s 18ms/step - loss: 0.0247\n",
            "Epoch 131/200\n",
            "10/10 [==============================] - 0s 19ms/step - loss: 0.0271\n",
            "Epoch 132/200\n",
            "10/10 [==============================] - 0s 20ms/step - loss: 0.0298\n",
            "Epoch 133/200\n",
            "10/10 [==============================] - 0s 19ms/step - loss: 0.0324\n",
            "Epoch 134/200\n",
            "10/10 [==============================] - 0s 21ms/step - loss: 0.0300\n",
            "Epoch 135/200\n",
            "10/10 [==============================] - 0s 20ms/step - loss: 0.0273\n",
            "Epoch 136/200\n",
            "10/10 [==============================] - 0s 19ms/step - loss: 0.0263\n",
            "Epoch 137/200\n",
            "10/10 [==============================] - 0s 26ms/step - loss: 0.0338\n",
            "Epoch 138/200\n",
            "10/10 [==============================] - 0s 21ms/step - loss: 0.0283\n",
            "Epoch 139/200\n",
            "10/10 [==============================] - 0s 23ms/step - loss: 0.0252\n",
            "Epoch 140/200\n",
            "10/10 [==============================] - 0s 20ms/step - loss: 0.0229\n",
            "Epoch 141/200\n",
            "10/10 [==============================] - 0s 19ms/step - loss: 0.0241\n",
            "Epoch 142/200\n",
            "10/10 [==============================] - 0s 19ms/step - loss: 0.0212\n",
            "Epoch 143/200\n",
            "10/10 [==============================] - 0s 20ms/step - loss: 0.0294\n",
            "Epoch 144/200\n",
            "10/10 [==============================] - 0s 22ms/step - loss: 0.0224\n",
            "Epoch 145/200\n",
            "10/10 [==============================] - 0s 25ms/step - loss: 0.0228\n",
            "Epoch 146/200\n",
            "10/10 [==============================] - 0s 21ms/step - loss: 0.0216\n",
            "Epoch 147/200\n",
            "10/10 [==============================] - 0s 19ms/step - loss: 0.0256\n",
            "Epoch 148/200\n",
            "10/10 [==============================] - 0s 21ms/step - loss: 0.0190\n",
            "Epoch 149/200\n",
            "10/10 [==============================] - 0s 19ms/step - loss: 0.0195\n",
            "Epoch 150/200\n",
            "10/10 [==============================] - 0s 19ms/step - loss: 0.0182\n",
            "Epoch 151/200\n",
            "10/10 [==============================] - 0s 20ms/step - loss: 0.0245\n",
            "Epoch 152/200\n",
            "10/10 [==============================] - 0s 22ms/step - loss: 0.0189\n",
            "Epoch 153/200\n",
            "10/10 [==============================] - 0s 21ms/step - loss: 0.0199\n",
            "Epoch 154/200\n",
            "10/10 [==============================] - 0s 19ms/step - loss: 0.0233\n",
            "Epoch 155/200\n",
            "10/10 [==============================] - 0s 19ms/step - loss: 0.0252\n",
            "Epoch 156/200\n",
            "10/10 [==============================] - 0s 20ms/step - loss: 0.0224\n",
            "Epoch 157/200\n",
            "10/10 [==============================] - 0s 19ms/step - loss: 0.0183\n",
            "Epoch 158/200\n",
            "10/10 [==============================] - 0s 21ms/step - loss: 0.0180\n",
            "Epoch 159/200\n",
            "10/10 [==============================] - 0s 23ms/step - loss: 0.0150\n",
            "Epoch 160/200\n",
            "10/10 [==============================] - 0s 19ms/step - loss: 0.0193\n",
            "Epoch 161/200\n",
            "10/10 [==============================] - 0s 20ms/step - loss: 0.0219\n",
            "Epoch 162/200\n",
            "10/10 [==============================] - 0s 21ms/step - loss: 0.0170\n",
            "Epoch 163/200\n",
            "10/10 [==============================] - 0s 25ms/step - loss: 0.0189\n",
            "Epoch 164/200\n",
            "10/10 [==============================] - 0s 21ms/step - loss: 0.0191\n",
            "Epoch 165/200\n",
            "10/10 [==============================] - 0s 20ms/step - loss: 0.0151\n",
            "Epoch 166/200\n",
            "10/10 [==============================] - 0s 19ms/step - loss: 0.0193\n",
            "Epoch 167/200\n",
            "10/10 [==============================] - 0s 19ms/step - loss: 0.0183\n",
            "Epoch 168/200\n",
            "10/10 [==============================] - 0s 21ms/step - loss: 0.0159\n",
            "Epoch 169/200\n",
            "10/10 [==============================] - 0s 20ms/step - loss: 0.0226\n",
            "Epoch 170/200\n",
            "10/10 [==============================] - 0s 19ms/step - loss: 0.0149\n",
            "Epoch 171/200\n",
            "10/10 [==============================] - 0s 21ms/step - loss: 0.0122\n",
            "Epoch 172/200\n",
            "10/10 [==============================] - 0s 19ms/step - loss: 0.0171\n",
            "Epoch 173/200\n",
            "10/10 [==============================] - 0s 19ms/step - loss: 0.0177\n",
            "Epoch 174/200\n",
            "10/10 [==============================] - 0s 20ms/step - loss: 0.0196\n",
            "Epoch 175/200\n",
            "10/10 [==============================] - 0s 25ms/step - loss: 0.0139\n",
            "Epoch 176/200\n",
            "10/10 [==============================] - 0s 25ms/step - loss: 0.0215\n",
            "Epoch 177/200\n",
            "10/10 [==============================] - 0s 19ms/step - loss: 0.0183\n",
            "Epoch 178/200\n",
            "10/10 [==============================] - 0s 20ms/step - loss: 0.0140\n",
            "Epoch 179/200\n",
            "10/10 [==============================] - 0s 19ms/step - loss: 0.0217\n",
            "Epoch 180/200\n",
            "10/10 [==============================] - 0s 21ms/step - loss: 0.0148\n",
            "Epoch 181/200\n",
            "10/10 [==============================] - 0s 20ms/step - loss: 0.0146\n",
            "Epoch 182/200\n",
            "10/10 [==============================] - 0s 19ms/step - loss: 0.0155\n",
            "Epoch 183/200\n",
            "10/10 [==============================] - 0s 20ms/step - loss: 0.0181\n",
            "Epoch 184/200\n",
            "10/10 [==============================] - 0s 20ms/step - loss: 0.0113\n",
            "Epoch 185/200\n",
            "10/10 [==============================] - 0s 20ms/step - loss: 0.0129\n",
            "Epoch 186/200\n",
            "10/10 [==============================] - 0s 19ms/step - loss: 0.0153\n",
            "Epoch 187/200\n",
            "10/10 [==============================] - 0s 19ms/step - loss: 0.0189\n",
            "Epoch 188/200\n",
            "10/10 [==============================] - 0s 19ms/step - loss: 0.0162\n",
            "Epoch 189/200\n",
            "10/10 [==============================] - 0s 20ms/step - loss: 0.0137\n",
            "Epoch 190/200\n",
            "10/10 [==============================] - 0s 20ms/step - loss: 0.0132\n",
            "Epoch 191/200\n",
            "10/10 [==============================] - 0s 22ms/step - loss: 0.0153\n",
            "Epoch 192/200\n",
            "10/10 [==============================] - 0s 22ms/step - loss: 0.0128\n",
            "Epoch 193/200\n",
            "10/10 [==============================] - 0s 20ms/step - loss: 0.0148\n",
            "Epoch 194/200\n",
            "10/10 [==============================] - 0s 19ms/step - loss: 0.0165\n",
            "Epoch 195/200\n",
            "10/10 [==============================] - 0s 19ms/step - loss: 0.0128\n",
            "Epoch 196/200\n",
            "10/10 [==============================] - 0s 21ms/step - loss: 0.0111\n",
            "Epoch 197/200\n",
            "10/10 [==============================] - 0s 26ms/step - loss: 0.0130\n",
            "Epoch 198/200\n",
            "10/10 [==============================] - 0s 21ms/step - loss: 0.0104\n",
            "Epoch 199/200\n",
            "10/10 [==============================] - 0s 24ms/step - loss: 0.0162\n",
            "Epoch 200/200\n",
            "10/10 [==============================] - 0s 21ms/step - loss: 0.0118\n"
          ],
          "name": "stdout"
        },
        {
          "output_type": "execute_result",
          "data": {
            "text/plain": [
              "<tensorflow.python.keras.callbacks.History at 0x7f28e2c2ed30>"
            ]
          },
          "metadata": {
            "tags": []
          },
          "execution_count": 27
        }
      ]
    },
    {
      "cell_type": "markdown",
      "metadata": {
        "id": "Uy3jPUNzd47p"
      },
      "source": [
        "## Step 3: Making Predictions and visualizing the results"
      ]
    },
    {
      "cell_type": "code",
      "metadata": {
        "id": "aVAYymhvhGBc"
      },
      "source": [
        "# Save the model\n",
        "gru.save('MilkProduction_Model1_200Epochs.h5')"
      ],
      "execution_count": 28,
      "outputs": []
    },
    {
      "cell_type": "code",
      "metadata": {
        "id": "FJeazn0aiPqj",
        "outputId": "f729cf8a-bd10-4b50-998d-72de4b51d235",
        "colab": {
          "base_uri": "https://localhost:8080/",
          "height": 281
        }
      },
      "source": [
        "predicted_y = gru.predict(X_train)\n",
        "predicted_y = sc.inverse_transform(predicted_y)\n",
        "\n",
        "#%%\n",
        "# Visualising the result\n",
        "plt.plot(train_set, color = 'red', label = 'Real Milk Production')\n",
        "plt.plot(predicted_y, color = 'blue', label = 'Predicted Milk Production')\n",
        "plt.title(\"Milk Production Prediction\")\n",
        "plt.show()"
      ],
      "execution_count": 29,
      "outputs": [
        {
          "output_type": "display_data",
          "data": {
            "image/png": "[encoded data removed]",
            "text/plain": [
              "<Figure size 432x288 with 1 Axes>"
            ]
          },
          "metadata": {
            "tags": [],
            "needs_background": "light"
          }
        }
      ]
    }
  ]
}