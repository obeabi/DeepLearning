{
  "nbformat": 4,
  "nbformat_minor": 0,
  "metadata": {
    "colab": {
      "name": "CombinedPowerPlant.ipynb",
      "provenance": [],
      "toc_visible": true,
      "authorship_tag": "ABX9TyNhxTtMBXqEApoQXicby3he",
      "include_colab_link": true
    },
    "kernelspec": {
      "name": "python3",
      "display_name": "Python 3"
    }
  },
  "cells": [
    {
      "cell_type": "markdown",
      "metadata": {
        "id": "view-in-github",
        "colab_type": "text"
      },
      "source": [
        "<a href=\"https://colab.research.google.com/github/obeabi/DeepLearning/blob/master/CombinedPowerPlant.ipynb\" target=\"_parent\"><img src=\"https://colab.research.google.com/assets/colab-badge.svg\" alt=\"Open In Colab\"/></a>"
      ]
    },
    {
      "cell_type": "markdown",
      "metadata": {
        "id": "7mFyIZDF0NAh",
        "colab_type": "text"
      },
      "source": [
        "# Written by Abiola Obembe\n",
        "## Title : Combined Cycle Power Plant Data Set\n",
        "### Date : 2020-09-05\n",
        "### Objective: Neural network model for predicting energy output from a power plant where the features consist of hourly average ambient variables Temperature (T), Ambient Pressure (AP), Relative Humidity (RH) and Exhaust Vacuum (V) to predict the net hourly electrical energy output (EP) of the plant."
      ]
    },
    {
      "cell_type": "markdown",
      "metadata": {
        "id": "4jbUL2KG0kz5",
        "colab_type": "text"
      },
      "source": [
        "## Install Libraries"
      ]
    },
    {
      "cell_type": "code",
      "metadata": {
        "id": "aY0Ocn7E0nJf",
        "colab_type": "code",
        "colab": {
          "base_uri": "https://localhost:8080/",
          "height": 104
        },
        "outputId": "f4b44c46-256c-4551-a5ea-106de334e628"
      },
      "source": [
        "# install libraries\n",
        "import numpy as np\n",
        "import matplotlib.pyplot as plt\n",
        "import pandas as pd\n",
        "import tensorflow as tf\n",
        "import seaborn as sns\n",
        "# %matplotlib inline\n",
        "\n",
        "print(\"libraies installed successfully!\")\n",
        "print(\"The version of tensorflow is\", tf.__version__)\n"
      ],
      "execution_count": 1,
      "outputs": [
        {
          "output_type": "stream",
          "text": [
            "libraies installed successfully!\n",
            "The version of tensorflow is 2.3.0\n"
          ],
          "name": "stdout"
        },
        {
          "output_type": "stream",
          "text": [
            "/usr/local/lib/python3.6/dist-packages/statsmodels/tools/_testing.py:19: FutureWarning: pandas.util.testing is deprecated. Use the functions in the public API at pandas.testing instead.\n",
            "  import pandas.util.testing as tm\n"
          ],
          "name": "stderr"
        }
      ]
    },
    {
      "cell_type": "markdown",
      "metadata": {
        "id": "ga39II8A1DA0",
        "colab_type": "text"
      },
      "source": [
        "## Data Preprocessing & Exploratory Analysis"
      ]
    },
    {
      "cell_type": "code",
      "metadata": {
        "id": "osCpz_fC1GPb",
        "colab_type": "code",
        "colab": {
          "base_uri": "https://localhost:8080/",
          "height": 195
        },
        "outputId": "2328fd4c-7ab5-4771-aaca-663bfe1bbdeb"
      },
      "source": [
        "# load dataset as a datframe\n",
        "dataset = pd.read_excel('PowerPlant.xlsx')\n",
        "dataset.head()"
      ],
      "execution_count": 2,
      "outputs": [
        {
          "output_type": "execute_result",
          "data": {
            "text/html": [
              "<div>\n",
              "<style scoped>\n",
              "    .dataframe tbody tr th:only-of-type {\n",
              "        vertical-align: middle;\n",
              "    }\n",
              "\n",
              "    .dataframe tbody tr th {\n",
              "        vertical-align: top;\n",
              "    }\n",
              "\n",
              "    .dataframe thead th {\n",
              "        text-align: right;\n",
              "    }\n",
              "</style>\n",
              "<table border=\"1\" class=\"dataframe\">\n",
              "  <thead>\n",
              "    <tr style=\"text-align: right;\">\n",
              "      <th></th>\n",
              "      <th>AT</th>\n",
              "      <th>V</th>\n",
              "      <th>AP</th>\n",
              "      <th>RH</th>\n",
              "      <th>PE</th>\n",
              "    </tr>\n",
              "  </thead>\n",
              "  <tbody>\n",
              "    <tr>\n",
              "      <th>0</th>\n",
              "      <td>14.96</td>\n",
              "      <td>41.76</td>\n",
              "      <td>1024.07</td>\n",
              "      <td>73.17</td>\n",
              "      <td>463.26</td>\n",
              "    </tr>\n",
              "    <tr>\n",
              "      <th>1</th>\n",
              "      <td>25.18</td>\n",
              "      <td>62.96</td>\n",
              "      <td>1020.04</td>\n",
              "      <td>59.08</td>\n",
              "      <td>444.37</td>\n",
              "    </tr>\n",
              "    <tr>\n",
              "      <th>2</th>\n",
              "      <td>5.11</td>\n",
              "      <td>39.40</td>\n",
              "      <td>1012.16</td>\n",
              "      <td>92.14</td>\n",
              "      <td>488.56</td>\n",
              "    </tr>\n",
              "    <tr>\n",
              "      <th>3</th>\n",
              "      <td>20.86</td>\n",
              "      <td>57.32</td>\n",
              "      <td>1010.24</td>\n",
              "      <td>76.64</td>\n",
              "      <td>446.48</td>\n",
              "    </tr>\n",
              "    <tr>\n",
              "      <th>4</th>\n",
              "      <td>10.82</td>\n",
              "      <td>37.50</td>\n",
              "      <td>1009.23</td>\n",
              "      <td>96.62</td>\n",
              "      <td>473.90</td>\n",
              "    </tr>\n",
              "  </tbody>\n",
              "</table>\n",
              "</div>"
            ],
            "text/plain": [
              "      AT      V       AP     RH      PE\n",
              "0  14.96  41.76  1024.07  73.17  463.26\n",
              "1  25.18  62.96  1020.04  59.08  444.37\n",
              "2   5.11  39.40  1012.16  92.14  488.56\n",
              "3  20.86  57.32  1010.24  76.64  446.48\n",
              "4  10.82  37.50  1009.23  96.62  473.90"
            ]
          },
          "metadata": {
            "tags": []
          },
          "execution_count": 2
        }
      ]
    },
    {
      "cell_type": "code",
      "metadata": {
        "id": "EmW3FPop0dIJ",
        "colab_type": "code",
        "colab": {
          "base_uri": "https://localhost:8080/",
          "height": 50
        },
        "outputId": "f6027fe2-7f00-4b49-c15f-855ce4a23f9c"
      },
      "source": [
        "# Check for missing values and shape both before and after treating missing values\n",
        "print(\"The original shape of the dataframe is:\", dataset.shape)\n",
        "\n",
        "print(\"The number of missing values in the dataframe is/are:\", dataset.isnull().sum().sum())"
      ],
      "execution_count": 3,
      "outputs": [
        {
          "output_type": "stream",
          "text": [
            "The original shape of the dataframe is: (9568, 5)\n",
            "The number of missing values in the dataframe is/are: 0\n"
          ],
          "name": "stdout"
        }
      ]
    },
    {
      "cell_type": "code",
      "metadata": {
        "id": "UJxbLwEh2MMJ",
        "colab_type": "code",
        "colab": {
          "base_uri": "https://localhost:8080/",
          "height": 118
        },
        "outputId": "bbeac659-0948-485b-d4f8-9b0dbdf7b483"
      },
      "source": [
        "# Check data types for dataset\n",
        "dataset.dtypes"
      ],
      "execution_count": 4,
      "outputs": [
        {
          "output_type": "execute_result",
          "data": {
            "text/plain": [
              "AT    float64\n",
              "V     float64\n",
              "AP    float64\n",
              "RH    float64\n",
              "PE    float64\n",
              "dtype: object"
            ]
          },
          "metadata": {
            "tags": []
          },
          "execution_count": 4
        }
      ]
    },
    {
      "cell_type": "code",
      "metadata": {
        "id": "2muBfC8U3AkS",
        "colab_type": "code",
        "colab": {
          "base_uri": "https://localhost:8080/",
          "height": 284
        },
        "outputId": "1992dadf-1c84-4a75-c17e-8721efad0f46"
      },
      "source": [
        "# Statistical Summary\n",
        "dataset.describe()"
      ],
      "execution_count": 5,
      "outputs": [
        {
          "output_type": "execute_result",
          "data": {
            "text/html": [
              "<div>\n",
              "<style scoped>\n",
              "    .dataframe tbody tr th:only-of-type {\n",
              "        vertical-align: middle;\n",
              "    }\n",
              "\n",
              "    .dataframe tbody tr th {\n",
              "        vertical-align: top;\n",
              "    }\n",
              "\n",
              "    .dataframe thead th {\n",
              "        text-align: right;\n",
              "    }\n",
              "</style>\n",
              "<table border=\"1\" class=\"dataframe\">\n",
              "  <thead>\n",
              "    <tr style=\"text-align: right;\">\n",
              "      <th></th>\n",
              "      <th>AT</th>\n",
              "      <th>V</th>\n",
              "      <th>AP</th>\n",
              "      <th>RH</th>\n",
              "      <th>PE</th>\n",
              "    </tr>\n",
              "  </thead>\n",
              "  <tbody>\n",
              "    <tr>\n",
              "      <th>count</th>\n",
              "      <td>9568.000000</td>\n",
              "      <td>9568.000000</td>\n",
              "      <td>9568.000000</td>\n",
              "      <td>9568.000000</td>\n",
              "      <td>9568.000000</td>\n",
              "    </tr>\n",
              "    <tr>\n",
              "      <th>mean</th>\n",
              "      <td>19.651231</td>\n",
              "      <td>54.305804</td>\n",
              "      <td>1013.259078</td>\n",
              "      <td>73.308978</td>\n",
              "      <td>454.365009</td>\n",
              "    </tr>\n",
              "    <tr>\n",
              "      <th>std</th>\n",
              "      <td>7.452473</td>\n",
              "      <td>12.707893</td>\n",
              "      <td>5.938784</td>\n",
              "      <td>14.600269</td>\n",
              "      <td>17.066995</td>\n",
              "    </tr>\n",
              "    <tr>\n",
              "      <th>min</th>\n",
              "      <td>1.810000</td>\n",
              "      <td>25.360000</td>\n",
              "      <td>992.890000</td>\n",
              "      <td>25.560000</td>\n",
              "      <td>420.260000</td>\n",
              "    </tr>\n",
              "    <tr>\n",
              "      <th>25%</th>\n",
              "      <td>13.510000</td>\n",
              "      <td>41.740000</td>\n",
              "      <td>1009.100000</td>\n",
              "      <td>63.327500</td>\n",
              "      <td>439.750000</td>\n",
              "    </tr>\n",
              "    <tr>\n",
              "      <th>50%</th>\n",
              "      <td>20.345000</td>\n",
              "      <td>52.080000</td>\n",
              "      <td>1012.940000</td>\n",
              "      <td>74.975000</td>\n",
              "      <td>451.550000</td>\n",
              "    </tr>\n",
              "    <tr>\n",
              "      <th>75%</th>\n",
              "      <td>25.720000</td>\n",
              "      <td>66.540000</td>\n",
              "      <td>1017.260000</td>\n",
              "      <td>84.830000</td>\n",
              "      <td>468.430000</td>\n",
              "    </tr>\n",
              "    <tr>\n",
              "      <th>max</th>\n",
              "      <td>37.110000</td>\n",
              "      <td>81.560000</td>\n",
              "      <td>1033.300000</td>\n",
              "      <td>100.160000</td>\n",
              "      <td>495.760000</td>\n",
              "    </tr>\n",
              "  </tbody>\n",
              "</table>\n",
              "</div>"
            ],
            "text/plain": [
              "                AT            V           AP           RH           PE\n",
              "count  9568.000000  9568.000000  9568.000000  9568.000000  9568.000000\n",
              "mean     19.651231    54.305804  1013.259078    73.308978   454.365009\n",
              "std       7.452473    12.707893     5.938784    14.600269    17.066995\n",
              "min       1.810000    25.360000   992.890000    25.560000   420.260000\n",
              "25%      13.510000    41.740000  1009.100000    63.327500   439.750000\n",
              "50%      20.345000    52.080000  1012.940000    74.975000   451.550000\n",
              "75%      25.720000    66.540000  1017.260000    84.830000   468.430000\n",
              "max      37.110000    81.560000  1033.300000   100.160000   495.760000"
            ]
          },
          "metadata": {
            "tags": []
          },
          "execution_count": 5
        }
      ]
    },
    {
      "cell_type": "code",
      "metadata": {
        "id": "nJwkQ3NO2WCg",
        "colab_type": "code",
        "colab": {
          "base_uri": "https://localhost:8080/",
          "height": 195
        },
        "outputId": "ffa2186a-c3ac-474c-cebe-4c3aa7f6b285"
      },
      "source": [
        "# Examine correlation matrix\n",
        "dataset.corr(method = 'spearman')"
      ],
      "execution_count": 6,
      "outputs": [
        {
          "output_type": "execute_result",
          "data": {
            "text/html": [
              "<div>\n",
              "<style scoped>\n",
              "    .dataframe tbody tr th:only-of-type {\n",
              "        vertical-align: middle;\n",
              "    }\n",
              "\n",
              "    .dataframe tbody tr th {\n",
              "        vertical-align: top;\n",
              "    }\n",
              "\n",
              "    .dataframe thead th {\n",
              "        text-align: right;\n",
              "    }\n",
              "</style>\n",
              "<table border=\"1\" class=\"dataframe\">\n",
              "  <thead>\n",
              "    <tr style=\"text-align: right;\">\n",
              "      <th></th>\n",
              "      <th>AT</th>\n",
              "      <th>V</th>\n",
              "      <th>AP</th>\n",
              "      <th>RH</th>\n",
              "      <th>PE</th>\n",
              "    </tr>\n",
              "  </thead>\n",
              "  <tbody>\n",
              "    <tr>\n",
              "      <th>AT</th>\n",
              "      <td>1.000000</td>\n",
              "      <td>0.850620</td>\n",
              "      <td>-0.518790</td>\n",
              "      <td>-0.542706</td>\n",
              "      <td>-0.944412</td>\n",
              "    </tr>\n",
              "    <tr>\n",
              "      <th>V</th>\n",
              "      <td>0.850620</td>\n",
              "      <td>1.000000</td>\n",
              "      <td>-0.426129</td>\n",
              "      <td>-0.304938</td>\n",
              "      <td>-0.883702</td>\n",
              "    </tr>\n",
              "    <tr>\n",
              "      <th>AP</th>\n",
              "      <td>-0.518790</td>\n",
              "      <td>-0.426129</td>\n",
              "      <td>1.000000</td>\n",
              "      <td>0.086776</td>\n",
              "      <td>0.542531</td>\n",
              "    </tr>\n",
              "    <tr>\n",
              "      <th>RH</th>\n",
              "      <td>-0.542706</td>\n",
              "      <td>-0.304938</td>\n",
              "      <td>0.086776</td>\n",
              "      <td>1.000000</td>\n",
              "      <td>0.389640</td>\n",
              "    </tr>\n",
              "    <tr>\n",
              "      <th>PE</th>\n",
              "      <td>-0.944412</td>\n",
              "      <td>-0.883702</td>\n",
              "      <td>0.542531</td>\n",
              "      <td>0.389640</td>\n",
              "      <td>1.000000</td>\n",
              "    </tr>\n",
              "  </tbody>\n",
              "</table>\n",
              "</div>"
            ],
            "text/plain": [
              "          AT         V        AP        RH        PE\n",
              "AT  1.000000  0.850620 -0.518790 -0.542706 -0.944412\n",
              "V   0.850620  1.000000 -0.426129 -0.304938 -0.883702\n",
              "AP -0.518790 -0.426129  1.000000  0.086776  0.542531\n",
              "RH -0.542706 -0.304938  0.086776  1.000000  0.389640\n",
              "PE -0.944412 -0.883702  0.542531  0.389640  1.000000"
            ]
          },
          "metadata": {
            "tags": []
          },
          "execution_count": 6
        }
      ]
    },
    {
      "cell_type": "code",
      "metadata": {
        "id": "e4E_nHbC3s6S",
        "colab_type": "code",
        "colab": {
          "base_uri": "https://localhost:8080/",
          "height": 298
        },
        "outputId": "3ad5a563-e9fa-4929-b685-88a813fe26dd"
      },
      "source": [
        "# Visual exploratory analysis: KDE plot for AT vs PE\n",
        "ax = sns.kdeplot( dataset.iloc[:,0].values )\n",
        "print(\"The skewness value of the data in AT column is \", dataset['AT'].skew())\n",
        "print(\"The kurtosis value of the data in AT column is \", dataset['AT'].kurtosis())"
      ],
      "execution_count": 22,
      "outputs": [
        {
          "output_type": "stream",
          "text": [
            "The skewness value of the data in AT column is  -0.13639304947492412\n",
            "The kurtosis value of the data in AT column is  -1.037549192309245\n"
          ],
          "name": "stdout"
        },
        {
          "output_type": "display_data",
          "data": {
            "image/png": "[encoded data removed]",
            "text/plain": [
              "<Figure size 432x288 with 1 Axes>"
            ]
          },
          "metadata": {
            "tags": [],
            "needs_background": "light"
          }
        }
      ]
    },
    {
      "cell_type": "code",
      "metadata": {
        "id": "Z5guoVIm4OG5",
        "colab_type": "code",
        "colab": {
          "base_uri": "https://localhost:8080/",
          "height": 252
        },
        "outputId": "5fb380f3-c9f8-4ad6-dc49-f589fa8593a7"
      },
      "source": [
        "# Visual exploratory analysis: KDE plot for AT vs PE\n",
        "ax = sns.boxplot( dataset.iloc[:,0].values, orient= \"v\" )"
      ],
      "execution_count": 13,
      "outputs": [
        {
          "output_type": "display_data",
          "data": {
            "image/png": "[encoded data removed]",
            "text/plain": [
              "<Figure size 432x288 with 1 Axes>"
            ]
          },
          "metadata": {
            "tags": [],
            "needs_background": "light"
          }
        }
      ]
    },
    {
      "cell_type": "code",
      "metadata": {
        "id": "-045jZOK2jpF",
        "colab_type": "code",
        "colab": {
          "base_uri": "https://localhost:8080/",
          "height": 265
        },
        "outputId": "7e34e18d-9899-46bc-c932-a7000f9493b7"
      },
      "source": [
        "# Visual exploratory analysis: Regression plot for AT vs PE\n",
        "sns.regplot(x = dataset.iloc[:,0].values, y = dataset.iloc[:,-1].values)\n",
        "plt.show()"
      ],
      "execution_count": 8,
      "outputs": [
        {
          "output_type": "display_data",
          "data": {
            "image/png": "[encoded data removed]",
            "text/plain": [
              "<Figure size 432x288 with 1 Axes>"
            ]
          },
          "metadata": {
            "tags": [],
            "needs_background": "light"
          }
        }
      ]
    },
    {
      "cell_type": "code",
      "metadata": {
        "id": "wAIfAWMF4trH",
        "colab_type": "code",
        "colab": {
          "base_uri": "https://localhost:8080/",
          "height": 298
        },
        "outputId": "c736aa30-bc45-422e-ab15-91e476f7b2b5"
      },
      "source": [
        "# Visual exploratory analysis: KDE plot for V vs PE\n",
        "ax = sns.kdeplot( dataset.iloc[:,1].values )\n",
        "print(\"The skewness value of the data in V column is \", dataset['V'].skew())\n",
        "print(\"The kurtosis value of the data in V column is \", dataset['V'].kurtosis())"
      ],
      "execution_count": 20,
      "outputs": [
        {
          "output_type": "stream",
          "text": [
            "The skewness value of the V column is  0.1985210113667618\n",
            "The kurtosis value of the V column is  -1.4443366772319608\n"
          ],
          "name": "stdout"
        },
        {
          "output_type": "display_data",
          "data": {
            "image/png": "[encoded data removed]",
            "text/plain": [
              "<Figure size 432x288 with 1 Axes>"
            ]
          },
          "metadata": {
            "tags": [],
            "needs_background": "light"
          }
        }
      ]
    },
    {
      "cell_type": "code",
      "metadata": {
        "id": "RyxAjofX4yPC",
        "colab_type": "code",
        "colab": {
          "base_uri": "https://localhost:8080/",
          "height": 252
        },
        "outputId": "7f14bfb6-11b5-4edd-ee29-3da8cea7bcf3"
      },
      "source": [
        "# Visual exploratory analysis: KDE plot for V vs PE\n",
        "ax = sns.boxplot( dataset.iloc[:,1].values, orient= \"v\" )"
      ],
      "execution_count": 15,
      "outputs": [
        {
          "output_type": "display_data",
          "data": {
            "image/png": "[encoded data removed]",
            "text/plain": [
              "<Figure size 432x288 with 1 Axes>"
            ]
          },
          "metadata": {
            "tags": [],
            "needs_background": "light"
          }
        }
      ]
    },
    {
      "cell_type": "code",
      "metadata": {
        "id": "L2DUsznP417d",
        "colab_type": "code",
        "colab": {
          "base_uri": "https://localhost:8080/",
          "height": 265
        },
        "outputId": "2941df29-b7a1-440b-e01e-113eb580f438"
      },
      "source": [
        "# Visual exploratory analysis: Regression plot for V vs PE\n",
        "sns.regplot(x = dataset.iloc[:,1].values, y = dataset.iloc[:,-1].values)\n",
        "plt.show()"
      ],
      "execution_count": 16,
      "outputs": [
        {
          "output_type": "display_data",
          "data": {
            "image/png": "[encoded data removed]",
            "text/plain": [
              "<Figure size 432x288 with 1 Axes>"
            ]
          },
          "metadata": {
            "tags": [],
            "needs_background": "light"
          }
        }
      ]
    },
    {
      "cell_type": "code",
      "metadata": {
        "id": "T9tfoUvk55Wi",
        "colab_type": "code",
        "colab": {
          "base_uri": "https://localhost:8080/",
          "height": 300
        },
        "outputId": "fc8702d3-f72e-4e08-f647-be6609d18d56"
      },
      "source": [
        "# Visual exploratory analysis: KDE plot for AP vs PE\n",
        "ax = sns.kdeplot( dataset.iloc[:,2].values )\n",
        "print(\"The skewness value of the data in AT column is \", dataset['AP'].skew())\n",
        "print(\"The kurtosis value of the data in AT column is \", dataset['AP'].kurtosis())"
      ],
      "execution_count": 23,
      "outputs": [
        {
          "output_type": "stream",
          "text": [
            "The skewness value of the data in AT column is  0.26544469358258616\n",
            "The kurtosis value of the data in AT column is  0.09423719530331276\n"
          ],
          "name": "stdout"
        },
        {
          "output_type": "display_data",
          "data": {
            "image/png": "[encoded data removed]",
            "text/plain": [
              "<Figure size 432x288 with 1 Axes>"
            ]
          },
          "metadata": {
            "tags": [],
            "needs_background": "light"
          }
        }
      ]
    },
    {
      "cell_type": "code",
      "metadata": {
        "id": "EttI82sH59zq",
        "colab_type": "code",
        "colab": {
          "base_uri": "https://localhost:8080/",
          "height": 254
        },
        "outputId": "d66b8d0c-cde7-4c10-f6c0-b27368da32c8"
      },
      "source": [
        "# Visual exploratory analysis: KDE plot for AP vs PE\n",
        "ax = sns.boxplot( dataset.iloc[:,2].values, orient= \"v\" )"
      ],
      "execution_count": 24,
      "outputs": [
        {
          "output_type": "display_data",
          "data": {
            "image/png": "[encoded data removed]",
            "text/plain": [
              "<Figure size 432x288 with 1 Axes>"
            ]
          },
          "metadata": {
            "tags": [],
            "needs_background": "light"
          }
        }
      ]
    },
    {
      "cell_type": "code",
      "metadata": {
        "id": "Fn7Ib8nH6DCS",
        "colab_type": "code",
        "colab": {
          "base_uri": "https://localhost:8080/",
          "height": 265
        },
        "outputId": "aaddacb9-5d75-46ae-a8f1-e43d651b68f7"
      },
      "source": [
        "# Visual exploratory analysis: Regression plot for AP vs PE\n",
        "sns.regplot(x = dataset.iloc[:,2].values, y = dataset.iloc[:,-1].values)\n",
        "plt.show()"
      ],
      "execution_count": 25,
      "outputs": [
        {
          "output_type": "display_data",
          "data": {
            "image/png": "[encoded data removed]",
            "text/plain": [
              "<Figure size 432x288 with 1 Axes>"
            ]
          },
          "metadata": {
            "tags": [],
            "needs_background": "light"
          }
        }
      ]
    },
    {
      "cell_type": "code",
      "metadata": {
        "id": "KuD-REjc6Usg",
        "colab_type": "code",
        "colab": {
          "base_uri": "https://localhost:8080/",
          "height": 298
        },
        "outputId": "c7db3e64-4099-4a41-ba53-b537a3fe2f9d"
      },
      "source": [
        "# Visual exploratory analysis: KDE plot for RH vs PE\n",
        "ax = sns.kdeplot( dataset.iloc[:,3].values )\n",
        "print(\"The skewness value of the data in AT column is \", dataset['RH'].skew())\n",
        "print(\"The kurtosis value of the data in AT column is \", dataset['RH'].kurtosis())"
      ],
      "execution_count": 26,
      "outputs": [
        {
          "output_type": "stream",
          "text": [
            "The skewness value of the data in AT column is  -0.4318387491833358\n",
            "The kurtosis value of the data in AT column is  -0.4445263744874066\n"
          ],
          "name": "stdout"
        },
        {
          "output_type": "display_data",
          "data": {
            "image/png": "[encoded data removed]",
            "text/plain": [
              "<Figure size 432x288 with 1 Axes>"
            ]
          },
          "metadata": {
            "tags": [],
            "needs_background": "light"
          }
        }
      ]
    },
    {
      "cell_type": "code",
      "metadata": {
        "id": "D_ZcVXue6VKC",
        "colab_type": "code",
        "colab": {
          "base_uri": "https://localhost:8080/",
          "height": 252
        },
        "outputId": "1709e509-1d47-411b-c9da-adb652c5dcf6"
      },
      "source": [
        "# Visual exploratory analysis: KDE plot for RH vs PE\n",
        "ax = sns.boxplot( dataset.iloc[:,3].values, orient= \"v\" )"
      ],
      "execution_count": 27,
      "outputs": [
        {
          "output_type": "display_data",
          "data": {
            "image/png": "[encoded data removed]",
            "text/plain": [
              "<Figure size 432x288 with 1 Axes>"
            ]
          },
          "metadata": {
            "tags": [],
            "needs_background": "light"
          }
        }
      ]
    },
    {
      "cell_type": "code",
      "metadata": {
        "id": "ONz7AM016VZg",
        "colab_type": "code",
        "colab": {
          "base_uri": "https://localhost:8080/",
          "height": 265
        },
        "outputId": "14b7741d-6737-4cd3-f48c-da58842dda0b"
      },
      "source": [
        "# Visual exploratory analysis: Regression plot for RH vs PE\n",
        "sns.regplot(x = dataset.iloc[:,3].values, y = dataset.iloc[:,-1].values)\n",
        "plt.show()"
      ],
      "execution_count": 28,
      "outputs": [
        {
          "output_type": "display_data",
          "data": {
            "image/png": "[encoded data removed]",
            "text/plain": [
              "<Figure size 432x288 with 1 Axes>"
            ]
          },
          "metadata": {
            "tags": [],
            "needs_background": "light"
          }
        }
      ]
    },
    {
      "cell_type": "code",
      "metadata": {
        "id": "munk62tW7XQi",
        "colab_type": "code",
        "colab": {
          "base_uri": "https://localhost:8080/",
          "height": 50
        },
        "outputId": "3eb930f3-46f7-4fbd-87e7-46b9a3ffcf07"
      },
      "source": [
        "# Split dataset into dependent and independent varaibles\n",
        "X = dataset.iloc[:, :-1].values\n",
        "y = dataset.iloc[:, -1].values\n",
        "print(X.shape)\n",
        "print(y.shape)"
      ],
      "execution_count": 29,
      "outputs": [
        {
          "output_type": "stream",
          "text": [
            "(9568, 4)\n",
            "(9568,)\n"
          ],
          "name": "stdout"
        }
      ]
    },
    {
      "cell_type": "code",
      "metadata": {
        "id": "JGHFd3No8SIx",
        "colab_type": "code",
        "colab": {
          "base_uri": "https://localhost:8080/",
          "height": 134
        },
        "outputId": "687360f5-16c2-41b9-d561-0865cbdc6aaf"
      },
      "source": [
        "# print the features matrix X\n",
        "print(X)"
      ],
      "execution_count": 30,
      "outputs": [
        {
          "output_type": "stream",
          "text": [
            "[[  14.96   41.76 1024.07   73.17]\n",
            " [  25.18   62.96 1020.04   59.08]\n",
            " [   5.11   39.4  1012.16   92.14]\n",
            " ...\n",
            " [  31.32   74.33 1012.92   36.48]\n",
            " [  24.48   69.45 1013.86   62.39]\n",
            " [  21.6    62.52 1017.23   67.87]]\n"
          ],
          "name": "stdout"
        }
      ]
    },
    {
      "cell_type": "code",
      "metadata": {
        "id": "sg8DbT9Q8Unb",
        "colab_type": "code",
        "colab": {
          "base_uri": "https://localhost:8080/",
          "height": 34
        },
        "outputId": "0b73145c-d3a9-47fe-d0fb-8bbd6d10453a"
      },
      "source": [
        "# print the target variable y\n",
        "print(y)"
      ],
      "execution_count": 31,
      "outputs": [
        {
          "output_type": "stream",
          "text": [
            "[463.26 444.37 488.56 ... 429.57 435.74 453.28]\n"
          ],
          "name": "stdout"
        }
      ]
    },
    {
      "cell_type": "markdown",
      "metadata": {
        "id": "fpiJ2nHa8sA6",
        "colab_type": "text"
      },
      "source": [
        "### Split dataframe into training and test set"
      ]
    },
    {
      "cell_type": "code",
      "metadata": {
        "id": "TXCv8-LG8mcD",
        "colab_type": "code",
        "colab": {
          "base_uri": "https://localhost:8080/",
          "height": 84
        },
        "outputId": "da4e10d2-f9a5-4d90-8db8-a7489918268c"
      },
      "source": [
        "# Splitting the dataset into the Training set and Test set\n",
        "from sklearn.model_selection import train_test_split\n",
        "X_train, X_test, y_train, y_test = train_test_split(X, y, test_size = 0.2, random_state = 0)\n",
        "print(X_train.shape)\n",
        "print(X_test.shape)\n",
        "print(y_train.shape)\n",
        "print(y_test.shape)"
      ],
      "execution_count": 32,
      "outputs": [
        {
          "output_type": "stream",
          "text": [
            "(7654, 4)\n",
            "(1914, 4)\n",
            "(7654,)\n",
            "(1914,)\n"
          ],
          "name": "stdout"
        }
      ]
    },
    {
      "cell_type": "markdown",
      "metadata": {
        "id": "cWbqZ-2z7rQz",
        "colab_type": "text"
      },
      "source": [
        "## Step 2: Build the ANN"
      ]
    },
    {
      "cell_type": "code",
      "metadata": {
        "id": "5ayBTCyD7wzX",
        "colab_type": "code",
        "colab": {
          "base_uri": "https://localhost:8080/",
          "height": 34
        },
        "outputId": "c06ffe96-06f6-44b8-d834-ea95a0996f16"
      },
      "source": [
        "# Initialize ANN network\n",
        "ann = tf.keras.models.Sequential()\n",
        "ann"
      ],
      "execution_count": 33,
      "outputs": [
        {
          "output_type": "execute_result",
          "data": {
            "text/plain": [
              "<tensorflow.python.keras.engine.sequential.Sequential at 0x7f0577621048>"
            ]
          },
          "metadata": {
            "tags": []
          },
          "execution_count": 33
        }
      ]
    },
    {
      "cell_type": "markdown",
      "metadata": {
        "id": "qYIX_Tza8CaY",
        "colab_type": "text"
      },
      "source": [
        "### Add input and first hidden layer"
      ]
    },
    {
      "cell_type": "code",
      "metadata": {
        "id": "K4D4yXoa7_Tk",
        "colab_type": "code",
        "colab": {}
      },
      "source": [
        "# Establish the first hidden layer of the NN with n_H1 neurons\n",
        "n_H1 = 6\n",
        "ann.add(tf.keras.layers.Dense(units = n_H1, activation= 'relu'))"
      ],
      "execution_count": 34,
      "outputs": []
    },
    {
      "cell_type": "markdown",
      "metadata": {
        "id": "Wpm0Ewzx8Lnp",
        "colab_type": "text"
      },
      "source": [
        "### Add the Second hidden layer"
      ]
    },
    {
      "cell_type": "code",
      "metadata": {
        "id": "PsCMK3iM99_q",
        "colab_type": "code",
        "colab": {}
      },
      "source": [
        "# Establish the second hidden layer of the NN\n",
        "n_H2 = 6\n",
        "ann.add(tf.keras.layers.Dense( units= n_H2, activation= 'relu'))"
      ],
      "execution_count": 35,
      "outputs": []
    },
    {
      "cell_type": "markdown",
      "metadata": {
        "id": "crs5nnRC-Jx_",
        "colab_type": "text"
      },
      "source": [
        "### Add the output layer"
      ]
    },
    {
      "cell_type": "code",
      "metadata": {
        "id": "b7pnLNNQ-M58",
        "colab_type": "code",
        "colab": {}
      },
      "source": [
        "ann.add(tf.keras.layers.Dense(units= 1))"
      ],
      "execution_count": 36,
      "outputs": []
    },
    {
      "cell_type": "markdown",
      "metadata": {
        "id": "EUKmOF5y_pNg",
        "colab_type": "text"
      },
      "source": [
        "## Step 3: Training the ANN"
      ]
    },
    {
      "cell_type": "code",
      "metadata": {
        "id": "4GEnMd1AAB8I",
        "colab_type": "code",
        "colab": {}
      },
      "source": [
        "# Compile the NN model\n",
        "ann.compile(optimizer = 'adam', loss= 'mean_squared_error')"
      ],
      "execution_count": 38,
      "outputs": []
    },
    {
      "cell_type": "code",
      "metadata": {
        "id": "higPVGuI_tzj",
        "colab_type": "code",
        "colab": {
          "base_uri": "https://localhost:8080/",
          "height": 1000
        },
        "outputId": "42ccf687-166a-4ac5-9f5f-6ca3100eff8c"
      },
      "source": [
        "# Train the NN model\n",
        "ann.fit(x = X_train, y = y_train, batch_size = 2**5, epochs = 100)"
      ],
      "execution_count": 41,
      "outputs": [
        {
          "output_type": "stream",
          "text": [
            "Epoch 1/100\n",
            "240/240 [==============================] - 0s 929us/step - loss: 184802.2969\n",
            "Epoch 2/100\n",
            "240/240 [==============================] - 0s 920us/step - loss: 22652.4473\n",
            "Epoch 3/100\n",
            "240/240 [==============================] - 0s 873us/step - loss: 440.7000\n",
            "Epoch 4/100\n",
            "240/240 [==============================] - 0s 868us/step - loss: 430.3493\n",
            "Epoch 5/100\n",
            "240/240 [==============================] - 0s 947us/step - loss: 417.7527\n",
            "Epoch 6/100\n",
            "240/240 [==============================] - 0s 898us/step - loss: 403.5829\n",
            "Epoch 7/100\n",
            "240/240 [==============================] - 0s 880us/step - loss: 387.7775\n",
            "Epoch 8/100\n",
            "240/240 [==============================] - 0s 860us/step - loss: 370.4504\n",
            "Epoch 9/100\n",
            "240/240 [==============================] - 0s 865us/step - loss: 351.3015\n",
            "Epoch 10/100\n",
            "240/240 [==============================] - 0s 839us/step - loss: 331.6931\n",
            "Epoch 11/100\n",
            "240/240 [==============================] - 0s 883us/step - loss: 310.7060\n",
            "Epoch 12/100\n",
            "240/240 [==============================] - 0s 829us/step - loss: 289.2607\n",
            "Epoch 13/100\n",
            "240/240 [==============================] - 0s 889us/step - loss: 267.5764\n",
            "Epoch 14/100\n",
            "240/240 [==============================] - 0s 875us/step - loss: 246.2203\n",
            "Epoch 15/100\n",
            "240/240 [==============================] - 0s 847us/step - loss: 223.5690\n",
            "Epoch 16/100\n",
            "240/240 [==============================] - 0s 921us/step - loss: 202.5226\n",
            "Epoch 17/100\n",
            "240/240 [==============================] - 0s 951us/step - loss: 182.4129\n",
            "Epoch 18/100\n",
            "240/240 [==============================] - 0s 872us/step - loss: 163.2985\n",
            "Epoch 19/100\n",
            "240/240 [==============================] - 0s 833us/step - loss: 145.0269\n",
            "Epoch 20/100\n",
            "240/240 [==============================] - 0s 823us/step - loss: 128.8411\n",
            "Epoch 21/100\n",
            "240/240 [==============================] - 0s 889us/step - loss: 113.7226\n",
            "Epoch 22/100\n",
            "240/240 [==============================] - 0s 833us/step - loss: 100.5451\n",
            "Epoch 23/100\n",
            "240/240 [==============================] - 0s 820us/step - loss: 87.6313\n",
            "Epoch 24/100\n",
            "240/240 [==============================] - 0s 822us/step - loss: 76.4266\n",
            "Epoch 25/100\n",
            "240/240 [==============================] - 0s 911us/step - loss: 66.8885\n",
            "Epoch 26/100\n",
            "240/240 [==============================] - 0s 901us/step - loss: 58.2288\n",
            "Epoch 27/100\n",
            "240/240 [==============================] - 0s 889us/step - loss: 51.5137\n",
            "Epoch 28/100\n",
            "240/240 [==============================] - 0s 856us/step - loss: 45.4575\n",
            "Epoch 29/100\n",
            "240/240 [==============================] - 0s 829us/step - loss: 40.5412\n",
            "Epoch 30/100\n",
            "240/240 [==============================] - 0s 847us/step - loss: 36.7904\n",
            "Epoch 31/100\n",
            "240/240 [==============================] - 0s 906us/step - loss: 34.1669\n",
            "Epoch 32/100\n",
            "240/240 [==============================] - 0s 874us/step - loss: 32.2955\n",
            "Epoch 33/100\n",
            "240/240 [==============================] - 0s 886us/step - loss: 30.8709\n",
            "Epoch 34/100\n",
            "240/240 [==============================] - 0s 852us/step - loss: 29.6889\n",
            "Epoch 35/100\n",
            "240/240 [==============================] - 0s 900us/step - loss: 29.5673\n",
            "Epoch 36/100\n",
            "240/240 [==============================] - 0s 869us/step - loss: 28.7633\n",
            "Epoch 37/100\n",
            "240/240 [==============================] - 0s 837us/step - loss: 28.4205\n",
            "Epoch 38/100\n",
            "240/240 [==============================] - 0s 925us/step - loss: 28.2963\n",
            "Epoch 39/100\n",
            "240/240 [==============================] - 0s 830us/step - loss: 28.0411\n",
            "Epoch 40/100\n",
            "240/240 [==============================] - 0s 963us/step - loss: 27.9730\n",
            "Epoch 41/100\n",
            "240/240 [==============================] - 0s 819us/step - loss: 27.6423\n",
            "Epoch 42/100\n",
            "240/240 [==============================] - 0s 833us/step - loss: 27.4031\n",
            "Epoch 43/100\n",
            "240/240 [==============================] - 0s 844us/step - loss: 27.8023\n",
            "Epoch 44/100\n",
            "240/240 [==============================] - 0s 871us/step - loss: 26.9191\n",
            "Epoch 45/100\n",
            "240/240 [==============================] - 0s 879us/step - loss: 26.9755\n",
            "Epoch 46/100\n",
            "240/240 [==============================] - 0s 817us/step - loss: 27.1585\n",
            "Epoch 47/100\n",
            "240/240 [==============================] - 0s 892us/step - loss: 27.3357\n",
            "Epoch 48/100\n",
            "240/240 [==============================] - 0s 873us/step - loss: 26.7312\n",
            "Epoch 49/100\n",
            "240/240 [==============================] - 0s 873us/step - loss: 26.9782\n",
            "Epoch 50/100\n",
            "240/240 [==============================] - 0s 903us/step - loss: 27.2835\n",
            "Epoch 51/100\n",
            "240/240 [==============================] - 0s 835us/step - loss: 27.2309\n",
            "Epoch 52/100\n",
            "240/240 [==============================] - 0s 824us/step - loss: 26.6517\n",
            "Epoch 53/100\n",
            "240/240 [==============================] - 0s 830us/step - loss: 27.6975\n",
            "Epoch 54/100\n",
            "240/240 [==============================] - 0s 865us/step - loss: 26.9581\n",
            "Epoch 55/100\n",
            "240/240 [==============================] - 0s 876us/step - loss: 26.8383\n",
            "Epoch 56/100\n",
            "240/240 [==============================] - 0s 904us/step - loss: 27.0031\n",
            "Epoch 57/100\n",
            "240/240 [==============================] - 0s 864us/step - loss: 26.8297\n",
            "Epoch 58/100\n",
            "240/240 [==============================] - 0s 882us/step - loss: 26.9860\n",
            "Epoch 59/100\n",
            "240/240 [==============================] - 0s 899us/step - loss: 26.7256\n",
            "Epoch 60/100\n",
            "240/240 [==============================] - 0s 879us/step - loss: 26.4872\n",
            "Epoch 61/100\n",
            "240/240 [==============================] - 0s 880us/step - loss: 26.3362\n",
            "Epoch 62/100\n",
            "240/240 [==============================] - 0s 870us/step - loss: 26.7630\n",
            "Epoch 63/100\n",
            "240/240 [==============================] - 0s 899us/step - loss: 27.0147\n",
            "Epoch 64/100\n",
            "240/240 [==============================] - 0s 883us/step - loss: 26.3885\n",
            "Epoch 65/100\n",
            "240/240 [==============================] - 0s 905us/step - loss: 26.7990\n",
            "Epoch 66/100\n",
            "240/240 [==============================] - 0s 917us/step - loss: 27.0113\n",
            "Epoch 67/100\n",
            "240/240 [==============================] - 0s 823us/step - loss: 26.8854\n",
            "Epoch 68/100\n",
            "240/240 [==============================] - 0s 922us/step - loss: 26.5143\n",
            "Epoch 69/100\n",
            "240/240 [==============================] - 0s 819us/step - loss: 26.4783\n",
            "Epoch 70/100\n",
            "240/240 [==============================] - 0s 887us/step - loss: 26.5310\n",
            "Epoch 71/100\n",
            "240/240 [==============================] - 0s 874us/step - loss: 26.5219\n",
            "Epoch 72/100\n",
            "240/240 [==============================] - 0s 853us/step - loss: 26.5120\n",
            "Epoch 73/100\n",
            "240/240 [==============================] - 0s 894us/step - loss: 26.4411\n",
            "Epoch 74/100\n",
            "240/240 [==============================] - 0s 833us/step - loss: 27.1278\n",
            "Epoch 75/100\n",
            "240/240 [==============================] - 0s 864us/step - loss: 26.5226\n",
            "Epoch 76/100\n",
            "240/240 [==============================] - 0s 859us/step - loss: 26.7702\n",
            "Epoch 77/100\n",
            "240/240 [==============================] - 0s 902us/step - loss: 26.5405\n",
            "Epoch 78/100\n",
            "240/240 [==============================] - 0s 870us/step - loss: 26.3722\n",
            "Epoch 79/100\n",
            "240/240 [==============================] - 0s 825us/step - loss: 27.0482\n",
            "Epoch 80/100\n",
            "240/240 [==============================] - 0s 878us/step - loss: 26.7001\n",
            "Epoch 81/100\n",
            "240/240 [==============================] - 0s 838us/step - loss: 26.4191\n",
            "Epoch 82/100\n",
            "240/240 [==============================] - 0s 881us/step - loss: 26.4414\n",
            "Epoch 83/100\n",
            "240/240 [==============================] - 0s 873us/step - loss: 26.6687\n",
            "Epoch 84/100\n",
            "240/240 [==============================] - 0s 899us/step - loss: 26.3792\n",
            "Epoch 85/100\n",
            "240/240 [==============================] - 0s 874us/step - loss: 26.3470\n",
            "Epoch 86/100\n",
            "240/240 [==============================] - 0s 902us/step - loss: 26.5353\n",
            "Epoch 87/100\n",
            "240/240 [==============================] - 0s 898us/step - loss: 27.5314\n",
            "Epoch 88/100\n",
            "240/240 [==============================] - 0s 832us/step - loss: 26.6147\n",
            "Epoch 89/100\n",
            "240/240 [==============================] - 0s 863us/step - loss: 27.3625\n",
            "Epoch 90/100\n",
            "240/240 [==============================] - 0s 870us/step - loss: 27.0001\n",
            "Epoch 91/100\n",
            "240/240 [==============================] - 0s 901us/step - loss: 27.1080\n",
            "Epoch 92/100\n",
            "240/240 [==============================] - 0s 892us/step - loss: 26.5235\n",
            "Epoch 93/100\n",
            "240/240 [==============================] - 0s 831us/step - loss: 26.3769\n",
            "Epoch 94/100\n",
            "240/240 [==============================] - 0s 926us/step - loss: 26.4440\n",
            "Epoch 95/100\n",
            "240/240 [==============================] - 0s 895us/step - loss: 26.5128\n",
            "Epoch 96/100\n",
            "240/240 [==============================] - 0s 891us/step - loss: 26.9950\n",
            "Epoch 97/100\n",
            "240/240 [==============================] - 0s 920us/step - loss: 26.3658\n",
            "Epoch 98/100\n",
            "240/240 [==============================] - 0s 847us/step - loss: 26.7205\n",
            "Epoch 99/100\n",
            "240/240 [==============================] - 0s 917us/step - loss: 26.4579\n",
            "Epoch 100/100\n",
            "240/240 [==============================] - 0s 853us/step - loss: 26.8555\n"
          ],
          "name": "stdout"
        },
        {
          "output_type": "execute_result",
          "data": {
            "text/plain": [
              "<tensorflow.python.keras.callbacks.History at 0x7f0563c78b00>"
            ]
          },
          "metadata": {
            "tags": []
          },
          "execution_count": 41
        }
      ]
    },
    {
      "cell_type": "markdown",
      "metadata": {
        "id": "1wZi1aGgCWmA",
        "colab_type": "text"
      },
      "source": [
        "## Step 4: Prediction with the ANN"
      ]
    },
    {
      "cell_type": "code",
      "metadata": {
        "id": "zyhBOFQUCcm5",
        "colab_type": "code",
        "colab": {
          "base_uri": "https://localhost:8080/",
          "height": 134
        },
        "outputId": "7010e2d5-9c93-401b-9859-c63e0c0cd08b"
      },
      "source": [
        "# prediction from NN\n",
        "y_pred = ann.predict(x= X_test)\n",
        "np.printoptions(precision = 2)\n",
        "print(np.concatenate((y_pred.reshape(len(y_pred),1), y_test.reshape(len(y_test),1)),1))"
      ],
      "execution_count": 42,
      "outputs": [
        {
          "output_type": "stream",
          "text": [
            "[[431.23699951 431.23      ]\n",
            " [462.28701782 460.01      ]\n",
            " [465.78060913 461.14      ]\n",
            " ...\n",
            " [473.03585815 473.26      ]\n",
            " [439.78823853 438.        ]\n",
            " [459.02120972 463.28      ]]\n"
          ],
          "name": "stdout"
        }
      ]
    },
    {
      "cell_type": "code",
      "metadata": {
        "id": "kA2Vybp0D8_K",
        "colab_type": "code",
        "colab": {
          "base_uri": "https://localhost:8080/",
          "height": 34
        },
        "outputId": "1fdfb263-26ce-4163-861b-3ce9860c78a3"
      },
      "source": [
        "# Model evaluation on test set\n",
        "from sklearn.metrics import r2_score\n",
        "print(\"The r_squared for the test set is: \", r2_score(y_pred,y_test))"
      ],
      "execution_count": 43,
      "outputs": [
        {
          "output_type": "stream",
          "text": [
            "The r_squared for the test set is:  0.9111799762568482\n"
          ],
          "name": "stdout"
        }
      ]
    }
  ]
}