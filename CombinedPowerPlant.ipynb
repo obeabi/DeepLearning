{
  "nbformat": 4,
  "nbformat_minor": 0,
  "metadata": {
    "colab": {
      "name": "CombinedPowerPlant.ipynb",
      "provenance": [],
      "toc_visible": true,
      "authorship_tag": "ABX9TyPTiZOqPDPIMtTpCLvdnU6X",
      "include_colab_link": true
    },
    "kernelspec": {
      "name": "python3",
      "display_name": "Python 3"
    }
  },
  "cells": [
    {
      "cell_type": "markdown",
      "metadata": {
        "id": "view-in-github",
        "colab_type": "text"
      },
      "source": [
        "<a href=\"https://colab.research.google.com/github/obeabi/DeepLearning/blob/master/CombinedPowerPlant.ipynb\" target=\"_parent\"><img src=\"https://colab.research.google.com/assets/colab-badge.svg\" alt=\"Open In Colab\"/></a>"
      ]
    },
    {
      "cell_type": "markdown",
      "metadata": {
        "id": "7mFyIZDF0NAh",
        "colab_type": "text"
      },
      "source": [
        "# Written by Abiola Obembe\n",
        "## Title : Combined Cycle Power Plant Data Set\n",
        "### Date : 2020-09-05\n",
        "### Objective: Neural network model for predicting energy output from a power plant where the features consist of hourly average ambient variables Temperature (T), Ambient Pressure (AP), Relative Humidity (RH) and Exhaust Vacuum (V) to predict the net hourly electrical energy output (EP) of the plant."
      ]
    },
    {
      "cell_type": "markdown",
      "metadata": {
        "id": "4jbUL2KG0kz5",
        "colab_type": "text"
      },
      "source": [
        "## Install Libraries"
      ]
    },
    {
      "cell_type": "code",
      "metadata": {
        "id": "aY0Ocn7E0nJf",
        "colab_type": "code",
        "colab": {
          "base_uri": "https://localhost:8080/",
          "height": 50
        },
        "outputId": "944929c9-6d75-4cfd-b088-ce565b85e8e7"
      },
      "source": [
        "# install libraries\n",
        "import numpy as np\n",
        "import matplotlib.pyplot as plt\n",
        "import pandas as pd\n",
        "import tensorflow as tf\n",
        "import seaborn as sns\n",
        "# %matplotlib inline\n",
        "\n",
        "print(\"libraies installed successfully!\")\n",
        "print(\"The version of tensorflow is\", tf.__version__)\n"
      ],
      "execution_count": 44,
      "outputs": [
        {
          "output_type": "stream",
          "text": [
            "libraies installed successfully!\n",
            "The version of tensorflow is 2.3.0\n"
          ],
          "name": "stdout"
        }
      ]
    },
    {
      "cell_type": "markdown",
      "metadata": {
        "id": "ga39II8A1DA0",
        "colab_type": "text"
      },
      "source": [
        "## Data Preprocessing & Exploratory Analysis"
      ]
    },
    {
      "cell_type": "code",
      "metadata": {
        "id": "osCpz_fC1GPb",
        "colab_type": "code",
        "colab": {
          "base_uri": "https://localhost:8080/",
          "height": 195
        },
        "outputId": "bbf30248-b33a-4624-feb5-8cd346e2a52a"
      },
      "source": [
        "# load dataset as a datframe\n",
        "dataset = pd.read_excel('PowerPlant.xlsx')\n",
        "dataset.head()"
      ],
      "execution_count": 45,
      "outputs": [
        {
          "output_type": "execute_result",
          "data": {
            "text/html": [
              "<div>\n",
              "<style scoped>\n",
              "    .dataframe tbody tr th:only-of-type {\n",
              "        vertical-align: middle;\n",
              "    }\n",
              "\n",
              "    .dataframe tbody tr th {\n",
              "        vertical-align: top;\n",
              "    }\n",
              "\n",
              "    .dataframe thead th {\n",
              "        text-align: right;\n",
              "    }\n",
              "</style>\n",
              "<table border=\"1\" class=\"dataframe\">\n",
              "  <thead>\n",
              "    <tr style=\"text-align: right;\">\n",
              "      <th></th>\n",
              "      <th>AT</th>\n",
              "      <th>V</th>\n",
              "      <th>AP</th>\n",
              "      <th>RH</th>\n",
              "      <th>PE</th>\n",
              "    </tr>\n",
              "  </thead>\n",
              "  <tbody>\n",
              "    <tr>\n",
              "      <th>0</th>\n",
              "      <td>14.96</td>\n",
              "      <td>41.76</td>\n",
              "      <td>1024.07</td>\n",
              "      <td>73.17</td>\n",
              "      <td>463.26</td>\n",
              "    </tr>\n",
              "    <tr>\n",
              "      <th>1</th>\n",
              "      <td>25.18</td>\n",
              "      <td>62.96</td>\n",
              "      <td>1020.04</td>\n",
              "      <td>59.08</td>\n",
              "      <td>444.37</td>\n",
              "    </tr>\n",
              "    <tr>\n",
              "      <th>2</th>\n",
              "      <td>5.11</td>\n",
              "      <td>39.40</td>\n",
              "      <td>1012.16</td>\n",
              "      <td>92.14</td>\n",
              "      <td>488.56</td>\n",
              "    </tr>\n",
              "    <tr>\n",
              "      <th>3</th>\n",
              "      <td>20.86</td>\n",
              "      <td>57.32</td>\n",
              "      <td>1010.24</td>\n",
              "      <td>76.64</td>\n",
              "      <td>446.48</td>\n",
              "    </tr>\n",
              "    <tr>\n",
              "      <th>4</th>\n",
              "      <td>10.82</td>\n",
              "      <td>37.50</td>\n",
              "      <td>1009.23</td>\n",
              "      <td>96.62</td>\n",
              "      <td>473.90</td>\n",
              "    </tr>\n",
              "  </tbody>\n",
              "</table>\n",
              "</div>"
            ],
            "text/plain": [
              "      AT      V       AP     RH      PE\n",
              "0  14.96  41.76  1024.07  73.17  463.26\n",
              "1  25.18  62.96  1020.04  59.08  444.37\n",
              "2   5.11  39.40  1012.16  92.14  488.56\n",
              "3  20.86  57.32  1010.24  76.64  446.48\n",
              "4  10.82  37.50  1009.23  96.62  473.90"
            ]
          },
          "metadata": {
            "tags": []
          },
          "execution_count": 45
        }
      ]
    },
    {
      "cell_type": "code",
      "metadata": {
        "id": "EmW3FPop0dIJ",
        "colab_type": "code",
        "colab": {
          "base_uri": "https://localhost:8080/",
          "height": 50
        },
        "outputId": "eb2a1eb2-04a5-4297-ec96-9076b85dbcdd"
      },
      "source": [
        "# Check for missing values and shape both before and after treating missing values\n",
        "print(\"The original shape of the dataframe is:\", dataset.shape)\n",
        "\n",
        "print(\"The number of missing values in the dataframe is/are:\", dataset.isnull().sum().sum())"
      ],
      "execution_count": 46,
      "outputs": [
        {
          "output_type": "stream",
          "text": [
            "The original shape of the dataframe is: (9568, 5)\n",
            "The number of missing values in the dataframe is/are: 0\n"
          ],
          "name": "stdout"
        }
      ]
    },
    {
      "cell_type": "code",
      "metadata": {
        "id": "UJxbLwEh2MMJ",
        "colab_type": "code",
        "colab": {
          "base_uri": "https://localhost:8080/",
          "height": 118
        },
        "outputId": "7ca5e6ff-937b-4e15-e563-a1c53e8734f0"
      },
      "source": [
        "# Check data types for dataset\n",
        "dataset.dtypes"
      ],
      "execution_count": 47,
      "outputs": [
        {
          "output_type": "execute_result",
          "data": {
            "text/plain": [
              "AT    float64\n",
              "V     float64\n",
              "AP    float64\n",
              "RH    float64\n",
              "PE    float64\n",
              "dtype: object"
            ]
          },
          "metadata": {
            "tags": []
          },
          "execution_count": 47
        }
      ]
    },
    {
      "cell_type": "code",
      "metadata": {
        "id": "2muBfC8U3AkS",
        "colab_type": "code",
        "colab": {
          "base_uri": "https://localhost:8080/",
          "height": 284
        },
        "outputId": "d86c8723-345e-423b-9360-66499b73143f"
      },
      "source": [
        "# Statistical Summary\n",
        "dataset.describe()"
      ],
      "execution_count": 48,
      "outputs": [
        {
          "output_type": "execute_result",
          "data": {
            "text/html": [
              "<div>\n",
              "<style scoped>\n",
              "    .dataframe tbody tr th:only-of-type {\n",
              "        vertical-align: middle;\n",
              "    }\n",
              "\n",
              "    .dataframe tbody tr th {\n",
              "        vertical-align: top;\n",
              "    }\n",
              "\n",
              "    .dataframe thead th {\n",
              "        text-align: right;\n",
              "    }\n",
              "</style>\n",
              "<table border=\"1\" class=\"dataframe\">\n",
              "  <thead>\n",
              "    <tr style=\"text-align: right;\">\n",
              "      <th></th>\n",
              "      <th>AT</th>\n",
              "      <th>V</th>\n",
              "      <th>AP</th>\n",
              "      <th>RH</th>\n",
              "      <th>PE</th>\n",
              "    </tr>\n",
              "  </thead>\n",
              "  <tbody>\n",
              "    <tr>\n",
              "      <th>count</th>\n",
              "      <td>9568.000000</td>\n",
              "      <td>9568.000000</td>\n",
              "      <td>9568.000000</td>\n",
              "      <td>9568.000000</td>\n",
              "      <td>9568.000000</td>\n",
              "    </tr>\n",
              "    <tr>\n",
              "      <th>mean</th>\n",
              "      <td>19.651231</td>\n",
              "      <td>54.305804</td>\n",
              "      <td>1013.259078</td>\n",
              "      <td>73.308978</td>\n",
              "      <td>454.365009</td>\n",
              "    </tr>\n",
              "    <tr>\n",
              "      <th>std</th>\n",
              "      <td>7.452473</td>\n",
              "      <td>12.707893</td>\n",
              "      <td>5.938784</td>\n",
              "      <td>14.600269</td>\n",
              "      <td>17.066995</td>\n",
              "    </tr>\n",
              "    <tr>\n",
              "      <th>min</th>\n",
              "      <td>1.810000</td>\n",
              "      <td>25.360000</td>\n",
              "      <td>992.890000</td>\n",
              "      <td>25.560000</td>\n",
              "      <td>420.260000</td>\n",
              "    </tr>\n",
              "    <tr>\n",
              "      <th>25%</th>\n",
              "      <td>13.510000</td>\n",
              "      <td>41.740000</td>\n",
              "      <td>1009.100000</td>\n",
              "      <td>63.327500</td>\n",
              "      <td>439.750000</td>\n",
              "    </tr>\n",
              "    <tr>\n",
              "      <th>50%</th>\n",
              "      <td>20.345000</td>\n",
              "      <td>52.080000</td>\n",
              "      <td>1012.940000</td>\n",
              "      <td>74.975000</td>\n",
              "      <td>451.550000</td>\n",
              "    </tr>\n",
              "    <tr>\n",
              "      <th>75%</th>\n",
              "      <td>25.720000</td>\n",
              "      <td>66.540000</td>\n",
              "      <td>1017.260000</td>\n",
              "      <td>84.830000</td>\n",
              "      <td>468.430000</td>\n",
              "    </tr>\n",
              "    <tr>\n",
              "      <th>max</th>\n",
              "      <td>37.110000</td>\n",
              "      <td>81.560000</td>\n",
              "      <td>1033.300000</td>\n",
              "      <td>100.160000</td>\n",
              "      <td>495.760000</td>\n",
              "    </tr>\n",
              "  </tbody>\n",
              "</table>\n",
              "</div>"
            ],
            "text/plain": [
              "                AT            V           AP           RH           PE\n",
              "count  9568.000000  9568.000000  9568.000000  9568.000000  9568.000000\n",
              "mean     19.651231    54.305804  1013.259078    73.308978   454.365009\n",
              "std       7.452473    12.707893     5.938784    14.600269    17.066995\n",
              "min       1.810000    25.360000   992.890000    25.560000   420.260000\n",
              "25%      13.510000    41.740000  1009.100000    63.327500   439.750000\n",
              "50%      20.345000    52.080000  1012.940000    74.975000   451.550000\n",
              "75%      25.720000    66.540000  1017.260000    84.830000   468.430000\n",
              "max      37.110000    81.560000  1033.300000   100.160000   495.760000"
            ]
          },
          "metadata": {
            "tags": []
          },
          "execution_count": 48
        }
      ]
    },
    {
      "cell_type": "code",
      "metadata": {
        "id": "nJwkQ3NO2WCg",
        "colab_type": "code",
        "colab": {
          "base_uri": "https://localhost:8080/",
          "height": 195
        },
        "outputId": "ef8101bc-9786-4642-a725-bc8e34bd13b1"
      },
      "source": [
        "# Examine correlation matrix\n",
        "dataset.corr(method = 'spearman')"
      ],
      "execution_count": 49,
      "outputs": [
        {
          "output_type": "execute_result",
          "data": {
            "text/html": [
              "<div>\n",
              "<style scoped>\n",
              "    .dataframe tbody tr th:only-of-type {\n",
              "        vertical-align: middle;\n",
              "    }\n",
              "\n",
              "    .dataframe tbody tr th {\n",
              "        vertical-align: top;\n",
              "    }\n",
              "\n",
              "    .dataframe thead th {\n",
              "        text-align: right;\n",
              "    }\n",
              "</style>\n",
              "<table border=\"1\" class=\"dataframe\">\n",
              "  <thead>\n",
              "    <tr style=\"text-align: right;\">\n",
              "      <th></th>\n",
              "      <th>AT</th>\n",
              "      <th>V</th>\n",
              "      <th>AP</th>\n",
              "      <th>RH</th>\n",
              "      <th>PE</th>\n",
              "    </tr>\n",
              "  </thead>\n",
              "  <tbody>\n",
              "    <tr>\n",
              "      <th>AT</th>\n",
              "      <td>1.000000</td>\n",
              "      <td>0.850620</td>\n",
              "      <td>-0.518790</td>\n",
              "      <td>-0.542706</td>\n",
              "      <td>-0.944412</td>\n",
              "    </tr>\n",
              "    <tr>\n",
              "      <th>V</th>\n",
              "      <td>0.850620</td>\n",
              "      <td>1.000000</td>\n",
              "      <td>-0.426129</td>\n",
              "      <td>-0.304938</td>\n",
              "      <td>-0.883702</td>\n",
              "    </tr>\n",
              "    <tr>\n",
              "      <th>AP</th>\n",
              "      <td>-0.518790</td>\n",
              "      <td>-0.426129</td>\n",
              "      <td>1.000000</td>\n",
              "      <td>0.086776</td>\n",
              "      <td>0.542531</td>\n",
              "    </tr>\n",
              "    <tr>\n",
              "      <th>RH</th>\n",
              "      <td>-0.542706</td>\n",
              "      <td>-0.304938</td>\n",
              "      <td>0.086776</td>\n",
              "      <td>1.000000</td>\n",
              "      <td>0.389640</td>\n",
              "    </tr>\n",
              "    <tr>\n",
              "      <th>PE</th>\n",
              "      <td>-0.944412</td>\n",
              "      <td>-0.883702</td>\n",
              "      <td>0.542531</td>\n",
              "      <td>0.389640</td>\n",
              "      <td>1.000000</td>\n",
              "    </tr>\n",
              "  </tbody>\n",
              "</table>\n",
              "</div>"
            ],
            "text/plain": [
              "          AT         V        AP        RH        PE\n",
              "AT  1.000000  0.850620 -0.518790 -0.542706 -0.944412\n",
              "V   0.850620  1.000000 -0.426129 -0.304938 -0.883702\n",
              "AP -0.518790 -0.426129  1.000000  0.086776  0.542531\n",
              "RH -0.542706 -0.304938  0.086776  1.000000  0.389640\n",
              "PE -0.944412 -0.883702  0.542531  0.389640  1.000000"
            ]
          },
          "metadata": {
            "tags": []
          },
          "execution_count": 49
        }
      ]
    },
    {
      "cell_type": "code",
      "metadata": {
        "id": "e4E_nHbC3s6S",
        "colab_type": "code",
        "colab": {
          "base_uri": "https://localhost:8080/",
          "height": 298
        },
        "outputId": "a0181f97-c75d-48f6-a163-692be2eaf0bb"
      },
      "source": [
        "# Visual exploratory analysis: KDE plot for AT vs PE\n",
        "ax = sns.kdeplot( dataset.iloc[:,0].values )\n",
        "print(\"The skewness value of the data in AT column is \", dataset['AT'].skew())\n",
        "print(\"The kurtosis value of the data in AT column is \", dataset['AT'].kurtosis())"
      ],
      "execution_count": 50,
      "outputs": [
        {
          "output_type": "stream",
          "text": [
            "The skewness value of the data in AT column is  -0.13639304947492412\n",
            "The kurtosis value of the data in AT column is  -1.037549192309245\n"
          ],
          "name": "stdout"
        },
        {
          "output_type": "display_data",
          "data": {
            "image/png": "[encoded data removed]",
            "text/plain": [
              "<Figure size 432x288 with 1 Axes>"
            ]
          },
          "metadata": {
            "tags": [],
            "needs_background": "light"
          }
        }
      ]
    },
    {
      "cell_type": "code",
      "metadata": {
        "id": "Z5guoVIm4OG5",
        "colab_type": "code",
        "colab": {
          "base_uri": "https://localhost:8080/",
          "height": 252
        },
        "outputId": "da0d20d8-0828-4d88-9c60-308044c349aa"
      },
      "source": [
        "# Visual exploratory analysis: KDE plot for AT vs PE\n",
        "ax = sns.boxplot( dataset.iloc[:,0].values, orient= \"v\" )"
      ],
      "execution_count": 51,
      "outputs": [
        {
          "output_type": "display_data",
          "data": {
            "image/png": "[encoded data removed]",
            "text/plain": [
              "<Figure size 432x288 with 1 Axes>"
            ]
          },
          "metadata": {
            "tags": [],
            "needs_background": "light"
          }
        }
      ]
    },
    {
      "cell_type": "code",
      "metadata": {
        "id": "-045jZOK2jpF",
        "colab_type": "code",
        "colab": {
          "base_uri": "https://localhost:8080/",
          "height": 265
        },
        "outputId": "6ecb44ec-d36f-41c2-ae85-addeef5a92cf"
      },
      "source": [
        "# Visual exploratory analysis: Regression plot for AT vs PE\n",
        "sns.regplot(x = dataset.iloc[:,0].values, y = dataset.iloc[:,-1].values)\n",
        "plt.show()"
      ],
      "execution_count": 52,
      "outputs": [
        {
          "output_type": "display_data",
          "data": {
            "image/png": "[encoded data removed]",
            "text/plain": [
              "<Figure size 432x288 with 1 Axes>"
            ]
          },
          "metadata": {
            "tags": [],
            "needs_background": "light"
          }
        }
      ]
    },
    {
      "cell_type": "code",
      "metadata": {
        "id": "wAIfAWMF4trH",
        "colab_type": "code",
        "colab": {
          "base_uri": "https://localhost:8080/",
          "height": 298
        },
        "outputId": "37448096-3829-4201-fd1e-29083252ab91"
      },
      "source": [
        "# Visual exploratory analysis: KDE plot for V vs PE\n",
        "ax = sns.kdeplot( dataset.iloc[:,1].values )\n",
        "print(\"The skewness value of the data in V column is \", dataset['V'].skew())\n",
        "print(\"The kurtosis value of the data in V column is \", dataset['V'].kurtosis())"
      ],
      "execution_count": 53,
      "outputs": [
        {
          "output_type": "stream",
          "text": [
            "The skewness value of the data in V column is  0.1985210113667618\n",
            "The kurtosis value of the data in V column is  -1.4443366772319608\n"
          ],
          "name": "stdout"
        },
        {
          "output_type": "display_data",
          "data": {
            "image/png": "[encoded data removed]",
            "text/plain": [
              "<Figure size 432x288 with 1 Axes>"
            ]
          },
          "metadata": {
            "tags": [],
            "needs_background": "light"
          }
        }
      ]
    },
    {
      "cell_type": "code",
      "metadata": {
        "id": "RyxAjofX4yPC",
        "colab_type": "code",
        "colab": {
          "base_uri": "https://localhost:8080/",
          "height": 252
        },
        "outputId": "a3c48eb1-fc3f-434f-baf8-872e63f8a85f"
      },
      "source": [
        "# Visual exploratory analysis: KDE plot for V vs PE\n",
        "ax = sns.boxplot( dataset.iloc[:,1].values, orient= \"v\" )"
      ],
      "execution_count": 54,
      "outputs": [
        {
          "output_type": "display_data",
          "data": {
            "image/png": "[encoded data removed]",
            "text/plain": [
              "<Figure size 432x288 with 1 Axes>"
            ]
          },
          "metadata": {
            "tags": [],
            "needs_background": "light"
          }
        }
      ]
    },
    {
      "cell_type": "code",
      "metadata": {
        "id": "L2DUsznP417d",
        "colab_type": "code",
        "colab": {
          "base_uri": "https://localhost:8080/",
          "height": 265
        },
        "outputId": "11535b58-4071-4515-9fc2-220302e32dc8"
      },
      "source": [
        "# Visual exploratory analysis: Regression plot for V vs PE\n",
        "sns.regplot(x = dataset.iloc[:,1].values, y = dataset.iloc[:,-1].values)\n",
        "plt.show()"
      ],
      "execution_count": 55,
      "outputs": [
        {
          "output_type": "display_data",
          "data": {
            "image/png": "[encoded data removed]",
            "text/plain": [
              "<Figure size 432x288 with 1 Axes>"
            ]
          },
          "metadata": {
            "tags": [],
            "needs_background": "light"
          }
        }
      ]
    },
    {
      "cell_type": "code",
      "metadata": {
        "id": "T9tfoUvk55Wi",
        "colab_type": "code",
        "colab": {
          "base_uri": "https://localhost:8080/",
          "height": 300
        },
        "outputId": "2cc187e7-8916-4ebb-b98d-1208bacf2d43"
      },
      "source": [
        "# Visual exploratory analysis: KDE plot for AP vs PE\n",
        "ax = sns.kdeplot( dataset.iloc[:,2].values )\n",
        "print(\"The skewness value of the data in AT column is \", dataset['AP'].skew())\n",
        "print(\"The kurtosis value of the data in AT column is \", dataset['AP'].kurtosis())"
      ],
      "execution_count": 56,
      "outputs": [
        {
          "output_type": "stream",
          "text": [
            "The skewness value of the data in AT column is  0.26544469358258616\n",
            "The kurtosis value of the data in AT column is  0.09423719530331276\n"
          ],
          "name": "stdout"
        },
        {
          "output_type": "display_data",
          "data": {
            "image/png": "[encoded data removed]",
            "text/plain": [
              "<Figure size 432x288 with 1 Axes>"
            ]
          },
          "metadata": {
            "tags": [],
            "needs_background": "light"
          }
        }
      ]
    },
    {
      "cell_type": "code",
      "metadata": {
        "id": "EttI82sH59zq",
        "colab_type": "code",
        "colab": {
          "base_uri": "https://localhost:8080/",
          "height": 254
        },
        "outputId": "62c493b2-6abd-41df-db68-aa291f088383"
      },
      "source": [
        "# Visual exploratory analysis: KDE plot for AP vs PE\n",
        "ax = sns.boxplot( dataset.iloc[:,2].values, orient= \"v\" )"
      ],
      "execution_count": 57,
      "outputs": [
        {
          "output_type": "display_data",
          "data": {
            "image/png": "[encoded data removed]",
            "text/plain": [
              "<Figure size 432x288 with 1 Axes>"
            ]
          },
          "metadata": {
            "tags": [],
            "needs_background": "light"
          }
        }
      ]
    },
    {
      "cell_type": "code",
      "metadata": {
        "id": "Fn7Ib8nH6DCS",
        "colab_type": "code",
        "colab": {
          "base_uri": "https://localhost:8080/",
          "height": 265
        },
        "outputId": "f2281009-db39-4786-f656-a2866c8d121d"
      },
      "source": [
        "# Visual exploratory analysis: Regression plot for AP vs PE\n",
        "sns.regplot(x = dataset.iloc[:,2].values, y = dataset.iloc[:,-1].values)\n",
        "plt.show()"
      ],
      "execution_count": 58,
      "outputs": [
        {
          "output_type": "display_data",
          "data": {
            "image/png": "[encoded data removed]",
            "text/plain": [
              "<Figure size 432x288 with 1 Axes>"
            ]
          },
          "metadata": {
            "tags": [],
            "needs_background": "light"
          }
        }
      ]
    },
    {
      "cell_type": "code",
      "metadata": {
        "id": "KuD-REjc6Usg",
        "colab_type": "code",
        "colab": {
          "base_uri": "https://localhost:8080/",
          "height": 298
        },
        "outputId": "4f51b58b-d2be-43fc-e609-024a4e4adfd9"
      },
      "source": [
        "# Visual exploratory analysis: KDE plot for RH vs PE\n",
        "ax = sns.kdeplot( dataset.iloc[:,3].values )\n",
        "print(\"The skewness value of the data in AT column is \", dataset['RH'].skew())\n",
        "print(\"The kurtosis value of the data in AT column is \", dataset['RH'].kurtosis())"
      ],
      "execution_count": 59,
      "outputs": [
        {
          "output_type": "stream",
          "text": [
            "The skewness value of the data in AT column is  -0.4318387491833358\n",
            "The kurtosis value of the data in AT column is  -0.4445263744874066\n"
          ],
          "name": "stdout"
        },
        {
          "output_type": "display_data",
          "data": {
            "image/png": "[encoded data removed]",
            "text/plain": [
              "<Figure size 432x288 with 1 Axes>"
            ]
          },
          "metadata": {
            "tags": [],
            "needs_background": "light"
          }
        }
      ]
    },
    {
      "cell_type": "code",
      "metadata": {
        "id": "D_ZcVXue6VKC",
        "colab_type": "code",
        "colab": {
          "base_uri": "https://localhost:8080/",
          "height": 252
        },
        "outputId": "8e067056-5d0d-4022-bbda-6603a13cbb0a"
      },
      "source": [
        "# Visual exploratory analysis: KDE plot for RH vs PE\n",
        "ax = sns.boxplot( dataset.iloc[:,3].values, orient= \"v\" )"
      ],
      "execution_count": 60,
      "outputs": [
        {
          "output_type": "display_data",
          "data": {
            "image/png": "[encoded data removed]",
            "text/plain": [
              "<Figure size 432x288 with 1 Axes>"
            ]
          },
          "metadata": {
            "tags": [],
            "needs_background": "light"
          }
        }
      ]
    },
    {
      "cell_type": "code",
      "metadata": {
        "id": "ONz7AM016VZg",
        "colab_type": "code",
        "colab": {
          "base_uri": "https://localhost:8080/",
          "height": 265
        },
        "outputId": "54badcee-6e4c-4166-86e5-e09d2680a358"
      },
      "source": [
        "# Visual exploratory analysis: Regression plot for RH vs PE\n",
        "sns.regplot(x = dataset.iloc[:,3].values, y = dataset.iloc[:,-1].values)\n",
        "plt.show()"
      ],
      "execution_count": 61,
      "outputs": [
        {
          "output_type": "display_data",
          "data": {
            "image/png": "[encoded data removed]",
            "text/plain": [
              "<Figure size 432x288 with 1 Axes>"
            ]
          },
          "metadata": {
            "tags": [],
            "needs_background": "light"
          }
        }
      ]
    },
    {
      "cell_type": "code",
      "metadata": {
        "id": "munk62tW7XQi",
        "colab_type": "code",
        "colab": {
          "base_uri": "https://localhost:8080/",
          "height": 50
        },
        "outputId": "1cfc9f4a-629d-47c6-cf23-303f91f732f5"
      },
      "source": [
        "# Split dataset into dependent and independent varaibles\n",
        "X = dataset.iloc[:, :-1].values\n",
        "y = dataset.iloc[:, -1].values\n",
        "print(X.shape)\n",
        "print(y.shape)"
      ],
      "execution_count": 62,
      "outputs": [
        {
          "output_type": "stream",
          "text": [
            "(9568, 4)\n",
            "(9568,)\n"
          ],
          "name": "stdout"
        }
      ]
    },
    {
      "cell_type": "code",
      "metadata": {
        "id": "JGHFd3No8SIx",
        "colab_type": "code",
        "colab": {
          "base_uri": "https://localhost:8080/",
          "height": 134
        },
        "outputId": "d70d744e-dcc5-4852-d81a-151a4bb97168"
      },
      "source": [
        "# print the features matrix X\n",
        "print(X)"
      ],
      "execution_count": 63,
      "outputs": [
        {
          "output_type": "stream",
          "text": [
            "[[  14.96   41.76 1024.07   73.17]\n",
            " [  25.18   62.96 1020.04   59.08]\n",
            " [   5.11   39.4  1012.16   92.14]\n",
            " ...\n",
            " [  31.32   74.33 1012.92   36.48]\n",
            " [  24.48   69.45 1013.86   62.39]\n",
            " [  21.6    62.52 1017.23   67.87]]\n"
          ],
          "name": "stdout"
        }
      ]
    },
    {
      "cell_type": "code",
      "metadata": {
        "id": "sg8DbT9Q8Unb",
        "colab_type": "code",
        "colab": {
          "base_uri": "https://localhost:8080/",
          "height": 34
        },
        "outputId": "ce9f724f-d92a-4d04-ec9a-71d37fe35cb7"
      },
      "source": [
        "# print the target variable y\n",
        "print(y)"
      ],
      "execution_count": 64,
      "outputs": [
        {
          "output_type": "stream",
          "text": [
            "[463.26 444.37 488.56 ... 429.57 435.74 453.28]\n"
          ],
          "name": "stdout"
        }
      ]
    },
    {
      "cell_type": "markdown",
      "metadata": {
        "id": "fpiJ2nHa8sA6",
        "colab_type": "text"
      },
      "source": [
        "### Split dataframe into training and test set"
      ]
    },
    {
      "cell_type": "code",
      "metadata": {
        "id": "TXCv8-LG8mcD",
        "colab_type": "code",
        "colab": {
          "base_uri": "https://localhost:8080/",
          "height": 84
        },
        "outputId": "6a02e33c-b412-43f6-b4d8-63ff8a45b519"
      },
      "source": [
        "# Splitting the dataset into the Training set and Test set\n",
        "from sklearn.model_selection import train_test_split\n",
        "X_train, X_test, y_train, y_test = train_test_split(X, y, test_size = 0.2, random_state = 0)\n",
        "print(X_train.shape)\n",
        "print(X_test.shape)\n",
        "print(y_train.shape)\n",
        "print(y_test.shape)"
      ],
      "execution_count": 65,
      "outputs": [
        {
          "output_type": "stream",
          "text": [
            "(7654, 4)\n",
            "(1914, 4)\n",
            "(7654,)\n",
            "(1914,)\n"
          ],
          "name": "stdout"
        }
      ]
    },
    {
      "cell_type": "markdown",
      "metadata": {
        "id": "cWbqZ-2z7rQz",
        "colab_type": "text"
      },
      "source": [
        "## Step 2: Build the ANN"
      ]
    },
    {
      "cell_type": "code",
      "metadata": {
        "id": "5ayBTCyD7wzX",
        "colab_type": "code",
        "colab": {
          "base_uri": "https://localhost:8080/",
          "height": 34
        },
        "outputId": "0c23510c-ff8b-4655-a5a3-041959f547ff"
      },
      "source": [
        "# Initialize ANN network\n",
        "ann = tf.keras.models.Sequential()\n",
        "ann"
      ],
      "execution_count": 66,
      "outputs": [
        {
          "output_type": "execute_result",
          "data": {
            "text/plain": [
              "<tensorflow.python.keras.engine.sequential.Sequential at 0x7f056152f2e8>"
            ]
          },
          "metadata": {
            "tags": []
          },
          "execution_count": 66
        }
      ]
    },
    {
      "cell_type": "markdown",
      "metadata": {
        "id": "qYIX_Tza8CaY",
        "colab_type": "text"
      },
      "source": [
        "### Add input and first hidden layer"
      ]
    },
    {
      "cell_type": "code",
      "metadata": {
        "id": "K4D4yXoa7_Tk",
        "colab_type": "code",
        "colab": {}
      },
      "source": [
        "# Establish the first hidden layer of the NN with n_H1 neurons\n",
        "n_H1 = 6\n",
        "ann.add(tf.keras.layers.Dense(units = n_H1, activation= 'relu'))"
      ],
      "execution_count": 67,
      "outputs": []
    },
    {
      "cell_type": "markdown",
      "metadata": {
        "id": "Wpm0Ewzx8Lnp",
        "colab_type": "text"
      },
      "source": [
        "### Add the Second hidden layer"
      ]
    },
    {
      "cell_type": "code",
      "metadata": {
        "id": "PsCMK3iM99_q",
        "colab_type": "code",
        "colab": {}
      },
      "source": [
        "# Establish the second hidden layer of the NN\n",
        "#n_H2 = 6\n",
        "#ann.add(tf.keras.layers.Dense( units= n_H2, activation= 'relu'))"
      ],
      "execution_count": 68,
      "outputs": []
    },
    {
      "cell_type": "markdown",
      "metadata": {
        "id": "crs5nnRC-Jx_",
        "colab_type": "text"
      },
      "source": [
        "### Add the output layer"
      ]
    },
    {
      "cell_type": "code",
      "metadata": {
        "id": "b7pnLNNQ-M58",
        "colab_type": "code",
        "colab": {}
      },
      "source": [
        "ann.add(tf.keras.layers.Dense(units= 1))"
      ],
      "execution_count": 69,
      "outputs": []
    },
    {
      "cell_type": "markdown",
      "metadata": {
        "id": "EUKmOF5y_pNg",
        "colab_type": "text"
      },
      "source": [
        "## Step 3: Training the ANN"
      ]
    },
    {
      "cell_type": "code",
      "metadata": {
        "id": "4GEnMd1AAB8I",
        "colab_type": "code",
        "colab": {}
      },
      "source": [
        "# Compile the NN model\n",
        "ann.compile(optimizer = 'adam', loss= 'mean_squared_error')"
      ],
      "execution_count": 70,
      "outputs": []
    },
    {
      "cell_type": "code",
      "metadata": {
        "id": "higPVGuI_tzj",
        "colab_type": "code",
        "colab": {
          "base_uri": "https://localhost:8080/",
          "height": 1000
        },
        "outputId": "1dc8f783-5223-48f8-d5da-b1ce748bd4bc"
      },
      "source": [
        "# Train the NN model\n",
        "ann.fit(x = X_train, y = y_train, batch_size = 2**5, epochs = 100)"
      ],
      "execution_count": 71,
      "outputs": [
        {
          "output_type": "stream",
          "text": [
            "Epoch 1/100\n",
            "240/240 [==============================] - 0s 920us/step - loss: 54225.0859\n",
            "Epoch 2/100\n",
            "240/240 [==============================] - 0s 829us/step - loss: 563.6843\n",
            "Epoch 3/100\n",
            "240/240 [==============================] - 0s 880us/step - loss: 487.7087\n",
            "Epoch 4/100\n",
            "240/240 [==============================] - 0s 796us/step - loss: 463.2171\n",
            "Epoch 5/100\n",
            "240/240 [==============================] - 0s 809us/step - loss: 434.7807\n",
            "Epoch 6/100\n",
            "240/240 [==============================] - 0s 890us/step - loss: 402.3882\n",
            "Epoch 7/100\n",
            "240/240 [==============================] - 0s 803us/step - loss: 366.9495\n",
            "Epoch 8/100\n",
            "240/240 [==============================] - 0s 824us/step - loss: 329.8073\n",
            "Epoch 9/100\n",
            "240/240 [==============================] - 0s 816us/step - loss: 291.2863\n",
            "Epoch 10/100\n",
            "240/240 [==============================] - 0s 819us/step - loss: 251.8060\n",
            "Epoch 11/100\n",
            "240/240 [==============================] - 0s 825us/step - loss: 213.2509\n",
            "Epoch 12/100\n",
            "240/240 [==============================] - 0s 811us/step - loss: 175.3312\n",
            "Epoch 13/100\n",
            "240/240 [==============================] - 0s 834us/step - loss: 140.5084\n",
            "Epoch 14/100\n",
            "240/240 [==============================] - 0s 896us/step - loss: 109.7578\n",
            "Epoch 15/100\n",
            "240/240 [==============================] - 0s 813us/step - loss: 83.4461\n",
            "Epoch 16/100\n",
            "240/240 [==============================] - 0s 801us/step - loss: 62.8119\n",
            "Epoch 17/100\n",
            "240/240 [==============================] - 0s 826us/step - loss: 47.7499\n",
            "Epoch 18/100\n",
            "240/240 [==============================] - 0s 818us/step - loss: 37.7861\n",
            "Epoch 19/100\n",
            "240/240 [==============================] - 0s 779us/step - loss: 31.8290\n",
            "Epoch 20/100\n",
            "240/240 [==============================] - 0s 791us/step - loss: 28.4525\n",
            "Epoch 21/100\n",
            "240/240 [==============================] - 0s 830us/step - loss: 26.8756\n",
            "Epoch 22/100\n",
            "240/240 [==============================] - 0s 834us/step - loss: 26.3538\n",
            "Epoch 23/100\n",
            "240/240 [==============================] - 0s 822us/step - loss: 26.0942\n",
            "Epoch 24/100\n",
            "240/240 [==============================] - 0s 825us/step - loss: 26.3302\n",
            "Epoch 25/100\n",
            "240/240 [==============================] - 0s 801us/step - loss: 26.0786\n",
            "Epoch 26/100\n",
            "240/240 [==============================] - 0s 813us/step - loss: 26.0795\n",
            "Epoch 27/100\n",
            "240/240 [==============================] - 0s 809us/step - loss: 26.0689\n",
            "Epoch 28/100\n",
            "240/240 [==============================] - 0s 832us/step - loss: 26.3018\n",
            "Epoch 29/100\n",
            "240/240 [==============================] - 0s 833us/step - loss: 26.2892\n",
            "Epoch 30/100\n",
            "240/240 [==============================] - 0s 901us/step - loss: 26.3380\n",
            "Epoch 31/100\n",
            "240/240 [==============================] - 0s 785us/step - loss: 26.1514\n",
            "Epoch 32/100\n",
            "240/240 [==============================] - 0s 803us/step - loss: 26.1521\n",
            "Epoch 33/100\n",
            "240/240 [==============================] - 0s 790us/step - loss: 26.7144\n",
            "Epoch 34/100\n",
            "240/240 [==============================] - 0s 817us/step - loss: 26.3287\n",
            "Epoch 35/100\n",
            "240/240 [==============================] - 0s 803us/step - loss: 26.3862\n",
            "Epoch 36/100\n",
            "240/240 [==============================] - 0s 860us/step - loss: 26.7076\n",
            "Epoch 37/100\n",
            "240/240 [==============================] - 0s 836us/step - loss: 26.3979\n",
            "Epoch 38/100\n",
            "240/240 [==============================] - 0s 816us/step - loss: 26.7238\n",
            "Epoch 39/100\n",
            "240/240 [==============================] - 0s 816us/step - loss: 26.5436\n",
            "Epoch 40/100\n",
            "240/240 [==============================] - 0s 893us/step - loss: 27.0790\n",
            "Epoch 41/100\n",
            "240/240 [==============================] - 0s 822us/step - loss: 26.3887\n",
            "Epoch 42/100\n",
            "240/240 [==============================] - 0s 797us/step - loss: 26.7418\n",
            "Epoch 43/100\n",
            "240/240 [==============================] - 0s 822us/step - loss: 26.9969\n",
            "Epoch 44/100\n",
            "240/240 [==============================] - 0s 822us/step - loss: 27.1693\n",
            "Epoch 45/100\n",
            "240/240 [==============================] - 0s 810us/step - loss: 26.8015\n",
            "Epoch 46/100\n",
            "240/240 [==============================] - 0s 829us/step - loss: 26.8297\n",
            "Epoch 47/100\n",
            "240/240 [==============================] - 0s 807us/step - loss: 26.5013\n",
            "Epoch 48/100\n",
            "240/240 [==============================] - 0s 822us/step - loss: 26.6244\n",
            "Epoch 49/100\n",
            "240/240 [==============================] - 0s 808us/step - loss: 27.5081\n",
            "Epoch 50/100\n",
            "240/240 [==============================] - 0s 824us/step - loss: 26.7701\n",
            "Epoch 51/100\n",
            "240/240 [==============================] - 0s 863us/step - loss: 27.0873\n",
            "Epoch 52/100\n",
            "240/240 [==============================] - 0s 817us/step - loss: 26.4646\n",
            "Epoch 53/100\n",
            "240/240 [==============================] - 0s 823us/step - loss: 26.7161\n",
            "Epoch 54/100\n",
            "240/240 [==============================] - 0s 836us/step - loss: 26.8497\n",
            "Epoch 55/100\n",
            "240/240 [==============================] - 0s 846us/step - loss: 27.2764\n",
            "Epoch 56/100\n",
            "240/240 [==============================] - 0s 804us/step - loss: 27.0116\n",
            "Epoch 57/100\n",
            "240/240 [==============================] - 0s 813us/step - loss: 26.6818\n",
            "Epoch 58/100\n",
            "240/240 [==============================] - 0s 883us/step - loss: 26.7746\n",
            "Epoch 59/100\n",
            "240/240 [==============================] - 0s 808us/step - loss: 26.5743\n",
            "Epoch 60/100\n",
            "240/240 [==============================] - 0s 877us/step - loss: 26.7679\n",
            "Epoch 61/100\n",
            "240/240 [==============================] - 0s 826us/step - loss: 26.6874\n",
            "Epoch 62/100\n",
            "240/240 [==============================] - 0s 840us/step - loss: 26.7063\n",
            "Epoch 63/100\n",
            "240/240 [==============================] - 0s 837us/step - loss: 27.1386\n",
            "Epoch 64/100\n",
            "240/240 [==============================] - 0s 782us/step - loss: 26.5666\n",
            "Epoch 65/100\n",
            "240/240 [==============================] - 0s 894us/step - loss: 26.6067\n",
            "Epoch 66/100\n",
            "240/240 [==============================] - 0s 823us/step - loss: 26.5245\n",
            "Epoch 67/100\n",
            "240/240 [==============================] - 0s 807us/step - loss: 26.8774\n",
            "Epoch 68/100\n",
            "240/240 [==============================] - 0s 790us/step - loss: 26.6770\n",
            "Epoch 69/100\n",
            "240/240 [==============================] - 0s 831us/step - loss: 27.2799\n",
            "Epoch 70/100\n",
            "240/240 [==============================] - 0s 866us/step - loss: 26.6528\n",
            "Epoch 71/100\n",
            "240/240 [==============================] - 0s 795us/step - loss: 26.6063\n",
            "Epoch 72/100\n",
            "240/240 [==============================] - 0s 792us/step - loss: 26.7158\n",
            "Epoch 73/100\n",
            "240/240 [==============================] - 0s 835us/step - loss: 26.7293\n",
            "Epoch 74/100\n",
            "240/240 [==============================] - 0s 818us/step - loss: 26.3510\n",
            "Epoch 75/100\n",
            "240/240 [==============================] - 0s 816us/step - loss: 27.4051\n",
            "Epoch 76/100\n",
            "240/240 [==============================] - 0s 819us/step - loss: 26.6977\n",
            "Epoch 77/100\n",
            "240/240 [==============================] - 0s 826us/step - loss: 26.5641\n",
            "Epoch 78/100\n",
            "240/240 [==============================] - 0s 825us/step - loss: 26.2663\n",
            "Epoch 79/100\n",
            "240/240 [==============================] - 0s 796us/step - loss: 26.9542\n",
            "Epoch 80/100\n",
            "240/240 [==============================] - 0s 969us/step - loss: 26.6845\n",
            "Epoch 81/100\n",
            "240/240 [==============================] - 0s 809us/step - loss: 26.8806\n",
            "Epoch 82/100\n",
            "240/240 [==============================] - 0s 806us/step - loss: 26.4664\n",
            "Epoch 83/100\n",
            "240/240 [==============================] - 0s 796us/step - loss: 27.1801\n",
            "Epoch 84/100\n",
            "240/240 [==============================] - 0s 800us/step - loss: 26.5712\n",
            "Epoch 85/100\n",
            "240/240 [==============================] - 0s 846us/step - loss: 26.8123\n",
            "Epoch 86/100\n",
            "240/240 [==============================] - 0s 812us/step - loss: 26.7266\n",
            "Epoch 87/100\n",
            "240/240 [==============================] - 0s 820us/step - loss: 27.1094\n",
            "Epoch 88/100\n",
            "240/240 [==============================] - 0s 805us/step - loss: 26.7959\n",
            "Epoch 89/100\n",
            "240/240 [==============================] - 0s 788us/step - loss: 26.2229\n",
            "Epoch 90/100\n",
            "240/240 [==============================] - 0s 850us/step - loss: 26.9861\n",
            "Epoch 91/100\n",
            "240/240 [==============================] - 0s 790us/step - loss: 26.6192\n",
            "Epoch 92/100\n",
            "240/240 [==============================] - 0s 811us/step - loss: 26.7092\n",
            "Epoch 93/100\n",
            "240/240 [==============================] - 0s 809us/step - loss: 26.6983\n",
            "Epoch 94/100\n",
            "240/240 [==============================] - 0s 805us/step - loss: 26.6601\n",
            "Epoch 95/100\n",
            "240/240 [==============================] - 0s 826us/step - loss: 26.3554\n",
            "Epoch 96/100\n",
            "240/240 [==============================] - 0s 872us/step - loss: 26.7325\n",
            "Epoch 97/100\n",
            "240/240 [==============================] - 0s 809us/step - loss: 26.6208\n",
            "Epoch 98/100\n",
            "240/240 [==============================] - 0s 810us/step - loss: 27.1167\n",
            "Epoch 99/100\n",
            "240/240 [==============================] - 0s 828us/step - loss: 26.7477\n",
            "Epoch 100/100\n",
            "240/240 [==============================] - 0s 858us/step - loss: 26.7576\n"
          ],
          "name": "stdout"
        },
        {
          "output_type": "execute_result",
          "data": {
            "text/plain": [
              "<tensorflow.python.keras.callbacks.History at 0x7f055f9af860>"
            ]
          },
          "metadata": {
            "tags": []
          },
          "execution_count": 71
        }
      ]
    },
    {
      "cell_type": "markdown",
      "metadata": {
        "id": "1wZi1aGgCWmA",
        "colab_type": "text"
      },
      "source": [
        "## Step 4: Prediction with the ANN"
      ]
    },
    {
      "cell_type": "code",
      "metadata": {
        "id": "zyhBOFQUCcm5",
        "colab_type": "code",
        "colab": {
          "base_uri": "https://localhost:8080/",
          "height": 134
        },
        "outputId": "b0ecf65c-3261-4a10-c21f-7199a0fd8983"
      },
      "source": [
        "# prediction from NN\n",
        "y_pred = ann.predict(x= X_test)\n",
        "np.printoptions(precision = 2)\n",
        "print(np.concatenate((y_pred.reshape(len(y_pred),1), y_test.reshape(len(y_test),1)),1))"
      ],
      "execution_count": 72,
      "outputs": [
        {
          "output_type": "stream",
          "text": [
            "[[429.36914062 431.23      ]\n",
            " [460.40481567 460.01      ]\n",
            " [463.88595581 461.14      ]\n",
            " ...\n",
            " [471.1473999  473.26      ]\n",
            " [437.95211792 438.        ]\n",
            " [457.16445923 463.28      ]]\n"
          ],
          "name": "stdout"
        }
      ]
    },
    {
      "cell_type": "code",
      "metadata": {
        "id": "kA2Vybp0D8_K",
        "colab_type": "code",
        "colab": {
          "base_uri": "https://localhost:8080/",
          "height": 34
        },
        "outputId": "3e421782-3773-4339-bdfb-30d6e67b6761"
      },
      "source": [
        "# Model evaluation on test set\n",
        "from sklearn.metrics import r2_score\n",
        "print(\"The r_squared for the test set is: \", r2_score(y_pred,y_test))"
      ],
      "execution_count": 73,
      "outputs": [
        {
          "output_type": "stream",
          "text": [
            "The r_squared for the test set is:  0.8977447036011724\n"
          ],
          "name": "stdout"
        }
      ]
    }
  ]
}