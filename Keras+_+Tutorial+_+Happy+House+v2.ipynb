{
  "nbformat": 4,
  "nbformat_minor": 0,
  "metadata": {
    "kernelspec": {
      "display_name": "Python 3",
      "language": "python",
      "name": "python3"
    },
    "language_info": {
      "codemirror_mode": {
        "name": "ipython",
        "version": 3
      },
      "file_extension": ".py",
      "mimetype": "text/x-python",
      "name": "python",
      "nbconvert_exporter": "python",
      "pygments_lexer": "ipython3",
      "version": "3.6.0"
    },
    "colab": {
      "name": "Keras+-+Tutorial+-+Happy+House+v2.ipynb",
      "provenance": [],
      "toc_visible": true,
      "include_colab_link": true
    }
  },
  "cells": [
    {
      "cell_type": "markdown",
      "metadata": {
        "id": "view-in-github",
        "colab_type": "text"
      },
      "source": [
        "<a href=\"https://colab.research.google.com/github/obeabi/DeepLearning/blob/master/Keras%2B_%2BTutorial%2B_%2BHappy%2BHouse%2Bv2.ipynb\" target=\"_parent\"><img src=\"https://colab.research.google.com/assets/colab-badge.svg\" alt=\"Open In Colab\"/></a>"
      ]
    },
    {
      "cell_type": "markdown",
      "metadata": {
        "id": "EUi2PPNOvHn1"
      },
      "source": [
        "# Keras tutorial - the Happy House\n",
        "\n",
        "Welcome to the first assignment of week 2. In this assignment, you will:\n",
        "1. Learn to use Keras, a high-level neural networks API (programming framework), written in Python and capable of running on top of several lower-level frameworks including TensorFlow and CNTK. \n",
        "2. See how you can in a couple of hours build a deep learning algorithm.\n",
        "\n",
        "Why are we using Keras? Keras was developed to enable deep learning engineers to build and experiment with different models very quickly. Just as TensorFlow is a higher-level framework than Python, Keras is an even higher-level framework and provides additional abstractions. Being able to go from idea to result with the least possible delay is key to finding good models. However, Keras is more restrictive than the lower-level frameworks, so there are some very complex models that you can implement in TensorFlow but not (without more difficulty) in Keras. That being said, Keras will work fine for many common models. \n",
        "\n",
        "In this exercise, you'll work on the \"Happy House\" problem, which we'll explain below. Let's load the required packages and solve the problem of the Happy House!"
      ]
    },
    {
      "cell_type": "code",
      "metadata": {
        "id": "7LMwuP7lvHn5"
      },
      "source": [
        "import numpy as np\n",
        "from keras import layers\n",
        "from keras.layers import Input, Dense, Activation, ZeroPadding2D, BatchNormalization, Flatten, Conv2D\n",
        "from keras.layers import AveragePooling2D, MaxPooling2D, Dropout, GlobalMaxPooling2D, GlobalAveragePooling2D\n",
        "from keras.models import Model\n",
        "from keras.preprocessing import image\n",
        "from keras.utils import layer_utils\n",
        "from keras.utils.data_utils import get_file\n",
        "from keras.applications.imagenet_utils import preprocess_input\n",
        "import pydot\n",
        "from IPython.display import SVG\n",
        "from keras.utils.vis_utils import model_to_dot\n",
        "from keras.utils import plot_model\n",
        "from kt_utils import *\n",
        "\n",
        "import keras.backend as K\n",
        "K.set_image_data_format('channels_last')\n",
        "import matplotlib.pyplot as plt\n",
        "from matplotlib.pyplot import imshow\n",
        "\n",
        "%matplotlib inline"
      ],
      "execution_count": 1,
      "outputs": []
    },
    {
      "cell_type": "markdown",
      "metadata": {
        "id": "uGpsiLydvHoG"
      },
      "source": [
        "**Note**: As you can see, we've imported a lot of functions from Keras. You can use them easily just by calling them directly in the notebook. Ex: `X = Input(...)` or `X = ZeroPadding2D(...)`."
      ]
    },
    {
      "cell_type": "markdown",
      "metadata": {
        "id": "BBxGOkTJvHoH"
      },
      "source": [
        "## 1 - The Happy House \n",
        "\n",
        "For your next vacation, you decided to spend a week with five of your friends from school. It is a very convenient house with many things to do nearby. But the most important benefit is that everybody has commited to be happy when they are in the house. So anyone wanting to enter the house must prove their current state of happiness.\n",
        "\n",
        "<img src=\"images/happy-house.jpg\" style=\"width:350px;height:270px;\">\n",
        "<caption><center> <u> <font color='purple'> **Figure 1** </u><font color='purple'>  : **the Happy House**</center></caption>\n",
        "\n",
        "\n",
        "As a deep learning expert, to make sure the \"Happy\" rule is strictly applied, you are going to build an algorithm which that uses pictures from the front door camera to check if the person is happy or not. The door should open only if the person is happy. \n",
        "\n",
        "You have gathered pictures of your friends and yourself, taken by the front-door camera. The dataset is labbeled. \n",
        "\n",
        "<img src=\"images/house-members.png\" style=\"width:550px;height:250px;\">\n",
        "\n",
        "Run the following code to normalize the dataset and learn about its shapes."
      ]
    },
    {
      "cell_type": "code",
      "metadata": {
        "id": "blJHVl7TvHoI",
        "outputId": "055d5a57-5a8a-49a5-fbae-6b0fbea69521",
        "colab": {
          "base_uri": "https://localhost:8080/",
          "height": 118
        }
      },
      "source": [
        "X_train_orig, Y_train_orig, X_test_orig, Y_test_orig, classes = load_dataset()\n",
        "\n",
        "# Normalize image vectors\n",
        "X_train = X_train_orig/255.\n",
        "X_test = X_test_orig/255.\n",
        "\n",
        "# Reshape\n",
        "Y_train = Y_train_orig.T\n",
        "Y_test = Y_test_orig.T\n",
        "\n",
        "print (\"number of training examples = \" + str(X_train.shape[0]))\n",
        "print (\"number of test examples = \" + str(X_test.shape[0]))\n",
        "print (\"X_train shape: \" + str(X_train.shape))\n",
        "print (\"Y_train shape: \" + str(Y_train.shape))\n",
        "print (\"X_test shape: \" + str(X_test.shape))\n",
        "print (\"Y_test shape: \" + str(Y_test.shape))"
      ],
      "execution_count": 2,
      "outputs": [
        {
          "output_type": "stream",
          "text": [
            "number of training examples = 600\n",
            "number of test examples = 150\n",
            "X_train shape: (600, 64, 64, 3)\n",
            "Y_train shape: (600, 1)\n",
            "X_test shape: (150, 64, 64, 3)\n",
            "Y_test shape: (150, 1)\n"
          ],
          "name": "stdout"
        }
      ]
    },
    {
      "cell_type": "markdown",
      "metadata": {
        "id": "Hei8k69QvHoR"
      },
      "source": [
        "**Details of the \"Happy\" dataset**:\n",
        "- Images are of shape (64,64,3)\n",
        "- Training: 600 pictures\n",
        "- Test: 150 pictures\n",
        "\n",
        "It is now time to solve the \"Happy\" Challenge."
      ]
    },
    {
      "cell_type": "markdown",
      "metadata": {
        "id": "YO2Fnw5ivHoT"
      },
      "source": [
        "## 2 - Building a model in Keras\n",
        "\n",
        "Keras is very good for rapid prototyping. In just a short time you will be able to build a model that achieves outstanding results.\n",
        "\n",
        "Here is an example of a model in Keras:\n",
        "\n",
        "```python\n",
        "def model(input_shape):\n",
        "    # Define the input placeholder as a tensor with shape input_shape. Think of this as your input image!\n",
        "    X_input = Input(input_shape)\n",
        "\n",
        "    # Zero-Padding: pads the border of X_input with zeroes\n",
        "    X = ZeroPadding2D((3, 3))(X_input)\n",
        "\n",
        "    # CONV -> BN -> RELU Block applied to X\n",
        "    X = Conv2D(32, (7, 7), strides = (1, 1), name = 'conv0')(X)\n",
        "    X = BatchNormalization(axis = 3, name = 'bn0')(X)\n",
        "    X = Activation('relu')(X)\n",
        "\n",
        "    # MAXPOOL\n",
        "    X = MaxPooling2D((2, 2), name='max_pool')(X)\n",
        "\n",
        "    # FLATTEN X (means convert it to a vector) + FULLYCONNECTED\n",
        "    X = Flatten()(X)\n",
        "    X = Dense(1, activation='sigmoid', name='fc')(X)\n",
        "\n",
        "    # Create model. This creates your Keras model instance, you'll use this instance to train/test the model.\n",
        "    model = Model(inputs = X_input, outputs = X, name='HappyModel')\n",
        "    \n",
        "    return model\n",
        "```\n",
        "\n",
        "Note that Keras uses a different convention with variable names than we've previously used with numpy and TensorFlow. In particular, rather than creating and assigning a new variable on each step of forward propagation such as `X`, `Z1`, `A1`, `Z2`, `A2`, etc. for the computations for the different layers, in Keras code each line above just reassigns `X` to a new value using `X = ...`. In other words, during each step of forward propagation, we are just writing the latest value in the commputation into the same variable `X`. The only exception was `X_input`, which we kept separate and did not overwrite, since we needed it at the end to create the Keras model instance (`model = Model(inputs = X_input, ...)` above). \n",
        "\n",
        "**Exercise**: Implement a `HappyModel()`. This assignment is more open-ended than most. We suggest that you start by implementing a model using the architecture we suggest, and run through the rest of this assignment using that as your initial model. But after that, come back and take initiative to try out other model architectures. For example, you might take inspiration from the model above, but then vary the network architecture and hyperparameters however you wish. You can also use other functions such as `AveragePooling2D()`, `GlobalMaxPooling2D()`, `Dropout()`. \n",
        "\n",
        "**Note**: You have to be careful with your data's shapes. Use what you've learned in the videos to make sure your convolutional, pooling and fully-connected layers are adapted to the volumes you're applying it to."
      ]
    },
    {
      "cell_type": "code",
      "metadata": {
        "id": "KqQJj_bevHoU"
      },
      "source": [
        "# GRADED FUNCTION: HappyModel\n",
        "\n",
        "def HappyModel(input_shape):\n",
        "    \"\"\"\n",
        "    Implementation of the HappyModel.\n",
        "    \n",
        "    Arguments:\n",
        "    input_shape -- shape of the images of the dataset\n",
        "\n",
        "    Returns:\n",
        "    model -- a Model() instance in Keras\n",
        "    \"\"\"\n",
        "    \n",
        "    ### START CODE HERE ###\n",
        "    # Feel free to use the suggested outline in the text above to get started, and run through the whole\n",
        "    # exercise (including the later portions of this notebook) once. The come back also try out other\n",
        "    # network architectures as well. \n",
        "    X_input = Input(input_shape)\n",
        "\n",
        "    # Zero-Padding: pads the border of X_input with zeroes\n",
        "    X = ZeroPadding2D((3, 3))(X_input)\n",
        "\n",
        "    # CONV -> BN -> RELU Block applied to X\n",
        "    X = Conv2D(32, (7, 7), strides = (1, 1), name = 'conv0')(X)\n",
        "    X = BatchNormalization(axis = 3, name = 'bn0')(X)\n",
        "    X = Activation('relu')(X)\n",
        "\n",
        "    # MAXPOOL\n",
        "    X = MaxPooling2D((2, 2), name='max_pool')(X)\n",
        "\n",
        "    # FLATTEN X (means convert it to a vector) + FULLYCONNECTED\n",
        "    X = Flatten()(X)\n",
        "    X = Dense(1, activation='sigmoid', name='fc')(X)\n",
        "\n",
        "    # Create model. This creates your Keras model instance, you'll use this instance to train/test the model.\n",
        "    model = Model(inputs = X_input, outputs = X, name='HappyModel')\n",
        "    \n",
        "    \n",
        "    ### END CODE HERE ###\n",
        "    \n",
        "    return model"
      ],
      "execution_count": 3,
      "outputs": []
    },
    {
      "cell_type": "markdown",
      "metadata": {
        "id": "CPG1rASJvHoc"
      },
      "source": [
        "You have now built a function to describe your model. To train and test this model, there are four steps in Keras:\n",
        "1. Create the model by calling the function above\n",
        "2. Compile the model by calling `model.compile(optimizer = \"...\", loss = \"...\", metrics = [\"accuracy\"])`\n",
        "3. Train the model on train data by calling `model.fit(x = ..., y = ..., epochs = ..., batch_size = ...)`\n",
        "4. Test the model on test data by calling `model.evaluate(x = ..., y = ...)`\n",
        "\n",
        "If you want to know more about `model.compile()`, `model.fit()`, `model.evaluate()` and their arguments, refer to the official [Keras documentation](https://keras.io/models/model/).\n",
        "\n",
        "**Exercise**: Implement step 1, i.e. create the model."
      ]
    },
    {
      "cell_type": "code",
      "metadata": {
        "id": "ICAUumWfvHod",
        "outputId": "5efa838b-b7a5-471f-e00a-113979f13db0",
        "colab": {
          "base_uri": "https://localhost:8080/",
          "height": 34
        }
      },
      "source": [
        "### START CODE HERE ### (1 line)\n",
        "happyModel = HappyModel((64,64,3))\n",
        "happyModel\n",
        "### END CODE HERE ###"
      ],
      "execution_count": 5,
      "outputs": [
        {
          "output_type": "execute_result",
          "data": {
            "text/plain": [
              "<tensorflow.python.keras.engine.functional.Functional at 0x7fb849fa48d0>"
            ]
          },
          "metadata": {
            "tags": []
          },
          "execution_count": 5
        }
      ]
    },
    {
      "cell_type": "markdown",
      "metadata": {
        "id": "UMrpATl6vHoq"
      },
      "source": [
        "**Exercise**: Implement step 2, i.e. compile the model to configure the learning process. Choose the 3 arguments of `compile()` wisely. Hint: the Happy Challenge is a binary classification problem."
      ]
    },
    {
      "cell_type": "code",
      "metadata": {
        "id": "aW_lm89bvHor"
      },
      "source": [
        "### START CODE HERE ### (1 line)\n",
        "happyModel.compile(optimizer = 'adam', loss = 'binary_crossentropy', metrics = ['accuracy'])\n",
        "### END CODE HERE ###"
      ],
      "execution_count": 7,
      "outputs": []
    },
    {
      "cell_type": "markdown",
      "metadata": {
        "id": "rEb3aKmfvHo1"
      },
      "source": [
        "**Exercise**: Implement step 3, i.e. train the model. Choose the number of epochs and the batch size."
      ]
    },
    {
      "cell_type": "code",
      "metadata": {
        "id": "Bt0R9l2tvHpH",
        "outputId": "1c0e046b-d8e7-44b2-8d4f-73b86a284ad2",
        "colab": {
          "base_uri": "https://localhost:8080/",
          "height": 370
        }
      },
      "source": [
        "### START CODE HERE ### (1 line)\n",
        "happyModel.fit(X_train, Y_train, batch_size = 2**5, epochs = 10)\n",
        "### END CODE HERE ###"
      ],
      "execution_count": 9,
      "outputs": [
        {
          "output_type": "stream",
          "text": [
            "Epoch 1/10\n",
            "19/19 [==============================] - 4s 204ms/step - loss: 1.6218 - accuracy: 0.5817\n",
            "Epoch 2/10\n",
            "19/19 [==============================] - 4s 233ms/step - loss: 0.2825 - accuracy: 0.8717\n",
            "Epoch 3/10\n",
            "19/19 [==============================] - 6s 325ms/step - loss: 0.1905 - accuracy: 0.9317\n",
            "Epoch 4/10\n",
            "19/19 [==============================] - 9s 464ms/step - loss: 0.1809 - accuracy: 0.9383\n",
            "Epoch 5/10\n",
            "19/19 [==============================] - 6s 291ms/step - loss: 0.1181 - accuracy: 0.9567\n",
            "Epoch 6/10\n",
            "19/19 [==============================] - 4s 225ms/step - loss: 0.1474 - accuracy: 0.9400\n",
            "Epoch 7/10\n",
            "19/19 [==============================] - 4s 202ms/step - loss: 0.0812 - accuracy: 0.9733\n",
            "Epoch 8/10\n",
            "19/19 [==============================] - 4s 202ms/step - loss: 0.1130 - accuracy: 0.9617\n",
            "Epoch 9/10\n",
            "19/19 [==============================] - 4s 203ms/step - loss: 0.0764 - accuracy: 0.9700\n",
            "Epoch 10/10\n",
            "19/19 [==============================] - 4s 201ms/step - loss: 0.0700 - accuracy: 0.9750\n"
          ],
          "name": "stdout"
        },
        {
          "output_type": "execute_result",
          "data": {
            "text/plain": [
              "<tensorflow.python.keras.callbacks.History at 0x7fb842b77e10>"
            ]
          },
          "metadata": {
            "tags": []
          },
          "execution_count": 9
        }
      ]
    },
    {
      "cell_type": "markdown",
      "metadata": {
        "id": "rjMqzgZQvHpq"
      },
      "source": [
        "Note that if you run `fit()` again, the `model` will continue to train with the parameters it has already learnt instead of reinitializing them.\n",
        "\n",
        "**Exercise**: Implement step 4, i.e. test/evaluate the model."
      ]
    },
    {
      "cell_type": "code",
      "metadata": {
        "scrolled": true,
        "id": "4VOLafZFvHpr",
        "outputId": "d4faac32-67fc-4aaf-ffee-8a061ae04599",
        "colab": {
          "base_uri": "https://localhost:8080/",
          "height": 84
        }
      },
      "source": [
        "### START CODE HERE ### (1 line)\n",
        "preds = happyModel.evaluate(X_test,Y_test)\n",
        "### END CODE HERE ###\n",
        "print()\n",
        "print (\"Loss = \" + str(preds[0]))\n",
        "print (\"Test Accuracy = \" + str(preds[1]))"
      ],
      "execution_count": 11,
      "outputs": [
        {
          "output_type": "stream",
          "text": [
            "5/5 [==============================] - 0s 45ms/step - loss: 0.2697 - accuracy: 0.8933\n",
            "\n",
            "Loss = 0.2696889638900757\n",
            "Test Accuracy = 0.8933333158493042\n"
          ],
          "name": "stdout"
        }
      ]
    },
    {
      "cell_type": "markdown",
      "metadata": {
        "id": "Pa-1R0BCvHp6"
      },
      "source": [
        "If your `happyModel()` function worked, you should have observed much better than random-guessing (50%) accuracy on the train and test sets.\n",
        "\n",
        "To give you a point of comparison, our model gets around **95% test accuracy in 40 epochs** (and 99% train accuracy) with a mini batch size of 16 and \"adam\" optimizer. But our model gets decent accuracy after just 2-5 epochs, so if you're comparing different models you can also train a variety of models on just a few epochs and see how they compare. \n",
        "\n",
        "If you have not yet achieved a very good accuracy (let's say more than 80%), here're some things you can play around with to try to achieve it:\n",
        "\n",
        "- Try using blocks of CONV->BATCHNORM->RELU such as:\n",
        "```python\n",
        "X = Conv2D(32, (3, 3), strides = (1, 1), name = 'conv0')(X)\n",
        "X = BatchNormalization(axis = 3, name = 'bn0')(X)\n",
        "X = Activation('relu')(X)\n",
        "```\n",
        "until your height and width dimensions are quite low and your number of channels quite large (≈32 for example). You are encoding useful information in a volume with a lot of channels. You can then flatten the volume and use a fully-connected layer.\n",
        "- You can use MAXPOOL after such blocks. It will help you lower the dimension in height and width.\n",
        "- Change your optimizer. We find Adam works well. \n",
        "- If the model is struggling to run and you get memory issues, lower your batch_size (12 is usually a good compromise)\n",
        "- Run on more epochs, until you see the train accuracy plateauing. \n",
        "\n",
        "Even if you have achieved a good accuracy, please feel free to keep playing with your model to try to get even better results. \n",
        "\n",
        "**Note**: If you perform hyperparameter tuning on your model, the test set actually becomes a dev set, and your model might end up overfitting to the test (dev) set. But just for the purpose of this assignment, we won't worry about that here.\n"
      ]
    },
    {
      "cell_type": "markdown",
      "metadata": {
        "id": "rx4Zl_mUvHp7"
      },
      "source": [
        "## 3 - Conclusion\n",
        "\n",
        "Congratulations, you have solved the Happy House challenge! \n",
        "\n",
        "Now, you just need to link this model to the front-door camera of your house. We unfortunately won't go into the details of how to do that here. "
      ]
    },
    {
      "cell_type": "markdown",
      "metadata": {
        "id": "rFKRaTM5vHp9"
      },
      "source": [
        "<font color='blue'>\n",
        "**What we would like you to remember from this assignment:**\n",
        "- Keras is a tool we recommend for rapid prototyping. It allows you to quickly try out different model architectures. Are there any applications of deep learning to your daily life that you'd like to implement using Keras? \n",
        "- Remember how to code a model in Keras and the four steps leading to the evaluation of your model on the test set. Create->Compile->Fit/Train->Evaluate/Test."
      ]
    },
    {
      "cell_type": "markdown",
      "metadata": {
        "id": "JP6WMWcdvHp-"
      },
      "source": [
        "## 4 - Test with your own image (Optional)\n",
        "\n",
        "Congratulations on finishing this assignment. You can now take a picture of your face and see if you could enter the Happy House. To do that:\n",
        "    1. Click on \"File\" in the upper bar of this notebook, then click \"Open\" to go on your Coursera Hub.\n",
        "    2. Add your image to this Jupyter Notebook's directory, in the \"images\" folder\n",
        "    3. Write your image's name in the following code\n",
        "    4. Run the code and check if the algorithm is right (0 is unhappy, 1 is happy)!\n",
        "    \n",
        "The training/test sets were quite similar; for example, all the pictures were taken against the same background (since a front door camera is always mounted in the same position). This makes the problem easier, but a model trained on this data may or may not work on your own data. But feel free to give it a try! "
      ]
    },
    {
      "cell_type": "code",
      "metadata": {
        "id": "LWM8QGnhvHp_"
      },
      "source": [
        "### START CODE HERE ###\n",
        "img_path = 'images/my_image.jpg'\n",
        "### END CODE HERE ###\n",
        "img = image.load_img(img_path, target_size=(64, 64))\n",
        "imshow(img)\n",
        "\n",
        "x = image.img_to_array(img)\n",
        "x = np.expand_dims(x, axis=0)\n",
        "x = preprocess_input(x)\n",
        "\n",
        "print(happyModel.predict(x))"
      ],
      "execution_count": null,
      "outputs": []
    },
    {
      "cell_type": "markdown",
      "metadata": {
        "id": "NpOtA53zvHqG"
      },
      "source": [
        "## 5 - Other useful functions in Keras (Optional)\n",
        "\n",
        "Two other basic features of Keras that you'll find useful are:\n",
        "- `model.summary()`: prints the details of your layers in a table with the sizes of its inputs/outputs\n",
        "- `plot_model()`: plots your graph in a nice layout. You can even save it as \".png\" using SVG() if you'd like to share it on social media ;). It is saved in \"File\" then \"Open...\" in the upper bar of the notebook.\n",
        "\n",
        "Run the following code."
      ]
    },
    {
      "cell_type": "code",
      "metadata": {
        "scrolled": false,
        "id": "KZKO_towvHqH",
        "outputId": "295639d9-28f8-4f17-ad4d-e37cde513481",
        "colab": {
          "base_uri": "https://localhost:8080/",
          "height": 420
        }
      },
      "source": [
        "happyModel.summary()"
      ],
      "execution_count": 12,
      "outputs": [
        {
          "output_type": "stream",
          "text": [
            "Model: \"HappyModel\"\n",
            "_________________________________________________________________\n",
            "Layer (type)                 Output Shape              Param #   \n",
            "=================================================================\n",
            "input_2 (InputLayer)         [(None, 64, 64, 3)]       0         \n",
            "_________________________________________________________________\n",
            "zero_padding2d_1 (ZeroPaddin (None, 70, 70, 3)         0         \n",
            "_________________________________________________________________\n",
            "conv0 (Conv2D)               (None, 64, 64, 32)        4736      \n",
            "_________________________________________________________________\n",
            "bn0 (BatchNormalization)     (None, 64, 64, 32)        128       \n",
            "_________________________________________________________________\n",
            "activation_1 (Activation)    (None, 64, 64, 32)        0         \n",
            "_________________________________________________________________\n",
            "max_pool (MaxPooling2D)      (None, 32, 32, 32)        0         \n",
            "_________________________________________________________________\n",
            "flatten_1 (Flatten)          (None, 32768)             0         \n",
            "_________________________________________________________________\n",
            "fc (Dense)                   (None, 1)                 32769     \n",
            "=================================================================\n",
            "Total params: 37,633\n",
            "Trainable params: 37,569\n",
            "Non-trainable params: 64\n",
            "_________________________________________________________________\n"
          ],
          "name": "stdout"
        }
      ]
    },
    {
      "cell_type": "code",
      "metadata": {
        "id": "wuxckXTHvHqM",
        "outputId": "5d000d84-79bb-45fe-827f-0c0ecef25035",
        "colab": {
          "base_uri": "https://localhost:8080/",
          "height": 1000
        }
      },
      "source": [
        "plot_model(happyModel, to_file='HappyModel.png')\n",
        "SVG(model_to_dot(happyModel).create(prog='dot', format='svg'))"
      ],
      "execution_count": 13,
      "outputs": [
        {
          "output_type": "execute_result",
          "data": {
            "text/plain": [
              "<IPython.core.display.SVG object>"
            ],
            "image/svg+xml": "<svg height=\"741pt\" viewBox=\"0.00 0.00 234.00 556.00\" width=\"312pt\" xmlns=\"http://www.w3.org/2000/svg\" xmlns:xlink=\"http://www.w3.org/1999/xlink\">\n<g class=\"graph\" id=\"graph0\" transform=\"scale(1.3333 1.3333) rotate(0) translate(4 552)\">\n<title>G</title>\n<polygon fill=\"#ffffff\" points=\"-4,4 -4,-552 230,-552 230,4 -4,4\" stroke=\"transparent\"/>\n<!-- 140429492111568 -->\n<g class=\"node\" id=\"node1\">\n<title>140429492111568</title>\n<polygon fill=\"none\" points=\"46.5,-511.5 46.5,-547.5 179.5,-547.5 179.5,-511.5 46.5,-511.5\" stroke=\"#000000\"/>\n<text fill=\"#000000\" font-family=\"Times,serif\" font-size=\"14.00\" text-anchor=\"middle\" x=\"113\" y=\"-525.8\">input_2: InputLayer</text>\n</g>\n<!-- 140429492111960 -->\n<g class=\"node\" id=\"node2\">\n<title>140429492111960</title>\n<polygon fill=\"none\" points=\"0,-438.5 0,-474.5 226,-474.5 226,-438.5 0,-438.5\" stroke=\"#000000\"/>\n<text fill=\"#000000\" font-family=\"Times,serif\" font-size=\"14.00\" text-anchor=\"middle\" x=\"113\" y=\"-452.8\">zero_padding2d_1: ZeroPadding2D</text>\n</g>\n<!-- 140429492111568&#45;&gt;140429492111960 -->\n<g class=\"edge\" id=\"edge1\">\n<title>140429492111568-&gt;140429492111960</title>\n<path d=\"M113,-511.4551C113,-503.3828 113,-493.6764 113,-484.6817\" fill=\"none\" stroke=\"#000000\"/>\n<polygon fill=\"#000000\" points=\"116.5001,-484.5903 113,-474.5904 109.5001,-484.5904 116.5001,-484.5903\" stroke=\"#000000\"/>\n</g>\n<!-- 140429492112408 -->\n<g class=\"node\" id=\"node3\">\n<title>140429492112408</title>\n<polygon fill=\"none\" points=\"58,-365.5 58,-401.5 168,-401.5 168,-365.5 58,-365.5\" stroke=\"#000000\"/>\n<text fill=\"#000000\" font-family=\"Times,serif\" font-size=\"14.00\" text-anchor=\"middle\" x=\"113\" y=\"-379.8\">conv0: Conv2D</text>\n</g>\n<!-- 140429492111960&#45;&gt;140429492112408 -->\n<g class=\"edge\" id=\"edge2\">\n<title>140429492111960-&gt;140429492112408</title>\n<path d=\"M113,-438.4551C113,-430.3828 113,-420.6764 113,-411.6817\" fill=\"none\" stroke=\"#000000\"/>\n<polygon fill=\"#000000\" points=\"116.5001,-411.5903 113,-401.5904 109.5001,-411.5904 116.5001,-411.5903\" stroke=\"#000000\"/>\n</g>\n<!-- 140429491736760 -->\n<g class=\"node\" id=\"node4\">\n<title>140429491736760</title>\n<polygon fill=\"none\" points=\"32.5,-292.5 32.5,-328.5 193.5,-328.5 193.5,-292.5 32.5,-292.5\" stroke=\"#000000\"/>\n<text fill=\"#000000\" font-family=\"Times,serif\" font-size=\"14.00\" text-anchor=\"middle\" x=\"113\" y=\"-306.8\">bn0: BatchNormalization</text>\n</g>\n<!-- 140429492112408&#45;&gt;140429491736760 -->\n<g class=\"edge\" id=\"edge3\">\n<title>140429492112408-&gt;140429491736760</title>\n<path d=\"M113,-365.4551C113,-357.3828 113,-347.6764 113,-338.6817\" fill=\"none\" stroke=\"#000000\"/>\n<polygon fill=\"#000000\" points=\"116.5001,-338.5903 113,-328.5904 109.5001,-338.5904 116.5001,-338.5903\" stroke=\"#000000\"/>\n</g>\n<!-- 140429491738552 -->\n<g class=\"node\" id=\"node5\">\n<title>140429491738552</title>\n<polygon fill=\"none\" points=\"36,-219.5 36,-255.5 190,-255.5 190,-219.5 36,-219.5\" stroke=\"#000000\"/>\n<text fill=\"#000000\" font-family=\"Times,serif\" font-size=\"14.00\" text-anchor=\"middle\" x=\"113\" y=\"-233.8\">activation_1: Activation</text>\n</g>\n<!-- 140429491736760&#45;&gt;140429491738552 -->\n<g class=\"edge\" id=\"edge4\">\n<title>140429491736760-&gt;140429491738552</title>\n<path d=\"M113,-292.4551C113,-284.3828 113,-274.6764 113,-265.6817\" fill=\"none\" stroke=\"#000000\"/>\n<polygon fill=\"#000000\" points=\"116.5001,-265.5903 113,-255.5904 109.5001,-265.5904 116.5001,-265.5903\" stroke=\"#000000\"/>\n</g>\n<!-- 140429491738720 -->\n<g class=\"node\" id=\"node6\">\n<title>140429491738720</title>\n<polygon fill=\"none\" points=\"26.5,-146.5 26.5,-182.5 199.5,-182.5 199.5,-146.5 26.5,-146.5\" stroke=\"#000000\"/>\n<text fill=\"#000000\" font-family=\"Times,serif\" font-size=\"14.00\" text-anchor=\"middle\" x=\"113\" y=\"-160.8\">max_pool: MaxPooling2D</text>\n</g>\n<!-- 140429491738552&#45;&gt;140429491738720 -->\n<g class=\"edge\" id=\"edge5\">\n<title>140429491738552-&gt;140429491738720</title>\n<path d=\"M113,-219.4551C113,-211.3828 113,-201.6764 113,-192.6817\" fill=\"none\" stroke=\"#000000\"/>\n<polygon fill=\"#000000\" points=\"116.5001,-192.5903 113,-182.5904 109.5001,-192.5904 116.5001,-192.5903\" stroke=\"#000000\"/>\n</g>\n<!-- 140429491861040 -->\n<g class=\"node\" id=\"node7\">\n<title>140429491861040</title>\n<polygon fill=\"none\" points=\"56.5,-73.5 56.5,-109.5 169.5,-109.5 169.5,-73.5 56.5,-73.5\" stroke=\"#000000\"/>\n<text fill=\"#000000\" font-family=\"Times,serif\" font-size=\"14.00\" text-anchor=\"middle\" x=\"113\" y=\"-87.8\">flatten_1: Flatten</text>\n</g>\n<!-- 140429491738720&#45;&gt;140429491861040 -->\n<g class=\"edge\" id=\"edge6\">\n<title>140429491738720-&gt;140429491861040</title>\n<path d=\"M113,-146.4551C113,-138.3828 113,-128.6764 113,-119.6817\" fill=\"none\" stroke=\"#000000\"/>\n<polygon fill=\"#000000\" points=\"116.5001,-119.5903 113,-109.5904 109.5001,-119.5904 116.5001,-119.5903\" stroke=\"#000000\"/>\n</g>\n<!-- 140429491847968 -->\n<g class=\"node\" id=\"node8\">\n<title>140429491847968</title>\n<polygon fill=\"none\" points=\"78,-.5 78,-36.5 148,-36.5 148,-.5 78,-.5\" stroke=\"#000000\"/>\n<text fill=\"#000000\" font-family=\"Times,serif\" font-size=\"14.00\" text-anchor=\"middle\" x=\"113\" y=\"-14.8\">fc: Dense</text>\n</g>\n<!-- 140429491861040&#45;&gt;140429491847968 -->\n<g class=\"edge\" id=\"edge7\">\n<title>140429491861040-&gt;140429491847968</title>\n<path d=\"M113,-73.4551C113,-65.3828 113,-55.6764 113,-46.6817\" fill=\"none\" stroke=\"#000000\"/>\n<polygon fill=\"#000000\" points=\"116.5001,-46.5903 113,-36.5904 109.5001,-46.5904 116.5001,-46.5903\" stroke=\"#000000\"/>\n</g>\n</g>\n</svg>"
          },
          "metadata": {
            "tags": []
          },
          "execution_count": 13
        }
      ]
    }
  ]
}