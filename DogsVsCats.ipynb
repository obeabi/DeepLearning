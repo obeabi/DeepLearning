{
  "nbformat": 4,
  "nbformat_minor": 0,
  "metadata": {
    "colab": {
      "name": "DogsVsCats.ipynb",
      "provenance": [],
      "authorship_tag": "ABX9TyNbuVqCCWWBZ/aQUjQRk7L6",
      "include_colab_link": true
    },
    "kernelspec": {
      "name": "python3",
      "display_name": "Python 3"
    }
  },
  "cells": [
    {
      "cell_type": "markdown",
      "metadata": {
        "id": "view-in-github",
        "colab_type": "text"
      },
      "source": [
        "<a href=\"https://colab.research.google.com/github/obeabi/DeepLearning/blob/master/DogsVsCats.ipynb\" target=\"_parent\"><img src=\"https://colab.research.google.com/assets/colab-badge.svg\" alt=\"Open In Colab\"/></a>"
      ]
    },
    {
      "cell_type": "markdown",
      "metadata": {
        "id": "EKk60GNO_AHJ",
        "colab_type": "text"
      },
      "source": [
        "# Written by Abiola Obembe\n",
        "## The Asirra (Dogs VS Cats) dataset\n",
        "### Date 2020-09-19"
      ]
    },
    {
      "cell_type": "code",
      "metadata": {
        "id": "0HFM0Nba_hWz",
        "colab_type": "code",
        "colab": {}
      },
      "source": [
        ""
      ],
      "execution_count": null,
      "outputs": []
    }
  ]
}