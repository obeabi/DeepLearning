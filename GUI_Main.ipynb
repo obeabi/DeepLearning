{
  "nbformat": 4,
  "nbformat_minor": 0,
  "metadata": {
    "colab": {
      "name": "GUI_Main.ipynb",
      "provenance": [],
      "toc_visible": true,
      "authorship_tag": "ABX9TyOeRbf548YXMqGSzveM5T96",
      "include_colab_link": true
    },
    "kernelspec": {
      "name": "python3",
      "display_name": "Python 3"
    }
  },
  "cells": [
    {
      "cell_type": "markdown",
      "metadata": {
        "id": "view-in-github",
        "colab_type": "text"
      },
      "source": [
        "<a href=\"https://colab.research.google.com/github/obeabi/DeepLearning/blob/master/GUI_Main.ipynb\" target=\"_parent\"><img src=\"https://colab.research.google.com/assets/colab-badge.svg\" alt=\"Open In Colab\"/></a>"
      ]
    },
    {
      "cell_type": "markdown",
      "metadata": {
        "id": "xp4shxOIMSaG",
        "colab_type": "text"
      },
      "source": [
        "# GUI Template"
      ]
    },
    {
      "cell_type": "markdown",
      "metadata": {
        "id": "MpOdoa1qMdmc",
        "colab_type": "text"
      },
      "source": [
        "## Import Thinker"
      ]
    },
    {
      "cell_type": "code",
      "metadata": {
        "id": "XxV8CIIWMfwu",
        "colab_type": "code",
        "colab": {
          "base_uri": "https://localhost:8080/",
          "height": 50
        },
        "outputId": "9eb60ddd-403f-4053-e2d3-1721eea00cac"
      },
      "source": [
        "#!pip install python3-tk\n",
        "import tkinter as tk"
      ],
      "execution_count": 2,
      "outputs": [
        {
          "output_type": "stream",
          "text": [
            "\u001b[31mERROR: Could not find a version that satisfies the requirement python3-tk (from versions: none)\u001b[0m\n",
            "\u001b[31mERROR: No matching distribution found for python3-tk\u001b[0m\n"
          ],
          "name": "stdout"
        }
      ]
    },
    {
      "cell_type": "markdown",
      "metadata": {
        "id": "H9b4nmGhNAf-",
        "colab_type": "text"
      },
      "source": [
        "## Create gui.py file"
      ]
    },
    {
      "cell_type": "code",
      "metadata": {
        "id": "nE9Mmnp3NC-N",
        "colab_type": "code",
        "colab": {}
      },
      "source": [
        "rom tkinter import filedialog\n",
        "from tkinter import *\n",
        "from PIL import ImageTk, Image\n",
        "import numpy\n",
        "from keras.models import load_model\n",
        "model = load_model('model1_catsVSdogs_10epoch.h5')\n",
        "#dictionary to label all traffic signs class.\n",
        "classes = { \n",
        "    0:'its a cat',\n",
        "    1:'its a dog',\n",
        " \n",
        "}\n",
        "#initialise GUI\n",
        "top=tk.Tk()\n",
        "top.geometry('800x600')\n",
        "top.title('CatsVSDogs Classification')\n",
        "top.configure(background='#CDCDCD')\n",
        "label=Label(top,background='#CDCDCD', font=('arial',15,'bold'))\n",
        "sign_image = Label(top)\n",
        "def classify(file_path):\n",
        "    global label_packed\n",
        "    image = Image.open(file_path)\n",
        "    image = image.resize((128,128))\n",
        "    image = numpy.expand_dims(image, axis=0)\n",
        "    image = numpy.array(image)\n",
        "    image = image/255\n",
        "    pred = model.predict_classes([image])[0]\n",
        "    sign = classes[pred]\n",
        "    print(sign)\n",
        "    label.configure(foreground='#011638', text=sign) \n",
        "def show_classify_button(file_path):\n",
        "    classify_b=Button(top,text=\"Classify Image\",\n",
        "   command=lambda: classify(file_path),\n",
        "   padx=10,pady=5)\n",
        "    classify_b.configure(background='#364156', foreground='white',\n",
        "font=('arial',10,'bold'))\n",
        "    classify_b.place(relx=0.79,rely=0.46)\n",
        "def upload_image():\n",
        "    try:\n",
        "        file_path=filedialog.askopenfilename()\n",
        "        uploaded=Image.open(file_path)\n",
        "        uploaded.thumbnail(((top.winfo_width()/2.25),\n",
        "    (top.winfo_height()/2.25)))\n",
        "        im=ImageTk.PhotoImage(uploaded)\n",
        "        sign_image.configure(image=im)\n",
        "        sign_image.image=im\n",
        "        label.configure(text='')\n",
        "        show_classify_button(file_path)\n",
        "    except:\n",
        "        pass\n",
        "upload=Button(top,text=\"Upload an image\",command=upload_image,padx=10,pady=5)\n",
        "upload.configure(background='#364156', foreground='white',font=('arial',10,'bold'))\n",
        "upload.pack(side=BOTTOM,pady=50)\n",
        "sign_image.pack(side=BOTTOM,expand=True)\n",
        "label.pack(side=BOTTOM,expand=True)\n",
        "heading = Label(top, text=\"CatsVSDogs Classification\",pady=20, font=('arial',20,'bold'))\n",
        "heading.configure(background='#CDCDCD',foreground='#364156')\n",
        "heading.pack()\n",
        "top.mainloop()"
      ],
      "execution_count": null,
      "outputs": []
    },
    {
      "cell_type": "markdown",
      "metadata": {
        "id": "lgd3wQFNNJu_",
        "colab_type": "text"
      },
      "source": [
        "## Save file and run using"
      ]
    },
    {
      "cell_type": "code",
      "metadata": {
        "id": "NYsSGkSkNOh4",
        "colab_type": "code",
        "colab": {}
      },
      "source": [
        "python3 gui.py"
      ],
      "execution_count": null,
      "outputs": []
    }
  ]
}